{
 "cells": [
  {
   "cell_type": "code",
   "execution_count": null,
   "metadata": {},
   "outputs": [],
   "source": [
    "import pandas as pd \n",
    "import tools\n",
    "\n",
    "sam_cols = [tools.samColumnsDict[x] for x in range(11)]\n",
    "\n",
    "df = pd.read_csv(\"../nsd_alns/01_nsdaln.sam\", comment=\"@\", delimiter=\"\\t\", header=None, usecols=range(11), names=sam_cols)\n",
    "\n",
    "df.head() \n"
   ]
  },
  {
   "cell_type": "code",
   "execution_count": 1,
   "metadata": {},
   "outputs": [
    {
     "name": "stdout",
     "output_type": "stream",
     "text": [
      "finished ../nsd_alns/07_nsdaln.sam\n",
      "finished ../nsd_alns/02_nsdaln.sam\n",
      "finished ../nsd_alns/08_nsdaln.sam\n",
      "finished ../nsd_alns/05_nsdaln.sam\n",
      "finished ../nsd_alns/11_nsdaln.sam\n",
      "finished ../nsd_alns/03_nsdaln.sam\n",
      "finished ../nsd_alns/12_nsdaln.sam\n",
      "finished ../nsd_alns/06_nsdaln.sam\n",
      "finished ../nsd_alns/01_nsdaln.sam\n",
      "finished ../nsd_alns/10_nsdaln.sam\n",
      "finished ../nsd_alns/09_nsdaln.sam\n",
      "finished ../nsd_alns/04_nsdaln.sam\n"
     ]
    }
   ],
   "source": [
    "from tools import globSamFilterer\n",
    "\n",
    "globSamFilterer(\"../nsd_alns/*.sam\")"
   ]
  },
  {
   "cell_type": "code",
   "execution_count": 3,
   "metadata": {},
   "outputs": [
    {
     "data": {
      "text/html": "<div>\n<style scoped>\n    .dataframe tbody tr th:only-of-type {\n        vertical-align: middle;\n    }\n\n    .dataframe tbody tr th {\n        vertical-align: top;\n    }\n\n    .dataframe thead th {\n        text-align: right;\n    }\n</style>\n<table border=\"1\" class=\"dataframe\">\n  <thead>\n    <tr style=\"text-align: right;\">\n      <th></th>\n      <th>QNAME</th>\n      <th>FLAG</th>\n      <th>RNAME</th>\n      <th>POS</th>\n      <th>MAPQ</th>\n      <th>CIGAR</th>\n      <th>RNEXT</th>\n      <th>PNEXT</th>\n      <th>TLEN</th>\n      <th>SEQ</th>\n      <th>QUAL</th>\n    </tr>\n  </thead>\n  <tbody>\n    <tr>\n      <th>0</th>\n      <td>c23f1ed0-a58d-4c88-a4d7-b08c75236f5e</td>\n      <td>4</td>\n      <td>*</td>\n      <td>0</td>\n      <td>0</td>\n      <td>*</td>\n      <td>*</td>\n      <td>0</td>\n      <td>0</td>\n      <td>ACGACGCTCTTCCGATCTATGGATACGACTTGAAGTGCCCGTACGG...</td>\n      <td>:4453$0884=?5=&lt;E=1+*04C=:638).--(&amp;$$\"%)3;</td>\n    </tr>\n    <tr>\n      <th>1</th>\n      <td>47385d15-6767-4ec2-8720-fd7f2555def5</td>\n      <td>4</td>\n      <td>*</td>\n      <td>0</td>\n      <td>0</td>\n      <td>*</td>\n      <td>*</td>\n      <td>0</td>\n      <td>0</td>\n      <td>CAAGGTCATGAGTTCGATCCCCGTACGGGCCACCAAGTCGTATCCC...</td>\n      <td>=./+-6*$$)%-0*$'&amp;5</td>\n    </tr>\n    <tr>\n      <th>2</th>\n      <td>d770ee0f-4bb3-482a-bae2-ba05320f21cf</td>\n      <td>16</td>\n      <td>Copy</td>\n      <td>703</td>\n      <td>60</td>\n      <td>36M2I42M1D3M1D27M1D16M36S</td>\n      <td>*</td>\n      <td>0</td>\n      <td>0</td>\n      <td>GACACAACTGTGTTCACTAGCAACCCCAGACAGACAATTCATGGTG...</td>\n      <td>&lt;&gt;9;.A6B39</td>\n    </tr>\n    <tr>\n      <th>3</th>\n      <td>40f4ae24-3288-4e3d-b5cd-58ca591d059b</td>\n      <td>4</td>\n      <td>*</td>\n      <td>0</td>\n      <td>0</td>\n      <td>*</td>\n      <td>*</td>\n      <td>0</td>\n      <td>0</td>\n      <td>GACACAACCTTTGTGTTCACTAGCAACCTCAAGCGAACGCATGGTG...</td>\n      <td>=5,%&amp;$#(%*441)*&amp;0610-)0226NIC;45&amp;1*)+%(*45),3*...</td>\n    </tr>\n    <tr>\n      <th>4</th>\n      <td>e7ff24d4-f51f-4957-bf43-212787419b31</td>\n      <td>4</td>\n      <td>*</td>\n      <td>0</td>\n      <td>0</td>\n      <td>*</td>\n      <td>*</td>\n      <td>0</td>\n      <td>0</td>\n      <td>GGCACAACTGTGTTCACTGCAACCTCAGAAACGGAGCACCATAGTG...</td>\n      <td>$&amp;++,(((.44)155%&amp;'\"'+-:19(2&amp;31,1$&amp;%#%0.0--'','...</td>\n    </tr>\n  </tbody>\n</table>\n</div>",
      "text/plain": "                                  QNAME  FLAG RNAME  POS  MAPQ  \\\n0  c23f1ed0-a58d-4c88-a4d7-b08c75236f5e     4     *    0     0   \n1  47385d15-6767-4ec2-8720-fd7f2555def5     4     *    0     0   \n2  d770ee0f-4bb3-482a-bae2-ba05320f21cf    16  Copy  703    60   \n3  40f4ae24-3288-4e3d-b5cd-58ca591d059b     4     *    0     0   \n4  e7ff24d4-f51f-4957-bf43-212787419b31     4     *    0     0   \n\n                       CIGAR RNEXT  PNEXT  TLEN  \\\n0                          *     *      0     0   \n1                          *     *      0     0   \n2  36M2I42M1D3M1D27M1D16M36S     *      0     0   \n3                          *     *      0     0   \n4                          *     *      0     0   \n\n                                                 SEQ  \\\n0  ACGACGCTCTTCCGATCTATGGATACGACTTGAAGTGCCCGTACGG...   \n1  CAAGGTCATGAGTTCGATCCCCGTACGGGCCACCAAGTCGTATCCC...   \n2  GACACAACTGTGTTCACTAGCAACCCCAGACAGACAATTCATGGTG...   \n3  GACACAACCTTTGTGTTCACTAGCAACCTCAAGCGAACGCATGGTG...   \n4  GGCACAACTGTGTTCACTGCAACCTCAGAAACGGAGCACCATAGTG...   \n\n                                                QUAL  \n0          :4453$0884=?5=<E=1+*04C=:638).--(&$$\"%)3;  \n1                                 =./+-6*$$)%-0*$'&5  \n2                                         <>9;.A6B39  \n3  =5,%&$#(%*441)*&0610-)0226NIC;45&1*)+%(*45),3*...  \n4  $&++,(((.44)155%&'\"'+-:19(2&31,1$&%#%0.0--'','...  "
     },
     "execution_count": 3,
     "metadata": {},
     "output_type": "execute_result"
    }
   ],
   "source": [
    "import pandas as pd \n",
    "import tools\n",
    "\n",
    "\n",
    "sam_cols = [tools.samColumnsDict[x] for x in range(11)]\n",
    "\n",
    "test = \"../nsd_alns/01_nsdaln.sam\"\n",
    "\n",
    "df = pd.read_csv(test, comment=\"@\", delimiter=\"\\t\", header=None, usecols=range(11), names=sam_cols)\n",
    "\n",
    "df.head() "
   ]
  },
  {
   "cell_type": "code",
   "execution_count": 14,
   "metadata": {},
   "outputs": [
    {
     "data": {
      "text/plain": "347585"
     },
     "execution_count": 14,
     "metadata": {},
     "output_type": "execute_result"
    }
   ],
   "source": [
    "is_mapped = df.FLAG.isin([0,16])\n",
    "\n",
    "len(df[is_mapped])\n",
    "\n",
    "len(df)\n"
   ]
  },
  {
   "cell_type": "code",
   "execution_count": 2,
   "metadata": {},
   "outputs": [
    {
     "data": {
      "text/plain": "pandas.core.frame.DataFrame"
     },
     "execution_count": 2,
     "metadata": {},
     "output_type": "execute_result"
    }
   ],
   "source": [
    "from analysis import samReader\n",
    "\n",
    "data = samReader(\"../nsd_alns/01_nsdaln.sam\")\n",
    "type(data)"
   ]
  },
  {
   "cell_type": "code",
   "execution_count": 18,
   "metadata": {},
   "outputs": [
    {
     "data": {
      "text/plain": "pandas.core.frame.DataFrame"
     },
     "execution_count": 18,
     "metadata": {},
     "output_type": "execute_result"
    }
   ],
   "source": [
    "import analysis, tools\n",
    "\n",
    "data = tools.samReader(\"../nsd_alns/01_nsdaln.sam\")\n",
    "type(data)\n",
    "\n"
   ]
  },
  {
   "cell_type": "code",
   "execution_count": 7,
   "metadata": {},
   "outputs": [
    {
     "data": {
      "text/plain": "0.21371175395946315"
     },
     "execution_count": 7,
     "metadata": {},
     "output_type": "execute_result"
    }
   ],
   "source": [
    "analysis.findPercentMapped(data)"
   ]
  },
  {
   "cell_type": "code",
   "execution_count": 14,
   "metadata": {},
   "outputs": [
    {
     "data": {
      "text/plain": "0.017981213228418946"
     },
     "execution_count": 14,
     "metadata": {},
     "output_type": "execute_result"
    }
   ],
   "source": [
    "analysis.findMismappedFivePrime(data)"
   ]
  },
  {
   "cell_type": "code",
   "execution_count": 35,
   "metadata": {},
   "outputs": [
    {
     "data": {
      "text/plain": "347585"
     },
     "execution_count": 35,
     "metadata": {},
     "output_type": "execute_result"
    }
   ],
   "source": [
    "df = tools.filterProperMapped(data)\n",
    "len(data)"
   ]
  },
  {
   "cell_type": "code",
   "execution_count": 38,
   "metadata": {},
   "outputs": [
    {
     "data": {
      "text/plain": "0.09711321005720368"
     },
     "execution_count": 38,
     "metadata": {},
     "output_type": "execute_result"
    }
   ],
   "source": [
    "analysis.percentProperMappedFullLength(data)"
   ]
  },
  {
   "cell_type": "code",
   "execution_count": 49,
   "metadata": {},
   "outputs": [],
   "source": [
    "d = analysis.summarizeSAM(data)"
   ]
  },
  {
   "cell_type": "code",
   "execution_count": 52,
   "metadata": {},
   "outputs": [
    {
     "data": {
      "text/plain": "dict_items([('perMapped', 0.21371175395946315), ('perMisMappedFive', 0.017981213228418946), ('totalReads', 347585), ('medLenMapped', 159.0), ('stdevLenMapped', 171.42381304493213), ('medLenTotal', 94.0), ('stdevLenTotal', 119.6674011422739), ('meanLenMapped', 235.22721214813618), ('meanLenTotal', 130.64933757210466), ('perMappedLongerCutoff', 0.11906345616602368), ('perMappedFullLength', 0.09711321005720368)])"
     },
     "execution_count": 52,
     "metadata": {},
     "output_type": "execute_result"
    }
   ],
   "source": [
    "d.items()"
   ]
  },
  {
   "cell_type": "code",
   "execution_count": 65,
   "metadata": {},
   "outputs": [
    {
     "data": {
      "text/html": "<div>\n<style scoped>\n    .dataframe tbody tr th:only-of-type {\n        vertical-align: middle;\n    }\n\n    .dataframe tbody tr th {\n        vertical-align: top;\n    }\n\n    .dataframe thead th {\n        text-align: right;\n    }\n</style>\n<table border=\"1\" class=\"dataframe\">\n  <thead>\n    <tr style=\"text-align: right;\">\n      <th></th>\n      <th>01_nsdaln.sam</th>\n      <th>02_nsdaln.sam</th>\n      <th>03_nsdaln.sam</th>\n      <th>04_nsdaln.sam</th>\n      <th>05_nsdaln.sam</th>\n      <th>06_nsdaln.sam</th>\n      <th>07_nsdaln.sam</th>\n      <th>08_nsdaln.sam</th>\n      <th>09_nsdaln.sam</th>\n      <th>10_nsdaln.sam</th>\n      <th>11_nsdaln.sam</th>\n      <th>12_nsdaln.sam</th>\n    </tr>\n  </thead>\n  <tbody>\n    <tr>\n      <th>perMapped</th>\n      <td>0.213770</td>\n      <td>0.131382</td>\n      <td>0.082487</td>\n      <td>0.062630</td>\n      <td>0.149881</td>\n      <td>0.219480</td>\n      <td>0.215245</td>\n      <td>0.152918</td>\n      <td>0.135540</td>\n      <td>0.220245</td>\n      <td>0.226101</td>\n      <td>0.349465</td>\n    </tr>\n    <tr>\n      <th>perMisMappedFive</th>\n      <td>0.017999</td>\n      <td>0.010499</td>\n      <td>0.005714</td>\n      <td>0.004853</td>\n      <td>0.009215</td>\n      <td>0.018521</td>\n      <td>0.012271</td>\n      <td>0.011308</td>\n      <td>0.007866</td>\n      <td>0.018981</td>\n      <td>0.013369</td>\n      <td>0.028678</td>\n    </tr>\n    <tr>\n      <th>totalReads</th>\n      <td>352066.000000</td>\n      <td>336028.000000</td>\n      <td>308012.000000</td>\n      <td>376020.000000</td>\n      <td>388047.000000</td>\n      <td>200041.000000</td>\n      <td>344055.000000</td>\n      <td>372050.000000</td>\n      <td>368038.000000</td>\n      <td>252047.000000</td>\n      <td>376080.000000</td>\n      <td>216056.000000</td>\n    </tr>\n    <tr>\n      <th>medLenMapped</th>\n      <td>159.000000</td>\n      <td>148.000000</td>\n      <td>131.000000</td>\n      <td>167.000000</td>\n      <td>159.000000</td>\n      <td>284.000000</td>\n      <td>144.000000</td>\n      <td>159.000000</td>\n      <td>136.000000</td>\n      <td>196.000000</td>\n      <td>169.000000</td>\n      <td>281.000000</td>\n    </tr>\n    <tr>\n      <th>stdevLenMapped</th>\n      <td>171.410363</td>\n      <td>160.632242</td>\n      <td>112.487479</td>\n      <td>188.418295</td>\n      <td>180.417731</td>\n      <td>238.383432</td>\n      <td>140.626414</td>\n      <td>164.823066</td>\n      <td>123.350257</td>\n      <td>214.308366</td>\n      <td>193.284284</td>\n      <td>232.672449</td>\n    </tr>\n    <tr>\n      <th>medLenTotal</th>\n      <td>94.000000</td>\n      <td>78.000000</td>\n      <td>69.000000</td>\n      <td>70.000000</td>\n      <td>87.000000</td>\n      <td>84.000000</td>\n      <td>102.000000</td>\n      <td>79.000000</td>\n      <td>80.000000</td>\n      <td>99.000000</td>\n      <td>95.000000</td>\n      <td>109.000000</td>\n    </tr>\n    <tr>\n      <th>stdevLenTotal</th>\n      <td>119.663386</td>\n      <td>95.499680</td>\n      <td>62.366551</td>\n      <td>80.439146</td>\n      <td>110.877973</td>\n      <td>191.444216</td>\n      <td>101.287871</td>\n      <td>103.312338</td>\n      <td>80.275465</td>\n      <td>158.865617</td>\n      <td>137.907142</td>\n      <td>222.415191</td>\n    </tr>\n    <tr>\n      <th>meanLenMapped</th>\n      <td>235.221562</td>\n      <td>219.939567</td>\n      <td>176.567206</td>\n      <td>253.328365</td>\n      <td>239.313354</td>\n      <td>381.076779</td>\n      <td>201.803527</td>\n      <td>228.729791</td>\n      <td>187.233642</td>\n      <td>309.268573</td>\n      <td>259.400684</td>\n      <td>377.649873</td>\n    </tr>\n    <tr>\n      <th>meanLenTotal</th>\n      <td>130.657539</td>\n      <td>111.313849</td>\n      <td>93.327101</td>\n      <td>97.923164</td>\n      <td>118.964172</td>\n      <td>161.678791</td>\n      <td>129.394725</td>\n      <td>117.153724</td>\n      <td>108.041936</td>\n      <td>151.121402</td>\n      <td>139.179919</td>\n      <td>208.586843</td>\n    </tr>\n    <tr>\n      <th>perMappedLongerCutoff</th>\n      <td>0.119104</td>\n      <td>0.098666</td>\n      <td>0.034741</td>\n      <td>0.158825</td>\n      <td>0.136150</td>\n      <td>0.416209</td>\n      <td>0.066484</td>\n      <td>0.108701</td>\n      <td>0.046699</td>\n      <td>0.257092</td>\n      <td>0.170929</td>\n      <td>0.396171</td>\n    </tr>\n    <tr>\n      <th>perMappedFullLength</th>\n      <td>0.097072</td>\n      <td>0.077601</td>\n      <td>0.022976</td>\n      <td>0.135554</td>\n      <td>0.116211</td>\n      <td>0.386096</td>\n      <td>0.051944</td>\n      <td>0.083729</td>\n      <td>0.033864</td>\n      <td>0.225256</td>\n      <td>0.146399</td>\n      <td>0.360032</td>\n    </tr>\n  </tbody>\n</table>\n</div>",
      "text/plain": "                       01_nsdaln.sam  02_nsdaln.sam  03_nsdaln.sam  \\\nperMapped                   0.213770       0.131382       0.082487   \nperMisMappedFive            0.017999       0.010499       0.005714   \ntotalReads             352066.000000  336028.000000  308012.000000   \nmedLenMapped              159.000000     148.000000     131.000000   \nstdevLenMapped            171.410363     160.632242     112.487479   \nmedLenTotal                94.000000      78.000000      69.000000   \nstdevLenTotal             119.663386      95.499680      62.366551   \nmeanLenMapped             235.221562     219.939567     176.567206   \nmeanLenTotal              130.657539     111.313849      93.327101   \nperMappedLongerCutoff       0.119104       0.098666       0.034741   \nperMappedFullLength         0.097072       0.077601       0.022976   \n\n                       04_nsdaln.sam  05_nsdaln.sam  06_nsdaln.sam  \\\nperMapped                   0.062630       0.149881       0.219480   \nperMisMappedFive            0.004853       0.009215       0.018521   \ntotalReads             376020.000000  388047.000000  200041.000000   \nmedLenMapped              167.000000     159.000000     284.000000   \nstdevLenMapped            188.418295     180.417731     238.383432   \nmedLenTotal                70.000000      87.000000      84.000000   \nstdevLenTotal              80.439146     110.877973     191.444216   \nmeanLenMapped             253.328365     239.313354     381.076779   \nmeanLenTotal               97.923164     118.964172     161.678791   \nperMappedLongerCutoff       0.158825       0.136150       0.416209   \nperMappedFullLength         0.135554       0.116211       0.386096   \n\n                       07_nsdaln.sam  08_nsdaln.sam  09_nsdaln.sam  \\\nperMapped                   0.215245       0.152918       0.135540   \nperMisMappedFive            0.012271       0.011308       0.007866   \ntotalReads             344055.000000  372050.000000  368038.000000   \nmedLenMapped              144.000000     159.000000     136.000000   \nstdevLenMapped            140.626414     164.823066     123.350257   \nmedLenTotal               102.000000      79.000000      80.000000   \nstdevLenTotal             101.287871     103.312338      80.275465   \nmeanLenMapped             201.803527     228.729791     187.233642   \nmeanLenTotal              129.394725     117.153724     108.041936   \nperMappedLongerCutoff       0.066484       0.108701       0.046699   \nperMappedFullLength         0.051944       0.083729       0.033864   \n\n                       10_nsdaln.sam  11_nsdaln.sam  12_nsdaln.sam  \nperMapped                   0.220245       0.226101       0.349465  \nperMisMappedFive            0.018981       0.013369       0.028678  \ntotalReads             252047.000000  376080.000000  216056.000000  \nmedLenMapped              196.000000     169.000000     281.000000  \nstdevLenMapped            214.308366     193.284284     232.672449  \nmedLenTotal                99.000000      95.000000     109.000000  \nstdevLenTotal             158.865617     137.907142     222.415191  \nmeanLenMapped             309.268573     259.400684     377.649873  \nmeanLenTotal              151.121402     139.179919     208.586843  \nperMappedLongerCutoff       0.257092       0.170929       0.396171  \nperMappedFullLength         0.225256       0.146399       0.360032  "
     },
     "execution_count": 65,
     "metadata": {},
     "output_type": "execute_result"
    }
   ],
   "source": [
    "from glob import glob\n",
    "test = glob(\"../nsd_alns/*.sam\")\n",
    "\n",
    "analysis.summarizeSAMFiles(test)"
   ]
  },
  {
   "cell_type": "code",
   "execution_count": null,
   "metadata": {},
   "outputs": [],
   "source": []
  }
 ],
 "metadata": {
  "kernelspec": {
   "display_name": "Python 3.9.1 64-bit",
   "metadata": {
    "interpreter": {
     "hash": "aee8b7b246df8f9039afb4144a1f6fd8d2ca17a180786b69acc140d282b71a49"
    }
   },
   "name": "python3"
  },
  "language_info": {
   "codemirror_mode": {
    "name": "ipython",
    "version": 3
   },
   "file_extension": ".py",
   "mimetype": "text/x-python",
   "name": "python",
   "nbconvert_exporter": "python",
   "pygments_lexer": "ipython3",
   "version": "3.9.1"
  },
  "orig_nbformat": 2
 },
 "nbformat": 4,
 "nbformat_minor": 2
}