{
 "cells": [
  {
   "cell_type": "code",
   "execution_count": 2,
   "metadata": {},
   "outputs": [],
   "source": [
    "# General analysis of samples from TLS137 and TLS129\n",
    "import pandas as pd\n",
    "from analysis import summarizeSAMFiles\n",
    "from glob import glob\n",
    "\n",
    "summaryTLS137 = summarizeSAMFiles(glob(\"../nsd_alns/*.sam\"))\n",
    "summaryTLS129 = summarizeSAMFiles(glob(\"../TLS129_nsd_alns/*.sam\"))\n",
    "\n",
    "#save to csv\n",
    "summaryTLS137.to_csv(\"TLS137_Summary.csv\")\n",
    "summaryTLS129.to_csv(\"TLS129_Summary.csv\")\n"
   ]
  },
  {
   "cell_type": "code",
   "execution_count": null,
   "metadata": {},
   "outputs": [],
   "source": [
    "# Create csv files that are ready for R notebook analysis\n",
    "from Rprepper import exportForRAnalysis\n",
    "from glob import glob\n",
    "\n",
    "#exportForRAnalysis(glob(\"../nsd_alns/*.sam\"), \"TLS137_Rdf.csv\")\n",
    "#exportForRAnalysis(glob(\"../TLS129_nsd_alns/*.sam\"), \"TLS129_Rdf.csv\")\n",
    "\n",
    "\n"
   ]
  }
 ],
 "metadata": {
  "kernelspec": {
   "display_name": "Python 3.9.1 64-bit",
   "metadata": {
    "interpreter": {
     "hash": "aee8b7b246df8f9039afb4144a1f6fd8d2ca17a180786b69acc140d282b71a49"
    }
   },
   "name": "python3"
  },
  "language_info": {
   "codemirror_mode": {
    "name": "ipython",
    "version": 3
   },
   "file_extension": ".py",
   "mimetype": "text/x-python",
   "name": "python",
   "nbconvert_exporter": "python",
   "pygments_lexer": "ipython3",
   "version": "3.9.1"
  },
  "orig_nbformat": 2
 },
 "nbformat": 4,
 "nbformat_minor": 2
}