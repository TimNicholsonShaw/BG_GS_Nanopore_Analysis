{
 "cells": [
  {
   "cell_type": "code",
   "execution_count": null,
   "metadata": {},
   "outputs": [],
   "source": [
    "import pandas as pd \n",
    "import tools\n",
    "\n",
    "sam_cols = [tools.samColumnsDict[x] for x in range(11)]\n",
    "\n",
    "df = pd.read_csv(\"../nsd_alns/01_nsdaln.sam\", comment=\"@\", delimiter=\"\\t\", header=None, usecols=range(11), names=sam_cols)\n",
    "\n",
    "df.head() \n"
   ]
  },
  {
   "cell_type": "code",
   "execution_count": null,
   "metadata": {},
   "outputs": [],
   "source": [
    "import csv\n",
    "file_loc = \"../nsd_alns/01_nsdaln.sam\"\n",
    "\n",
    "with open(file_loc,\"r\") as reader, open(file_loc+\".filtered\", 'w') as writer:\n",
    "\n",
    "    reader = csv.reader(reader, delimiter=\"\\t\", quotechar=\"@\")\n",
    "    reader.__next__() #Skips comments\n",
    "\n",
    "    writer = csv.writer(writer, delimiter=\"\\t\")\n",
    "    for line in reader:\n",
    "        if line[1]=='0' or line[1]=='16':\n",
    "            writer.writerow(line[:11] + \n",
    "                [tools.rightFinder(int(line[3]),line[5])] +\n",
    "                [tools.lengthFinder(line[5])]\n",
    "                )        "
   ]
  }
 ],
 "metadata": {
  "kernelspec": {
   "display_name": "Python 3.9.1 64-bit",
   "metadata": {
    "interpreter": {
     "hash": "aee8b7b246df8f9039afb4144a1f6fd8d2ca17a180786b69acc140d282b71a49"
    }
   },
   "name": "python3"
  },
  "language_info": {
   "codemirror_mode": {
    "name": "ipython",
    "version": 3
   },
   "file_extension": ".py",
   "mimetype": "text/x-python",
   "name": "python",
   "nbconvert_exporter": "python",
   "pygments_lexer": "ipython3",
   "version": "3.9.1"
  },
  "orig_nbformat": 2
 },
 "nbformat": 4,
 "nbformat_minor": 2
}