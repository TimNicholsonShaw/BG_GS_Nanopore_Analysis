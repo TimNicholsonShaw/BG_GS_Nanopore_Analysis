{
 "cells": [
  {
   "cell_type": "code",
   "execution_count": 18,
   "metadata": {},
   "outputs": [
    {
     "name": "stdout",
     "output_type": "stream",
     "text": [
      "../nsd_alns/01_nsdaln.sam -> bar01\n",
      "../nsd_alns/02_nsdaln.sam -> bar02\n",
      "../nsd_alns/03_nsdaln.sam -> bar03\n",
      "../nsd_alns/04_nsdaln.sam -> bar04\n",
      "../nsd_alns/05_nsdaln.sam -> bar05\n",
      "../nsd_alns/06_nsdaln.sam -> bar06\n",
      "../nsd_alns/07_nsdaln.sam -> bar07\n",
      "../nsd_alns/08_nsdaln.sam -> bar08\n",
      "../nsd_alns/09_nsdaln.sam -> bar09\n",
      "../nsd_alns/10_nsdaln.sam -> bar10\n",
      "../nsd_alns/11_nsdaln.sam -> bar11\n",
      "../nsd_alns/12_nsdaln.sam -> bar12\n"
     ]
    },
    {
     "data": {
      "text/html": "<div>\n<style scoped>\n    .dataframe tbody tr th:only-of-type {\n        vertical-align: middle;\n    }\n\n    .dataframe tbody tr th {\n        vertical-align: top;\n    }\n\n    .dataframe thead th {\n        text-align: right;\n    }\n</style>\n<table border=\"1\" class=\"dataframe\">\n  <thead>\n    <tr style=\"text-align: right;\">\n      <th></th>\n      <th>QNAME</th>\n      <th>FLAG</th>\n      <th>RNAME</th>\n      <th>POS</th>\n      <th>MAPQ</th>\n      <th>CIGAR</th>\n      <th>RNEXT</th>\n      <th>PNEXT</th>\n      <th>TLEN</th>\n      <th>SEQ</th>\n      <th>QUAL</th>\n      <th>RIGHT</th>\n      <th>LENGTH</th>\n      <th>id</th>\n      <th>condition</th>\n      <th>substrate</th>\n      <th>replicate</th>\n      <th>PNK</th>\n    </tr>\n  </thead>\n  <tbody>\n    <tr>\n      <th>2</th>\n      <td>d770ee0f-4bb3-482a-bae2-ba05320f21cf</td>\n      <td>16</td>\n      <td>Copy</td>\n      <td>703</td>\n      <td>60</td>\n      <td>36M2I42M1D3M1D27M1D16M36S</td>\n      <td>*</td>\n      <td>0</td>\n      <td>0</td>\n      <td>GACACAACTGTGTTCACTAGCAACCCCAGACAGACAATTCATGGTG...</td>\n      <td>&lt;&gt;9;.A6B39</td>\n      <td>830</td>\n      <td>126</td>\n      <td>bar01</td>\n      <td>siLuc</td>\n      <td>NSD</td>\n      <td>1</td>\n      <td>-</td>\n    </tr>\n    <tr>\n      <th>5</th>\n      <td>72dff230-ed1c-4491-a2ac-80de8ef2d014</td>\n      <td>0</td>\n      <td>Copy</td>\n      <td>703</td>\n      <td>60</td>\n      <td>44M2D12M1D29M4I42M130N34M1I19M1D3M2D9M38S</td>\n      <td>*</td>\n      <td>0</td>\n      <td>0</td>\n      <td>GACACAACTGTGTTCACTAGCAACCTCAAACGAACACCGTGGTGCC...</td>\n      <td>C4:9&gt;03</td>\n      <td>1031</td>\n      <td>197</td>\n      <td>bar01</td>\n      <td>siLuc</td>\n      <td>NSD</td>\n      <td>1</td>\n      <td>-</td>\n    </tr>\n    <tr>\n      <th>6</th>\n      <td>072aa80d-7604-42b6-85a2-613b1dd886cc</td>\n      <td>16</td>\n      <td>Copy</td>\n      <td>703</td>\n      <td>60</td>\n      <td>14M1I27M2I1M1D22M1I2M1D13M4D13M2D11M2D20M1I41M...</td>\n      <td>*</td>\n      <td>0</td>\n      <td>0</td>\n      <td>GACACAACTGTGTTCCACTAGCAACCTCAAACAAACACCATGCAGG...</td>\n      <td>E&gt;8.,&gt;76454,%#$#(0'2457,/*$$./C2CHE?F&gt;:A51%&amp;,7...</td>\n      <td>901</td>\n      <td>191</td>\n      <td>bar01</td>\n      <td>siLuc</td>\n      <td>NSD</td>\n      <td>1</td>\n      <td>-</td>\n    </tr>\n    <tr>\n      <th>13</th>\n      <td>38339752-84d5-42ad-99cf-76b1c78dce21</td>\n      <td>16</td>\n      <td>Copy</td>\n      <td>703</td>\n      <td>60</td>\n      <td>68M1D10M1I31M1D11M132N1M2D5M1I13M1D4M1D6M1I19M...</td>\n      <td>*</td>\n      <td>0</td>\n      <td>0</td>\n      <td>GACACAACTGTGTTCACTAGCAACCTCAAACAGACACCATGGTGCA...</td>\n      <td>31.8:7*;+..52599('1442,63%1/:857*8;=0)(%*87?;?...</td>\n      <td>1210</td>\n      <td>362</td>\n      <td>bar01</td>\n      <td>siLuc</td>\n      <td>NSD</td>\n      <td>1</td>\n      <td>-</td>\n    </tr>\n    <tr>\n      <th>14</th>\n      <td>add28e91-3cef-4e28-ae01-f2f97d54b3d4</td>\n      <td>0</td>\n      <td>Copy</td>\n      <td>703</td>\n      <td>60</td>\n      <td>46M1I59M3S</td>\n      <td>*</td>\n      <td>0</td>\n      <td>0</td>\n      <td>GACACAACTGTGTTCACTAGCAACCTCAAACGAACACCATGGTGCA...</td>\n      <td>A&gt;BAD02C</td>\n      <td>808</td>\n      <td>106</td>\n      <td>bar01</td>\n      <td>siLuc</td>\n      <td>NSD</td>\n      <td>1</td>\n      <td>-</td>\n    </tr>\n    <tr>\n      <th>...</th>\n      <td>...</td>\n      <td>...</td>\n      <td>...</td>\n      <td>...</td>\n      <td>...</td>\n      <td>...</td>\n      <td>...</td>\n      <td>...</td>\n      <td>...</td>\n      <td>...</td>\n      <td>...</td>\n      <td>...</td>\n      <td>...</td>\n      <td>...</td>\n      <td>...</td>\n      <td>...</td>\n      <td>...</td>\n      <td>...</td>\n    </tr>\n    <tr>\n      <th>216040</th>\n      <td>9005578e-c52f-448b-bf27-ac88d15abdbd</td>\n      <td>0</td>\n      <td>Copy</td>\n      <td>710</td>\n      <td>5</td>\n      <td>9S16M1D6M1I3M3I15M1D17M2I9M1I14M1I17M2D20M1I1M...</td>\n      <td>*</td>\n      <td>0</td>\n      <td>0</td>\n      <td>GACGCAACGCTGTGTTCACTAGCAACGCAAACCAGGCTGCTCCAGA...</td>\n      <td>&gt;&lt;7'2/13,'(+4&lt;&lt;D&gt;99+$/1670$.342:3+3+)#$$(%%$.$...</td>\n      <td>1165</td>\n      <td>309</td>\n      <td>bar12</td>\n      <td>siA1</td>\n      <td>NSD</td>\n      <td>3</td>\n      <td>+</td>\n    </tr>\n    <tr>\n      <th>216044</th>\n      <td>47b3b34f-6035-4b64-a224-9c5129e3dcb3</td>\n      <td>0</td>\n      <td>Copy</td>\n      <td>703</td>\n      <td>60</td>\n      <td>27M1D34M1I68M130N15M1D21M1S</td>\n      <td>*</td>\n      <td>0</td>\n      <td>0</td>\n      <td>GACACAACTGTGTTCACTAGCAACCTCAGCAGACACCATGGTGCAC...</td>\n      <td>)))9=),98;A:&gt;A&lt;00/214+,A:5(*#'+-+24888A./(::5;...</td>\n      <td>1000</td>\n      <td>166</td>\n      <td>bar12</td>\n      <td>siA1</td>\n      <td>NSD</td>\n      <td>3</td>\n      <td>+</td>\n    </tr>\n    <tr>\n      <th>216050</th>\n      <td>12467719-33a2-45d9-a16a-faebd6ab13ea</td>\n      <td>0</td>\n      <td>Copy</td>\n      <td>708</td>\n      <td>28</td>\n      <td>41M3I7M1D4M2I13M2I1M1I6M1D9M1I9M1I11M1I11M2I9M...</td>\n      <td>*</td>\n      <td>0</td>\n      <td>0</td>\n      <td>AACTGTGTTCACTAGCAGCCTCAAACAGACACCATGGTGCACACCC...</td>\n      <td>')/0317AG</td>\n      <td>1081</td>\n      <td>253</td>\n      <td>bar12</td>\n      <td>siA1</td>\n      <td>NSD</td>\n      <td>3</td>\n      <td>+</td>\n    </tr>\n    <tr>\n      <th>216051</th>\n      <td>392c20b6-72c9-4f84-800d-e97c6900886b</td>\n      <td>0</td>\n      <td>Copy</td>\n      <td>703</td>\n      <td>60</td>\n      <td>31M1I47M1D47M1I4M130N1I5M3D6M2I3M1I39M1I25M1D3...</td>\n      <td>*</td>\n      <td>0</td>\n      <td>0</td>\n      <td>GACACGGCTGTGTTCACTGGCGGCCTCAAACGAGACACCATGGTGC...</td>\n      <td>,*,-.#$'&amp;).)2:2//%%&amp;-#$*+02%%#)&amp;$/03%%;5&gt;34=14...</td>\n      <td>2323</td>\n      <td>637</td>\n      <td>bar12</td>\n      <td>siA1</td>\n      <td>NSD</td>\n      <td>3</td>\n      <td>+</td>\n    </tr>\n    <tr>\n      <th>216054</th>\n      <td>ee3c3a33-a1e8-4542-b008-7717b5d99286</td>\n      <td>16</td>\n      <td>Copy</td>\n      <td>703</td>\n      <td>60</td>\n      <td>1S23M1I22M1I40M1I5M4D26M1I10M130N18M30S</td>\n      <td>*</td>\n      <td>0</td>\n      <td>0</td>\n      <td>GGACACAACTGTGTTCACTAGCAACCCTCAAACAGACACCATGGTG...</td>\n      <td>&amp;3;:</td>\n      <td>981</td>\n      <td>148</td>\n      <td>bar12</td>\n      <td>siA1</td>\n      <td>NSD</td>\n      <td>3</td>\n      <td>+</td>\n    </tr>\n  </tbody>\n</table>\n<p>616178 rows × 18 columns</p>\n</div>",
      "text/plain": "                                       QNAME  FLAG  ... replicate  PNK\n2       d770ee0f-4bb3-482a-bae2-ba05320f21cf    16  ...         1    -\n5       72dff230-ed1c-4491-a2ac-80de8ef2d014     0  ...         1    -\n6       072aa80d-7604-42b6-85a2-613b1dd886cc    16  ...         1    -\n13      38339752-84d5-42ad-99cf-76b1c78dce21    16  ...         1    -\n14      add28e91-3cef-4e28-ae01-f2f97d54b3d4     0  ...         1    -\n...                                      ...   ...  ...       ...  ...\n216040  9005578e-c52f-448b-bf27-ac88d15abdbd     0  ...         3    +\n216044  47b3b34f-6035-4b64-a224-9c5129e3dcb3     0  ...         3    +\n216050  12467719-33a2-45d9-a16a-faebd6ab13ea     0  ...         3    +\n216051  392c20b6-72c9-4f84-800d-e97c6900886b     0  ...         3    +\n216054  ee3c3a33-a1e8-4542-b008-7717b5d99286    16  ...         3    +\n\n[616178 rows x 18 columns]"
     },
     "execution_count": 18,
     "metadata": {},
     "output_type": "execute_result"
    }
   ],
   "source": [
    "from Rprepper import exportForRAnalysis\n",
    "\n",
    "TLS137Files = [\"../nsd_alns/01_nsdaln.sam\",\n",
    "                \"../nsd_alns/02_nsdaln.sam\",\n",
    "                \"../nsd_alns/03_nsdaln.sam\",\n",
    "                \"../nsd_alns/04_nsdaln.sam\",\n",
    "                \"../nsd_alns/05_nsdaln.sam\",\n",
    "                \"../nsd_alns/06_nsdaln.sam\",\n",
    "                \"../nsd_alns/07_nsdaln.sam\",\n",
    "                \"../nsd_alns/08_nsdaln.sam\",\n",
    "                \"../nsd_alns/09_nsdaln.sam\",\n",
    "                \"../nsd_alns/10_nsdaln.sam\",\n",
    "                \"../nsd_alns/11_nsdaln.sam\",\n",
    "                \"../nsd_alns/12_nsdaln.sam\"]\n",
    "\n",
    "exportForRAnalysis(TLS137Files, \"TLS137_Rdf.csv\", metadata=\"metadata.csv\")"
   ]
  },
  {
   "cell_type": "code",
   "execution_count": null,
   "metadata": {},
   "outputs": [],
   "source": [
    "# Create csv files that are ready for R notebook analysis\n",
    "from Rprepper import exportForRAnalysis\n",
    "from glob import glob\n",
    "\n",
    "#exportForRAnalysis(glob(\"../nsd_alns/*.sam\"), \"TLS137_Rdf.csv\")\n",
    "#exportForRAnalysis(glob(\"../TLS129_nsd_alns/*.sam\"), \"TLS129_Rdf.csv\")\n",
    "\n",
    "\n"
   ]
  },
  {
   "cell_type": "code",
   "execution_count": 15,
   "metadata": {},
   "outputs": [
    {
     "data": {
      "text/plain": "'bar01'"
     },
     "execution_count": 15,
     "metadata": {},
     "output_type": "execute_result"
    }
   ],
   "source": [
    "import pandas as pd\n",
    "\n",
    "df = pd.read_csv(\"metadata.csv\")\n",
    "df.columns\n",
    "\n",
    "df.loc[0]['id']\n"
   ]
  },
  {
   "cell_type": "code",
   "execution_count": 1,
   "metadata": {},
   "outputs": [
    {
     "name": "stdout",
     "output_type": "stream",
     "text": [
      "../TLS129_nsd_alns/01_nsdaln.sam -> bar01\n",
      "../TLS129_nsd_alns/02_nsdaln.sam -> bar02\n",
      "../TLS129_nsd_alns/03_nsdaln.sam -> bar03\n",
      "../TLS129_nsd_alns/04_nsdaln.sam -> bar04\n",
      "../TLS129_nsd_alns/05_nsdaln.sam -> bar05\n",
      "../TLS129_nsd_alns/06_nsdaln.sam -> bar06\n",
      "../TLS129_nsd_alns/07_nsdaln.sam -> bar07\n",
      "../TLS129_nsd_alns/08_nsdaln.sam -> bar08\n",
      "../TLS129_nsd_alns/09_nsdaln.sam -> bar09\n",
      "../TLS129_nsd_alns/10_nsdaln.sam -> bar10\n",
      "../TLS129_nsd_alns/11_nsdaln.sam -> bar11\n",
      "../TLS129_nsd_alns/12_nsdaln.sam -> bar12\n"
     ]
    },
    {
     "data": {
      "text/html": "<div>\n<style scoped>\n    .dataframe tbody tr th:only-of-type {\n        vertical-align: middle;\n    }\n\n    .dataframe tbody tr th {\n        vertical-align: top;\n    }\n\n    .dataframe thead th {\n        text-align: right;\n    }\n</style>\n<table border=\"1\" class=\"dataframe\">\n  <thead>\n    <tr style=\"text-align: right;\">\n      <th></th>\n      <th>QNAME</th>\n      <th>FLAG</th>\n      <th>RNAME</th>\n      <th>POS</th>\n      <th>MAPQ</th>\n      <th>CIGAR</th>\n      <th>RNEXT</th>\n      <th>PNEXT</th>\n      <th>TLEN</th>\n      <th>SEQ</th>\n      <th>QUAL</th>\n      <th>RIGHT</th>\n      <th>LENGTH</th>\n      <th>id</th>\n      <th>condition</th>\n      <th>substrate</th>\n    </tr>\n  </thead>\n  <tbody>\n    <tr>\n      <th>2</th>\n      <td>08073217-bb59-4690-b4a8-ecac30a8b285</td>\n      <td>16</td>\n      <td>Copy</td>\n      <td>702</td>\n      <td>60</td>\n      <td>3S50M1D2M1D12M1D21M3D30M1D9M130N34M1D11M1D7M28S</td>\n      <td>*</td>\n      <td>0</td>\n      <td>0</td>\n      <td>AAGTGACACAACCGTGTTCACTAGCAACCTCAAACAGACACCATGG...</td>\n      <td>%%%%7;684A7+$&lt;:=8;A=72/;&lt;</td>\n      <td>1017</td>\n      <td>176</td>\n      <td>bar01</td>\n      <td>siLuc</td>\n      <td>Stopped</td>\n    </tr>\n    <tr>\n      <th>7</th>\n      <td>e2e2c08e-e327-4eed-b63d-4f86d074363b</td>\n      <td>16</td>\n      <td>Copy</td>\n      <td>703</td>\n      <td>60</td>\n      <td>19M3I21M3I8M1I5M1D22M1D12M2D2M1I37M130N46M1D10...</td>\n      <td>*</td>\n      <td>0</td>\n      <td>0</td>\n      <td>GACACAACTGTGTTCACTAAAGGCAACCTCAAACAGACAAACTGGC...</td>\n      <td>9&gt;74-4&amp;9%)23.6875.50,$$$((1)*10B</td>\n      <td>1020</td>\n      <td>190</td>\n      <td>bar01</td>\n      <td>siLuc</td>\n      <td>Stopped</td>\n    </tr>\n    <tr>\n      <th>12</th>\n      <td>bb72ac76-c10d-4ee8-b7e2-4dc5491ecdf8</td>\n      <td>0</td>\n      <td>Copy</td>\n      <td>703</td>\n      <td>60</td>\n      <td>44M1I9M1D10M1D13M1D77M36S</td>\n      <td>*</td>\n      <td>0</td>\n      <td>0</td>\n      <td>GACACAACTGTGTTCACTAGCAACCTCAAACAGACACCACGGTGCC...</td>\n      <td>?=&lt;</td>\n      <td>859</td>\n      <td>154</td>\n      <td>bar01</td>\n      <td>siLuc</td>\n      <td>Stopped</td>\n    </tr>\n    <tr>\n      <th>18</th>\n      <td>3f94adc0-5538-4d22-a62f-f20ad4ec9ac8</td>\n      <td>16</td>\n      <td>Copy</td>\n      <td>703</td>\n      <td>60</td>\n      <td>66M1D9M1D17M33S</td>\n      <td>*</td>\n      <td>0</td>\n      <td>0</td>\n      <td>GACACAACTGTGTTCACTAGCAACCTCAAACAGACACCATGGTGCA...</td>\n      <td>;7.42&lt;*.'*681./4?:&gt;??A7</td>\n      <td>797</td>\n      <td>92</td>\n      <td>bar01</td>\n      <td>siLuc</td>\n      <td>Stopped</td>\n    </tr>\n    <tr>\n      <th>21</th>\n      <td>e474c716-6ee1-48f5-a8df-f42c33e308bb</td>\n      <td>0</td>\n      <td>Copy</td>\n      <td>703</td>\n      <td>60</td>\n      <td>55M2I8M1I2M1I13M1I25M1I6M3D18M130N7M1I40M20S</td>\n      <td>*</td>\n      <td>0</td>\n      <td>0</td>\n      <td>GACACAACTGTGTTCACTAGCAACCTCAAACGGGCACCATGGTGCA...</td>\n      <td>2498&gt;&amp;(9-8::?;,68./-0,-A/:==?13%&amp;%&amp;*025?),6.1'...</td>\n      <td>1010</td>\n      <td>181</td>\n      <td>bar01</td>\n      <td>siLuc</td>\n      <td>Stopped</td>\n    </tr>\n    <tr>\n      <th>...</th>\n      <td>...</td>\n      <td>...</td>\n      <td>...</td>\n      <td>...</td>\n      <td>...</td>\n      <td>...</td>\n      <td>...</td>\n      <td>...</td>\n      <td>...</td>\n      <td>...</td>\n      <td>...</td>\n      <td>...</td>\n      <td>...</td>\n      <td>...</td>\n      <td>...</td>\n      <td>...</td>\n    </tr>\n    <tr>\n      <th>379998</th>\n      <td>f0ee36a5-7131-4888-bd34-eb2fd1971a2d</td>\n      <td>16</td>\n      <td>Copy</td>\n      <td>703</td>\n      <td>60</td>\n      <td>21M1D27M1I9M1D9M5I3M3D2M1D22M1D13M2D15M130N18M...</td>\n      <td>*</td>\n      <td>0</td>\n      <td>0</td>\n      <td>GACACAACTGTGTTCACTAGCACCTCAAACAGACACCATGGTAAAA...</td>\n      <td>?</td>\n      <td>1030</td>\n      <td>194</td>\n      <td>bar12</td>\n      <td>siSki</td>\n      <td>PTC</td>\n    </tr>\n    <tr>\n      <th>379999</th>\n      <td>1caee47a-7fb0-4bcb-8eef-257252ce7bab</td>\n      <td>0</td>\n      <td>Copy</td>\n      <td>704</td>\n      <td>60</td>\n      <td>3S76M1I53M130N4M1I9M1D3M2I6M1I7M1I20M45S</td>\n      <td>*</td>\n      <td>0</td>\n      <td>0</td>\n      <td>GAAACACAACTGTGTTCACTAGCAACCGCAAACAGACACCATGGTG...</td>\n      <td>%*$$*+557:896=CD&lt;75+&amp;''()1)$$%'')1/&lt;4284/1$(*$...</td>\n      <td>1013</td>\n      <td>184</td>\n      <td>bar12</td>\n      <td>siSki</td>\n      <td>PTC</td>\n    </tr>\n    <tr>\n      <th>380001</th>\n      <td>5b2ec00d-09d9-40cf-9243-20dd91b3cc2b</td>\n      <td>0</td>\n      <td>Copy</td>\n      <td>703</td>\n      <td>60</td>\n      <td>6M2I66M1D8M1D1M3I6M1I41M130N6M1I6M1I40M38S</td>\n      <td>*</td>\n      <td>0</td>\n      <td>0</td>\n      <td>GACACAACACTGTGTTCACTAGCAACCTCAAACGAACACCATGGTG...</td>\n      <td>:&lt;533-0-%%;;847?4)))+*024C?==7;-*'#%+0=?A?/174;=</td>\n      <td>1015</td>\n      <td>188</td>\n      <td>bar12</td>\n      <td>siSki</td>\n      <td>PTC</td>\n    </tr>\n    <tr>\n      <th>380002</th>\n      <td>76d05b54-1e65-4007-9484-ea1279ef897a</td>\n      <td>0</td>\n      <td>Copy</td>\n      <td>703</td>\n      <td>60</td>\n      <td>18M1D27M1D29M2I8M2D5M1I27M1D4M1D6M1I9M1D17M2D3...</td>\n      <td>*</td>\n      <td>0</td>\n      <td>0</td>\n      <td>GACACAACTGTGTTCACTGTAACCTCAAACGAACACCATGGTGCAC...</td>\n      <td>NaN</td>\n      <td>951</td>\n      <td>245</td>\n      <td>bar12</td>\n      <td>siSki</td>\n      <td>PTC</td>\n    </tr>\n    <tr>\n      <th>380008</th>\n      <td>8cab73d9-c030-4a20-93e9-9ee6ef382030</td>\n      <td>16</td>\n      <td>Copy</td>\n      <td>704</td>\n      <td>60</td>\n      <td>3S8M1D120M28S</td>\n      <td>*</td>\n      <td>0</td>\n      <td>0</td>\n      <td>GACACACAACTAGTTCACTAGCAACCTCAAACAGACACCATGGTGC...</td>\n      <td>4;$&amp;;</td>\n      <td>833</td>\n      <td>128</td>\n      <td>bar12</td>\n      <td>siSki</td>\n      <td>PTC</td>\n    </tr>\n  </tbody>\n</table>\n<p>1143599 rows × 16 columns</p>\n</div>",
      "text/plain": "                                       QNAME  FLAG RNAME  POS  MAPQ  \\\n2       08073217-bb59-4690-b4a8-ecac30a8b285    16  Copy  702    60   \n7       e2e2c08e-e327-4eed-b63d-4f86d074363b    16  Copy  703    60   \n12      bb72ac76-c10d-4ee8-b7e2-4dc5491ecdf8     0  Copy  703    60   \n18      3f94adc0-5538-4d22-a62f-f20ad4ec9ac8    16  Copy  703    60   \n21      e474c716-6ee1-48f5-a8df-f42c33e308bb     0  Copy  703    60   \n...                                      ...   ...   ...  ...   ...   \n379998  f0ee36a5-7131-4888-bd34-eb2fd1971a2d    16  Copy  703    60   \n379999  1caee47a-7fb0-4bcb-8eef-257252ce7bab     0  Copy  704    60   \n380001  5b2ec00d-09d9-40cf-9243-20dd91b3cc2b     0  Copy  703    60   \n380002  76d05b54-1e65-4007-9484-ea1279ef897a     0  Copy  703    60   \n380008  8cab73d9-c030-4a20-93e9-9ee6ef382030    16  Copy  704    60   \n\n                                                    CIGAR RNEXT  PNEXT  TLEN  \\\n2         3S50M1D2M1D12M1D21M3D30M1D9M130N34M1D11M1D7M28S     *      0     0   \n7       19M3I21M3I8M1I5M1D22M1D12M2D2M1I37M130N46M1D10...     *      0     0   \n12                              44M1I9M1D10M1D13M1D77M36S     *      0     0   \n18                                        66M1D9M1D17M33S     *      0     0   \n21           55M2I8M1I2M1I13M1I25M1I6M3D18M130N7M1I40M20S     *      0     0   \n...                                                   ...   ...    ...   ...   \n379998  21M1D27M1I9M1D9M5I3M3D2M1D22M1D13M2D15M130N18M...     *      0     0   \n379999           3S76M1I53M130N4M1I9M1D3M2I6M1I7M1I20M45S     *      0     0   \n380001         6M2I66M1D8M1D1M3I6M1I41M130N6M1I6M1I40M38S     *      0     0   \n380002  18M1D27M1D29M2I8M2D5M1I27M1D4M1D6M1I9M1D17M2D3...     *      0     0   \n380008                                      3S8M1D120M28S     *      0     0   \n\n                                                      SEQ  \\\n2       AAGTGACACAACCGTGTTCACTAGCAACCTCAAACAGACACCATGG...   \n7       GACACAACTGTGTTCACTAAAGGCAACCTCAAACAGACAAACTGGC...   \n12      GACACAACTGTGTTCACTAGCAACCTCAAACAGACACCACGGTGCC...   \n18      GACACAACTGTGTTCACTAGCAACCTCAAACAGACACCATGGTGCA...   \n21      GACACAACTGTGTTCACTAGCAACCTCAAACGGGCACCATGGTGCA...   \n...                                                   ...   \n379998  GACACAACTGTGTTCACTAGCACCTCAAACAGACACCATGGTAAAA...   \n379999  GAAACACAACTGTGTTCACTAGCAACCGCAAACAGACACCATGGTG...   \n380001  GACACAACACTGTGTTCACTAGCAACCTCAAACGAACACCATGGTG...   \n380002  GACACAACTGTGTTCACTGTAACCTCAAACGAACACCATGGTGCAC...   \n380008  GACACACAACTAGTTCACTAGCAACCTCAAACAGACACCATGGTGC...   \n\n                                                     QUAL  RIGHT  LENGTH  \\\n2                               %%%%7;684A7+$<:=8;A=72/;<   1017     176   \n7                        9>74-4&9%)23.6875.50,$$$((1)*10B   1020     190   \n12                                                    ?=<    859     154   \n18                                ;7.42<*.'*681./4?:>??A7    797      92   \n21      2498>&(9-8::?;,68./-0,-A/:==?13%&%&*025?),6.1'...   1010     181   \n...                                                   ...    ...     ...   \n379998                                                  ?   1030     194   \n379999  %*$$*+557:896=CD<75+&''()1)$$%'')1/<4284/1$(*$...   1013     184   \n380001   :<533-0-%%;;847?4)))+*024C?==7;-*'#%+0=?A?/174;=   1015     188   \n380002                                                NaN    951     245   \n380008                                              4;$&;    833     128   \n\n           id condition substrate  \n2       bar01     siLuc   Stopped  \n7       bar01     siLuc   Stopped  \n12      bar01     siLuc   Stopped  \n18      bar01     siLuc   Stopped  \n21      bar01     siLuc   Stopped  \n...       ...       ...       ...  \n379998  bar12     siSki       PTC  \n379999  bar12     siSki       PTC  \n380001  bar12     siSki       PTC  \n380002  bar12     siSki       PTC  \n380008  bar12     siSki       PTC  \n\n[1143599 rows x 16 columns]"
     },
     "execution_count": 1,
     "metadata": {},
     "output_type": "execute_result"
    }
   ],
   "source": [
    "from Rprepper import exportForRAnalysis\n",
    "\n",
    "TLS129Files = [\"../TLS129_nsd_alns/01_nsdaln.sam\",\n",
    "                \"../TLS129_nsd_alns/02_nsdaln.sam\",\n",
    "                \"../TLS129_nsd_alns/03_nsdaln.sam\",\n",
    "                \"../TLS129_nsd_alns/04_nsdaln.sam\",\n",
    "                \"../TLS129_nsd_alns/05_nsdaln.sam\",\n",
    "                \"../TLS129_nsd_alns/06_nsdaln.sam\",\n",
    "                \"../TLS129_nsd_alns/07_nsdaln.sam\",\n",
    "                \"../TLS129_nsd_alns/08_nsdaln.sam\",\n",
    "                \"../TLS129_nsd_alns/09_nsdaln.sam\",\n",
    "                \"../TLS129_nsd_alns/10_nsdaln.sam\",\n",
    "                \"../TLS129_nsd_alns/11_nsdaln.sam\",\n",
    "                \"../TLS129_nsd_alns/12_nsdaln.sam\"]\n",
    "\n",
    "exportForRAnalysis(TLS129Files, \"TLS129_Rdf.csv\", metadata=\"metadata_tls129.csv\")"
   ]
  },
  {
   "cell_type": "code",
   "execution_count": 1,
   "metadata": {},
   "outputs": [
    {
     "output_type": "stream",
     "name": "stdout",
     "text": [
      "wee\n"
     ]
    }
   ],
   "source": [
    "print('wee')"
   ]
  },
  {
   "cell_type": "code",
   "execution_count": null,
   "metadata": {},
   "outputs": [],
   "source": []
  },
  {
   "cell_type": "code",
   "execution_count": 2,
   "metadata": {},
   "outputs": [
    {
     "output_type": "stream",
     "name": "stdout",
     "text": [
      "/Users/tim/Desktop/TLS137_NSDalns/01_nsdaln.sam 68537\n",
      "/Users/tim/Desktop/TLS137_NSDalns/01_nsdaln.sam 75261\n"
     ]
    },
    {
     "output_type": "execute_result",
     "data": {
      "text/plain": [
       "                                       QNAME  FLAG RNAME   POS  MAPQ  \\\n",
       "2       d770ee0f-4bb3-482a-bae2-ba05320f21cf    16  Copy   703    60   \n",
       "5       72dff230-ed1c-4491-a2ac-80de8ef2d014     0  Copy   703    60   \n",
       "6       072aa80d-7604-42b6-85a2-613b1dd886cc    16  Copy   703    60   \n",
       "7       dc00eebc-f4aa-447d-a14a-a7d6089e3b55    16  Copy   963    60   \n",
       "13      38339752-84d5-42ad-99cf-76b1c78dce21    16  Copy   703    60   \n",
       "...                                      ...   ...   ...   ...   ...   \n",
       "352045  007e7ab9-d1f9-48ce-bee0-65342a5f258a    16  Copy  2153    60   \n",
       "352046  8596465d-c5c7-4025-b8e5-6e58bc7e7892    16  Copy   703    60   \n",
       "352047  b2ac3272-18d0-4988-b1df-76967721f099     0  Copy   703    60   \n",
       "352052  e577cbcd-526f-4ff1-9c0f-9e3c6d18e329     0  Copy   710    32   \n",
       "352054  88445562-8565-45c8-9ed0-7de2c694f767    16  Copy   703    40   \n",
       "\n",
       "                                                    CIGAR RNEXT  PNEXT  TLEN  \\\n",
       "2                               36M2I42M1D3M1D27M1D16M36S     *      0     0   \n",
       "5               44M2D12M1D29M4I42M130N34M1I19M1D3M2D9M38S     *      0     0   \n",
       "6       14M1I27M2I1M1D22M1I2M1D13M4D13M2D11M2D20M1I41M...     *      0     0   \n",
       "7                           147S19M2D47M1I76M1D76M1D6M27S     *      0     0   \n",
       "13      68M1D10M1I31M1D11M132N1M2D5M1I13M1D4M1D6M1I19M...     *      0     0   \n",
       "...                                                   ...   ...    ...   ...   \n",
       "352045      12M2D13M1D7M1D12M1I53M1I32M1D10M1I46M3D16M39S     *      0     0   \n",
       "352046  23M1D7M2D10M2D8M1D7M4D2M2D50M2D9M130N6M2D2M1I4...     *      0     0   \n",
       "352047  46M3I7M1D6M1I9M1D43M4I9M1I8M130N17M1I12M1D12M1...     *      0     0   \n",
       "352052                    9S37M2I10M1I8M1D8M3I12M1D42M46S     *      0     0   \n",
       "352054  17M2I2M2I18M2I9M1I7M2D29M1D25M2D18M130N19M2D13...     *      0     0   \n",
       "\n",
       "                                                      SEQ  \\\n",
       "2       GACACAACTGTGTTCACTAGCAACCCCAGACAGACAATTCATGGTG...   \n",
       "5       GACACAACTGTGTTCACTAGCAACCTCAAACGAACACCGTGGTGCC...   \n",
       "6       GACACAACTGTGTTCCACTAGCAACCTCAAACAAACACCATGCAGG...   \n",
       "7       TTCATAGATCGAAGAGCGTCGTGTGAAGATAGAGCTGACATTGCGC...   \n",
       "13      GACACAACTGTGTTCACTAGCAACCTCAAACAGACACCATGGTGCA...   \n",
       "...                                                   ...   \n",
       "352045  ACAAGTATCACAGCCTTGAGCATCTGATTCCGCTCTAGAGGCCTGG...   \n",
       "352046  GACACAACTGTGTTCACTAGCAACTCAAACACACCATGGTACCTGA...   \n",
       "352047  GACACAACTGTGTTCACTAGCAACCTCAAACAGACACCATGGTGCA...   \n",
       "352052  GACACAGCGCTGTGTTCACTAGCAACCTCAAACAGACGCCATGGTG...   \n",
       "352054  GACACAACTGTGTTCGCCTTAGTGCAACTTTCAACAGACACCTCAT...   \n",
       "\n",
       "                                                     QUAL  RIGHT  LENGTH  \\\n",
       "2                                              <>9;.A6B39    830     126   \n",
       "5                                                 C4:9>03   1031     197   \n",
       "6       E>8.,>76454,%#$#(0'2457,/*$$./C2CHE?F>:A51%&,7...    901     191   \n",
       "7                                             $$4*7=AGAG8   1191     225   \n",
       "13      31.8:7*;+..52599('1442,63%1/:857*8;=0)(%*87?;?...   1210     362   \n",
       "...                                                   ...    ...     ...   \n",
       "352045                                  &$-,%#+552(*/0154   2362     204   \n",
       "352046                              86/2%:,<$'*0(01685=>?   1068     219   \n",
       "352047               &$$%1+.6:.873;.*(%$#$$%**)<59'0((215   1112     282   \n",
       "352052  82,)')%(%%7:=C>C<**+'4778QJG?04,3)*8;;==;H.3A69(:    829     123   \n",
       "352054  =727,602,,+$\"\")$%$*(&$\"%'763/3,,-9$/:D9;3&)**-...   1008     174   \n",
       "\n",
       "               SAMPLE  \n",
       "2       01_nsdaln.sam  \n",
       "5       01_nsdaln.sam  \n",
       "6       01_nsdaln.sam  \n",
       "7       01_nsdaln.sam  \n",
       "13      01_nsdaln.sam  \n",
       "...               ...  \n",
       "352045  01_nsdaln.sam  \n",
       "352046  01_nsdaln.sam  \n",
       "352047  01_nsdaln.sam  \n",
       "352052  01_nsdaln.sam  \n",
       "352054  01_nsdaln.sam  \n",
       "\n",
       "[75261 rows x 14 columns]"
      ],
      "text/html": "<div>\n<style scoped>\n    .dataframe tbody tr th:only-of-type {\n        vertical-align: middle;\n    }\n\n    .dataframe tbody tr th {\n        vertical-align: top;\n    }\n\n    .dataframe thead th {\n        text-align: right;\n    }\n</style>\n<table border=\"1\" class=\"dataframe\">\n  <thead>\n    <tr style=\"text-align: right;\">\n      <th></th>\n      <th>QNAME</th>\n      <th>FLAG</th>\n      <th>RNAME</th>\n      <th>POS</th>\n      <th>MAPQ</th>\n      <th>CIGAR</th>\n      <th>RNEXT</th>\n      <th>PNEXT</th>\n      <th>TLEN</th>\n      <th>SEQ</th>\n      <th>QUAL</th>\n      <th>RIGHT</th>\n      <th>LENGTH</th>\n      <th>SAMPLE</th>\n    </tr>\n  </thead>\n  <tbody>\n    <tr>\n      <th>2</th>\n      <td>d770ee0f-4bb3-482a-bae2-ba05320f21cf</td>\n      <td>16</td>\n      <td>Copy</td>\n      <td>703</td>\n      <td>60</td>\n      <td>36M2I42M1D3M1D27M1D16M36S</td>\n      <td>*</td>\n      <td>0</td>\n      <td>0</td>\n      <td>GACACAACTGTGTTCACTAGCAACCCCAGACAGACAATTCATGGTG...</td>\n      <td>&lt;&gt;9;.A6B39</td>\n      <td>830</td>\n      <td>126</td>\n      <td>01_nsdaln.sam</td>\n    </tr>\n    <tr>\n      <th>5</th>\n      <td>72dff230-ed1c-4491-a2ac-80de8ef2d014</td>\n      <td>0</td>\n      <td>Copy</td>\n      <td>703</td>\n      <td>60</td>\n      <td>44M2D12M1D29M4I42M130N34M1I19M1D3M2D9M38S</td>\n      <td>*</td>\n      <td>0</td>\n      <td>0</td>\n      <td>GACACAACTGTGTTCACTAGCAACCTCAAACGAACACCGTGGTGCC...</td>\n      <td>C4:9&gt;03</td>\n      <td>1031</td>\n      <td>197</td>\n      <td>01_nsdaln.sam</td>\n    </tr>\n    <tr>\n      <th>6</th>\n      <td>072aa80d-7604-42b6-85a2-613b1dd886cc</td>\n      <td>16</td>\n      <td>Copy</td>\n      <td>703</td>\n      <td>60</td>\n      <td>14M1I27M2I1M1D22M1I2M1D13M4D13M2D11M2D20M1I41M...</td>\n      <td>*</td>\n      <td>0</td>\n      <td>0</td>\n      <td>GACACAACTGTGTTCCACTAGCAACCTCAAACAAACACCATGCAGG...</td>\n      <td>E&gt;8.,&gt;76454,%#$#(0'2457,/*$$./C2CHE?F&gt;:A51%&amp;,7...</td>\n      <td>901</td>\n      <td>191</td>\n      <td>01_nsdaln.sam</td>\n    </tr>\n    <tr>\n      <th>7</th>\n      <td>dc00eebc-f4aa-447d-a14a-a7d6089e3b55</td>\n      <td>16</td>\n      <td>Copy</td>\n      <td>963</td>\n      <td>60</td>\n      <td>147S19M2D47M1I76M1D76M1D6M27S</td>\n      <td>*</td>\n      <td>0</td>\n      <td>0</td>\n      <td>TTCATAGATCGAAGAGCGTCGTGTGAAGATAGAGCTGACATTGCGC...</td>\n      <td>$$4*7=AGAG8</td>\n      <td>1191</td>\n      <td>225</td>\n      <td>01_nsdaln.sam</td>\n    </tr>\n    <tr>\n      <th>13</th>\n      <td>38339752-84d5-42ad-99cf-76b1c78dce21</td>\n      <td>16</td>\n      <td>Copy</td>\n      <td>703</td>\n      <td>60</td>\n      <td>68M1D10M1I31M1D11M132N1M2D5M1I13M1D4M1D6M1I19M...</td>\n      <td>*</td>\n      <td>0</td>\n      <td>0</td>\n      <td>GACACAACTGTGTTCACTAGCAACCTCAAACAGACACCATGGTGCA...</td>\n      <td>31.8:7*;+..52599('1442,63%1/:857*8;=0)(%*87?;?...</td>\n      <td>1210</td>\n      <td>362</td>\n      <td>01_nsdaln.sam</td>\n    </tr>\n    <tr>\n      <th>...</th>\n      <td>...</td>\n      <td>...</td>\n      <td>...</td>\n      <td>...</td>\n      <td>...</td>\n      <td>...</td>\n      <td>...</td>\n      <td>...</td>\n      <td>...</td>\n      <td>...</td>\n      <td>...</td>\n      <td>...</td>\n      <td>...</td>\n      <td>...</td>\n    </tr>\n    <tr>\n      <th>352045</th>\n      <td>007e7ab9-d1f9-48ce-bee0-65342a5f258a</td>\n      <td>16</td>\n      <td>Copy</td>\n      <td>2153</td>\n      <td>60</td>\n      <td>12M2D13M1D7M1D12M1I53M1I32M1D10M1I46M3D16M39S</td>\n      <td>*</td>\n      <td>0</td>\n      <td>0</td>\n      <td>ACAAGTATCACAGCCTTGAGCATCTGATTCCGCTCTAGAGGCCTGG...</td>\n      <td>&amp;$-,%#+552(*/0154</td>\n      <td>2362</td>\n      <td>204</td>\n      <td>01_nsdaln.sam</td>\n    </tr>\n    <tr>\n      <th>352046</th>\n      <td>8596465d-c5c7-4025-b8e5-6e58bc7e7892</td>\n      <td>16</td>\n      <td>Copy</td>\n      <td>703</td>\n      <td>60</td>\n      <td>23M1D7M2D10M2D8M1D7M4D2M2D50M2D9M130N6M2D2M1I4...</td>\n      <td>*</td>\n      <td>0</td>\n      <td>0</td>\n      <td>GACACAACTGTGTTCACTAGCAACTCAAACACACCATGGTACCTGA...</td>\n      <td>86/2%:,&lt;$'*0(01685=&gt;?</td>\n      <td>1068</td>\n      <td>219</td>\n      <td>01_nsdaln.sam</td>\n    </tr>\n    <tr>\n      <th>352047</th>\n      <td>b2ac3272-18d0-4988-b1df-76967721f099</td>\n      <td>0</td>\n      <td>Copy</td>\n      <td>703</td>\n      <td>60</td>\n      <td>46M3I7M1D6M1I9M1D43M4I9M1I8M130N17M1I12M1D12M1...</td>\n      <td>*</td>\n      <td>0</td>\n      <td>0</td>\n      <td>GACACAACTGTGTTCACTAGCAACCTCAAACAGACACCATGGTGCA...</td>\n      <td>&amp;$$%1+.6:.873;.*(%$#$$%**)&lt;59'0((215</td>\n      <td>1112</td>\n      <td>282</td>\n      <td>01_nsdaln.sam</td>\n    </tr>\n    <tr>\n      <th>352052</th>\n      <td>e577cbcd-526f-4ff1-9c0f-9e3c6d18e329</td>\n      <td>0</td>\n      <td>Copy</td>\n      <td>710</td>\n      <td>32</td>\n      <td>9S37M2I10M1I8M1D8M3I12M1D42M46S</td>\n      <td>*</td>\n      <td>0</td>\n      <td>0</td>\n      <td>GACACAGCGCTGTGTTCACTAGCAACCTCAAACAGACGCCATGGTG...</td>\n      <td>82,)')%(%%7:=C&gt;C&lt;**+'4778QJG?04,3)*8;;==;H.3A69(:</td>\n      <td>829</td>\n      <td>123</td>\n      <td>01_nsdaln.sam</td>\n    </tr>\n    <tr>\n      <th>352054</th>\n      <td>88445562-8565-45c8-9ed0-7de2c694f767</td>\n      <td>16</td>\n      <td>Copy</td>\n      <td>703</td>\n      <td>40</td>\n      <td>17M2I2M2I18M2I9M1I7M2D29M1D25M2D18M130N19M2D13...</td>\n      <td>*</td>\n      <td>0</td>\n      <td>0</td>\n      <td>GACACAACTGTGTTCGCCTTAGTGCAACTTTCAACAGACACCTCAT...</td>\n      <td>=727,602,,+$\"\")$%$*(&amp;$\"%'763/3,,-9$/:D9;3&amp;)**-...</td>\n      <td>1008</td>\n      <td>174</td>\n      <td>01_nsdaln.sam</td>\n    </tr>\n  </tbody>\n</table>\n<p>75261 rows × 14 columns</p>\n</div>"
     },
     "metadata": {},
     "execution_count": 2
    }
   ],
   "source": [
    "from Rprepper import *\n",
    "\n",
    "exportForRAnalysis([\"/Users/tim/Desktop/TLS137_NSDalns/01_nsdaln.sam\"], \"/Users/tim/Desktop/TLS137_NSDalns/01_bothstrands.csv\")\n",
    "\n",
    "exportForRAnalysisSenseStrandOnly([\"/Users/tim/Desktop/TLS137_NSDalns/01_nsdaln.sam\"], \"/Users/tim/Desktop/TLS137_NSDalns/01_sensestrands.csv\")\n"
   ]
  },
  {
   "cell_type": "code",
   "execution_count": null,
   "metadata": {},
   "outputs": [],
   "source": []
  }
 ],
 "metadata": {
  "kernelspec": {
   "name": "python385jvsc74a57bd0dca0ade3e726a953b501b15e8e990130d2b7799f14cfd9f4271676035ebe5511",
   "display_name": "Python 3.8.5 64-bit ('base': conda)"
  },
  "language_info": {
   "codemirror_mode": {
    "name": "ipython",
    "version": 3
   },
   "file_extension": ".py",
   "mimetype": "text/x-python",
   "name": "python",
   "nbconvert_exporter": "python",
   "pygments_lexer": "ipython3",
   "version": "3.8.5"
  },
  "orig_nbformat": 2
 },
 "nbformat": 4,
 "nbformat_minor": 2
}