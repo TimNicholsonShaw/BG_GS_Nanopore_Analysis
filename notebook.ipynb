{
 "cells": [
  {
   "cell_type": "code",
   "execution_count": null,
   "metadata": {},
   "outputs": [],
   "source": [
    "import pandas as pd \n",
    "import tools\n",
    "\n",
    "sam_cols = [tools.samColumnsDict[x] for x in range(11)]\n",
    "\n",
    "df = pd.read_csv(\"../nsd_alns/01_nsdaln.sam\", comment=\"@\", delimiter=\"\\t\", header=None, usecols=range(11), names=sam_cols)\n",
    "\n",
    "df.head() \n"
   ]
  },
  {
   "cell_type": "code",
   "execution_count": 1,
   "metadata": {},
   "outputs": [
    {
     "name": "stdout",
     "output_type": "stream",
     "text": [
      "finished ../nsd_alns/07_nsdaln.sam\n",
      "finished ../nsd_alns/02_nsdaln.sam\n",
      "finished ../nsd_alns/08_nsdaln.sam\n",
      "finished ../nsd_alns/05_nsdaln.sam\n",
      "finished ../nsd_alns/11_nsdaln.sam\n",
      "finished ../nsd_alns/03_nsdaln.sam\n",
      "finished ../nsd_alns/12_nsdaln.sam\n",
      "finished ../nsd_alns/06_nsdaln.sam\n",
      "finished ../nsd_alns/01_nsdaln.sam\n",
      "finished ../nsd_alns/10_nsdaln.sam\n",
      "finished ../nsd_alns/09_nsdaln.sam\n",
      "finished ../nsd_alns/04_nsdaln.sam\n"
     ]
    }
   ],
   "source": [
    "from tools import globSamFilterer\n",
    "\n",
    "globSamFilterer(\"../nsd_alns/*.sam\")"
   ]
  },
  {
   "cell_type": "code",
   "execution_count": 3,
   "metadata": {},
   "outputs": [
    {
     "data": {
      "text/html": "<div>\n<style scoped>\n    .dataframe tbody tr th:only-of-type {\n        vertical-align: middle;\n    }\n\n    .dataframe tbody tr th {\n        vertical-align: top;\n    }\n\n    .dataframe thead th {\n        text-align: right;\n    }\n</style>\n<table border=\"1\" class=\"dataframe\">\n  <thead>\n    <tr style=\"text-align: right;\">\n      <th></th>\n      <th>QNAME</th>\n      <th>FLAG</th>\n      <th>RNAME</th>\n      <th>POS</th>\n      <th>MAPQ</th>\n      <th>CIGAR</th>\n      <th>RNEXT</th>\n      <th>PNEXT</th>\n      <th>TLEN</th>\n      <th>SEQ</th>\n      <th>QUAL</th>\n    </tr>\n  </thead>\n  <tbody>\n    <tr>\n      <th>0</th>\n      <td>c23f1ed0-a58d-4c88-a4d7-b08c75236f5e</td>\n      <td>4</td>\n      <td>*</td>\n      <td>0</td>\n      <td>0</td>\n      <td>*</td>\n      <td>*</td>\n      <td>0</td>\n      <td>0</td>\n      <td>ACGACGCTCTTCCGATCTATGGATACGACTTGAAGTGCCCGTACGG...</td>\n      <td>:4453$0884=?5=&lt;E=1+*04C=:638).--(&amp;$$\"%)3;</td>\n    </tr>\n    <tr>\n      <th>1</th>\n      <td>47385d15-6767-4ec2-8720-fd7f2555def5</td>\n      <td>4</td>\n      <td>*</td>\n      <td>0</td>\n      <td>0</td>\n      <td>*</td>\n      <td>*</td>\n      <td>0</td>\n      <td>0</td>\n      <td>CAAGGTCATGAGTTCGATCCCCGTACGGGCCACCAAGTCGTATCCC...</td>\n      <td>=./+-6*$$)%-0*$'&amp;5</td>\n    </tr>\n    <tr>\n      <th>2</th>\n      <td>d770ee0f-4bb3-482a-bae2-ba05320f21cf</td>\n      <td>16</td>\n      <td>Copy</td>\n      <td>703</td>\n      <td>60</td>\n      <td>36M2I42M1D3M1D27M1D16M36S</td>\n      <td>*</td>\n      <td>0</td>\n      <td>0</td>\n      <td>GACACAACTGTGTTCACTAGCAACCCCAGACAGACAATTCATGGTG...</td>\n      <td>&lt;&gt;9;.A6B39</td>\n    </tr>\n    <tr>\n      <th>3</th>\n      <td>40f4ae24-3288-4e3d-b5cd-58ca591d059b</td>\n      <td>4</td>\n      <td>*</td>\n      <td>0</td>\n      <td>0</td>\n      <td>*</td>\n      <td>*</td>\n      <td>0</td>\n      <td>0</td>\n      <td>GACACAACCTTTGTGTTCACTAGCAACCTCAAGCGAACGCATGGTG...</td>\n      <td>=5,%&amp;$#(%*441)*&amp;0610-)0226NIC;45&amp;1*)+%(*45),3*...</td>\n    </tr>\n    <tr>\n      <th>4</th>\n      <td>e7ff24d4-f51f-4957-bf43-212787419b31</td>\n      <td>4</td>\n      <td>*</td>\n      <td>0</td>\n      <td>0</td>\n      <td>*</td>\n      <td>*</td>\n      <td>0</td>\n      <td>0</td>\n      <td>GGCACAACTGTGTTCACTGCAACCTCAGAAACGGAGCACCATAGTG...</td>\n      <td>$&amp;++,(((.44)155%&amp;'\"'+-:19(2&amp;31,1$&amp;%#%0.0--'','...</td>\n    </tr>\n  </tbody>\n</table>\n</div>",
      "text/plain": "                                  QNAME  FLAG RNAME  POS  MAPQ  \\\n0  c23f1ed0-a58d-4c88-a4d7-b08c75236f5e     4     *    0     0   \n1  47385d15-6767-4ec2-8720-fd7f2555def5     4     *    0     0   \n2  d770ee0f-4bb3-482a-bae2-ba05320f21cf    16  Copy  703    60   \n3  40f4ae24-3288-4e3d-b5cd-58ca591d059b     4     *    0     0   \n4  e7ff24d4-f51f-4957-bf43-212787419b31     4     *    0     0   \n\n                       CIGAR RNEXT  PNEXT  TLEN  \\\n0                          *     *      0     0   \n1                          *     *      0     0   \n2  36M2I42M1D3M1D27M1D16M36S     *      0     0   \n3                          *     *      0     0   \n4                          *     *      0     0   \n\n                                                 SEQ  \\\n0  ACGACGCTCTTCCGATCTATGGATACGACTTGAAGTGCCCGTACGG...   \n1  CAAGGTCATGAGTTCGATCCCCGTACGGGCCACCAAGTCGTATCCC...   \n2  GACACAACTGTGTTCACTAGCAACCCCAGACAGACAATTCATGGTG...   \n3  GACACAACCTTTGTGTTCACTAGCAACCTCAAGCGAACGCATGGTG...   \n4  GGCACAACTGTGTTCACTGCAACCTCAGAAACGGAGCACCATAGTG...   \n\n                                                QUAL  \n0          :4453$0884=?5=<E=1+*04C=:638).--(&$$\"%)3;  \n1                                 =./+-6*$$)%-0*$'&5  \n2                                         <>9;.A6B39  \n3  =5,%&$#(%*441)*&0610-)0226NIC;45&1*)+%(*45),3*...  \n4  $&++,(((.44)155%&'\"'+-:19(2&31,1$&%#%0.0--'','...  "
     },
     "execution_count": 3,
     "metadata": {},
     "output_type": "execute_result"
    }
   ],
   "source": [
    "import pandas as pd \n",
    "import tools\n",
    "\n",
    "\n",
    "sam_cols = [tools.samColumnsDict[x] for x in range(11)]\n",
    "\n",
    "test = \"../nsd_alns/01_nsdaln.sam\"\n",
    "\n",
    "df = pd.read_csv(test, comment=\"@\", delimiter=\"\\t\", header=None, usecols=range(11), names=sam_cols)\n",
    "\n",
    "df.head() "
   ]
  },
  {
   "cell_type": "code",
   "execution_count": 14,
   "metadata": {},
   "outputs": [
    {
     "data": {
      "text/plain": "347585"
     },
     "execution_count": 14,
     "metadata": {},
     "output_type": "execute_result"
    }
   ],
   "source": [
    "is_mapped = df.FLAG.isin([0,16])\n",
    "\n",
    "len(df[is_mapped])\n",
    "\n",
    "len(df)\n"
   ]
  },
  {
   "cell_type": "code",
   "execution_count": 2,
   "metadata": {},
   "outputs": [
    {
     "data": {
      "text/plain": "pandas.core.frame.DataFrame"
     },
     "execution_count": 2,
     "metadata": {},
     "output_type": "execute_result"
    }
   ],
   "source": [
    "from analysis import samReader\n",
    "\n",
    "data = samReader(\"../nsd_alns/01_nsdaln.sam\")\n",
    "type(data)"
   ]
  },
  {
   "cell_type": "code",
   "execution_count": 18,
   "metadata": {},
   "outputs": [
    {
     "data": {
      "text/plain": "pandas.core.frame.DataFrame"
     },
     "execution_count": 18,
     "metadata": {},
     "output_type": "execute_result"
    }
   ],
   "source": [
    "import analysis, tools\n",
    "\n",
    "data = tools.samReader(\"../nsd_alns/01_nsdaln.sam\")\n",
    "type(data)\n",
    "\n"
   ]
  },
  {
   "cell_type": "code",
   "execution_count": 7,
   "metadata": {},
   "outputs": [
    {
     "data": {
      "text/plain": "0.21371175395946315"
     },
     "execution_count": 7,
     "metadata": {},
     "output_type": "execute_result"
    }
   ],
   "source": [
    "analysis.findPercentMapped(data)"
   ]
  },
  {
   "cell_type": "code",
   "execution_count": 14,
   "metadata": {},
   "outputs": [
    {
     "data": {
      "text/plain": "0.017981213228418946"
     },
     "execution_count": 14,
     "metadata": {},
     "output_type": "execute_result"
    }
   ],
   "source": [
    "analysis.findMismappedFivePrime(data)"
   ]
  },
  {
   "cell_type": "code",
   "execution_count": 35,
   "metadata": {},
   "outputs": [
    {
     "data": {
      "text/plain": "347585"
     },
     "execution_count": 35,
     "metadata": {},
     "output_type": "execute_result"
    }
   ],
   "source": [
    "df = tools.filterProperMapped(data)\n",
    "len(data)"
   ]
  },
  {
   "cell_type": "code",
   "execution_count": 38,
   "metadata": {},
   "outputs": [
    {
     "data": {
      "text/plain": "0.09711321005720368"
     },
     "execution_count": 38,
     "metadata": {},
     "output_type": "execute_result"
    }
   ],
   "source": [
    "analysis.percentProperMappedFullLength(data)"
   ]
  },
  {
   "cell_type": "code",
   "execution_count": 49,
   "metadata": {},
   "outputs": [],
   "source": [
    "d = analysis.summarizeSAM(data)"
   ]
  },
  {
   "cell_type": "code",
   "execution_count": 52,
   "metadata": {},
   "outputs": [
    {
     "data": {
      "text/plain": "dict_items([('perMapped', 0.21371175395946315), ('perMisMappedFive', 0.017981213228418946), ('totalReads', 347585), ('medLenMapped', 159.0), ('stdevLenMapped', 171.42381304493213), ('medLenTotal', 94.0), ('stdevLenTotal', 119.6674011422739), ('meanLenMapped', 235.22721214813618), ('meanLenTotal', 130.64933757210466), ('perMappedLongerCutoff', 0.11906345616602368), ('perMappedFullLength', 0.09711321005720368)])"
     },
     "execution_count": 52,
     "metadata": {},
     "output_type": "execute_result"
    }
   ],
   "source": [
    "d.items()"
   ]
  },
  {
   "cell_type": "code",
   "execution_count": 70,
   "metadata": {},
   "outputs": [
    {
     "ename": "KeyboardInterrupt",
     "evalue": "",
     "output_type": "error",
     "traceback": [
      "\u001b[0;31m---------------------------------------------------------------------------\u001b[0m",
      "\u001b[0;31mKeyboardInterrupt\u001b[0m                         Traceback (most recent call last)",
      "\u001b[0;32m<ipython-input-70-6f50bee37058>\u001b[0m in \u001b[0;36m<module>\u001b[0;34m\u001b[0m\n\u001b[1;32m      2\u001b[0m \u001b[0mtest\u001b[0m \u001b[0;34m=\u001b[0m \u001b[0mglob\u001b[0m\u001b[0;34m(\u001b[0m\u001b[0;34m\"../nsd_alns/*.sam\"\u001b[0m\u001b[0;34m)\u001b[0m\u001b[0;34m\u001b[0m\u001b[0;34m\u001b[0m\u001b[0m\n\u001b[1;32m      3\u001b[0m \u001b[0;34m\u001b[0m\u001b[0m\n\u001b[0;32m----> 4\u001b[0;31m \u001b[0manalysis\u001b[0m\u001b[0;34m.\u001b[0m\u001b[0msummarizeSAMFiles\u001b[0m\u001b[0;34m(\u001b[0m\u001b[0mtest\u001b[0m\u001b[0;34m)\u001b[0m\u001b[0;34m\u001b[0m\u001b[0;34m\u001b[0m\u001b[0m\n\u001b[0m\u001b[1;32m      5\u001b[0m \u001b[0;34m\u001b[0m\u001b[0m\n\u001b[1;32m      6\u001b[0m \u001b[0mtype\u001b[0m\u001b[0;34m(\u001b[0m\u001b[0mdata\u001b[0m\u001b[0;34m)\u001b[0m\u001b[0;34m\u001b[0m\u001b[0;34m\u001b[0m\u001b[0m\n",
      "\u001b[0;32m~/Desktop/TLS137/BG_GS_Nanopore_Analysis/analysis.py\u001b[0m in \u001b[0;36msummarizeSAMFiles\u001b[0;34m(samList)\u001b[0m\n\u001b[1;32m    127\u001b[0m \u001b[0;34m\u001b[0m\u001b[0m\n\u001b[1;32m    128\u001b[0m \u001b[0;34m\u001b[0m\u001b[0m\n\u001b[0;32m--> 129\u001b[0;31m         \u001b[0;32mfor\u001b[0m \u001b[0mkey\u001b[0m\u001b[0;34m,\u001b[0m \u001b[0mvalue\u001b[0m \u001b[0;32min\u001b[0m \u001b[0msummarizeSAM\u001b[0m\u001b[0;34m(\u001b[0m\u001b[0msam_df\u001b[0m\u001b[0;34m)\u001b[0m\u001b[0;34m.\u001b[0m\u001b[0mitems\u001b[0m\u001b[0;34m(\u001b[0m\u001b[0;34m)\u001b[0m\u001b[0;34m:\u001b[0m\u001b[0;34m\u001b[0m\u001b[0;34m\u001b[0m\u001b[0m\n\u001b[0m\u001b[1;32m    130\u001b[0m             \u001b[0mcombo_dict\u001b[0m\u001b[0;34m.\u001b[0m\u001b[0msetdefault\u001b[0m\u001b[0;34m(\u001b[0m\u001b[0mkey\u001b[0m\u001b[0;34m,\u001b[0m \u001b[0;34m[\u001b[0m\u001b[0;34m]\u001b[0m\u001b[0;34m)\u001b[0m\u001b[0;34m.\u001b[0m\u001b[0mappend\u001b[0m\u001b[0;34m(\u001b[0m\u001b[0mvalue\u001b[0m\u001b[0;34m)\u001b[0m\u001b[0;34m\u001b[0m\u001b[0;34m\u001b[0m\u001b[0m\n\u001b[1;32m    131\u001b[0m \u001b[0;34m\u001b[0m\u001b[0m\n",
      "\u001b[0;32m~/Desktop/TLS137/BG_GS_Nanopore_Analysis/analysis.py\u001b[0m in \u001b[0;36msummarizeSAM\u001b[0;34m(sam_df)\u001b[0m\n\u001b[1;32m     99\u001b[0m     \u001b[0msummary\u001b[0m\u001b[0;34m[\u001b[0m\u001b[0;34m'perMisMappedFive'\u001b[0m\u001b[0;34m]\u001b[0m \u001b[0;34m=\u001b[0m \u001b[0mfindMismappedFivePrime\u001b[0m\u001b[0;34m(\u001b[0m\u001b[0msam_df\u001b[0m\u001b[0;34m)\u001b[0m\u001b[0;34m\u001b[0m\u001b[0;34m\u001b[0m\u001b[0m\n\u001b[1;32m    100\u001b[0m     \u001b[0msummary\u001b[0m\u001b[0;34m[\u001b[0m\u001b[0;34m'totalReads'\u001b[0m\u001b[0;34m]\u001b[0m \u001b[0;34m=\u001b[0m \u001b[0mfindTotalReads\u001b[0m\u001b[0;34m(\u001b[0m\u001b[0msam_df\u001b[0m\u001b[0;34m)\u001b[0m\u001b[0;34m\u001b[0m\u001b[0;34m\u001b[0m\u001b[0m\n\u001b[0;32m--> 101\u001b[0;31m     \u001b[0msummary\u001b[0m\u001b[0;34m[\u001b[0m\u001b[0;34m'medLenMapped'\u001b[0m\u001b[0;34m]\u001b[0m \u001b[0;34m=\u001b[0m \u001b[0mfindMedianLengthMapped\u001b[0m\u001b[0;34m(\u001b[0m\u001b[0msam_df\u001b[0m\u001b[0;34m)\u001b[0m\u001b[0;34m\u001b[0m\u001b[0;34m\u001b[0m\u001b[0m\n\u001b[0m\u001b[1;32m    102\u001b[0m     \u001b[0msummary\u001b[0m\u001b[0;34m[\u001b[0m\u001b[0;34m'stdevLenMapped'\u001b[0m\u001b[0;34m]\u001b[0m \u001b[0;34m=\u001b[0m \u001b[0mfindStdevLengthMapped\u001b[0m\u001b[0;34m(\u001b[0m\u001b[0msam_df\u001b[0m\u001b[0;34m)\u001b[0m\u001b[0;34m\u001b[0m\u001b[0;34m\u001b[0m\u001b[0m\n\u001b[1;32m    103\u001b[0m     \u001b[0msummary\u001b[0m\u001b[0;34m[\u001b[0m\u001b[0;34m'medLenTotal'\u001b[0m\u001b[0;34m]\u001b[0m \u001b[0;34m=\u001b[0m \u001b[0mfindMedianLengthTotal\u001b[0m\u001b[0;34m(\u001b[0m\u001b[0msam_df\u001b[0m\u001b[0;34m)\u001b[0m\u001b[0;34m\u001b[0m\u001b[0;34m\u001b[0m\u001b[0m\n",
      "\u001b[0;32m~/Desktop/TLS137/BG_GS_Nanopore_Analysis/analysis.py\u001b[0m in \u001b[0;36mfindMedianLengthMapped\u001b[0;34m(sam_df)\u001b[0m\n\u001b[1;32m     43\u001b[0m \u001b[0;32mdef\u001b[0m \u001b[0mfindMedianLengthMapped\u001b[0m\u001b[0;34m(\u001b[0m\u001b[0msam_df\u001b[0m\u001b[0;34m)\u001b[0m\u001b[0;34m:\u001b[0m\u001b[0;34m\u001b[0m\u001b[0;34m\u001b[0m\u001b[0m\n\u001b[1;32m     44\u001b[0m \u001b[0;34m\u001b[0m\u001b[0m\n\u001b[0;32m---> 45\u001b[0;31m     \u001b[0msam_df\u001b[0m \u001b[0;34m=\u001b[0m \u001b[0mtools\u001b[0m\u001b[0;34m.\u001b[0m\u001b[0misExtendedOrReturnsExtended\u001b[0m\u001b[0;34m(\u001b[0m\u001b[0msam_df\u001b[0m\u001b[0;34m)\u001b[0m\u001b[0;34m\u001b[0m\u001b[0;34m\u001b[0m\u001b[0m\n\u001b[0m\u001b[1;32m     46\u001b[0m     \u001b[0mis_mapped\u001b[0m \u001b[0;34m=\u001b[0m \u001b[0msam_df\u001b[0m\u001b[0;34m.\u001b[0m\u001b[0mFLAG\u001b[0m\u001b[0;34m.\u001b[0m\u001b[0misin\u001b[0m\u001b[0;34m(\u001b[0m\u001b[0;34m[\u001b[0m\u001b[0;36m0\u001b[0m\u001b[0;34m,\u001b[0m\u001b[0;36m16\u001b[0m\u001b[0;34m]\u001b[0m\u001b[0;34m)\u001b[0m\u001b[0;34m\u001b[0m\u001b[0;34m\u001b[0m\u001b[0m\n\u001b[1;32m     47\u001b[0m     \u001b[0msam_df\u001b[0m \u001b[0;34m=\u001b[0m \u001b[0msam_df\u001b[0m\u001b[0;34m[\u001b[0m\u001b[0mis_mapped\u001b[0m\u001b[0;34m]\u001b[0m\u001b[0;34m\u001b[0m\u001b[0;34m\u001b[0m\u001b[0m\n",
      "\u001b[0;32m~/Desktop/TLS137/BG_GS_Nanopore_Analysis/tools.py\u001b[0m in \u001b[0;36misExtendedOrReturnsExtended\u001b[0;34m(sam_df)\u001b[0m\n\u001b[1;32m    118\u001b[0m         \u001b[0;32mreturn\u001b[0m \u001b[0msam_df\u001b[0m\u001b[0;34m\u001b[0m\u001b[0;34m\u001b[0m\u001b[0m\n\u001b[1;32m    119\u001b[0m     \u001b[0;32melse\u001b[0m\u001b[0;34m:\u001b[0m\u001b[0;34m\u001b[0m\u001b[0;34m\u001b[0m\u001b[0m\n\u001b[0;32m--> 120\u001b[0;31m         \u001b[0;32mreturn\u001b[0m \u001b[0msamExtender\u001b[0m\u001b[0;34m(\u001b[0m\u001b[0msam_df\u001b[0m\u001b[0;34m)\u001b[0m\u001b[0;34m\u001b[0m\u001b[0;34m\u001b[0m\u001b[0m\n\u001b[0m\u001b[1;32m    121\u001b[0m \u001b[0;34m\u001b[0m\u001b[0m\n\u001b[1;32m    122\u001b[0m \u001b[0;31m#Returns sam df with properly mapped reads\u001b[0m\u001b[0;34m\u001b[0m\u001b[0;34m\u001b[0m\u001b[0;34m\u001b[0m\u001b[0m\n",
      "\u001b[0;32m~/Desktop/TLS137/BG_GS_Nanopore_Analysis/tools.py\u001b[0m in \u001b[0;36msamExtender\u001b[0;34m(sam_df)\u001b[0m\n\u001b[1;32m    109\u001b[0m     \u001b[0msam_df\u001b[0m\u001b[0;34m[\u001b[0m\u001b[0;34m'RIGHT'\u001b[0m\u001b[0;34m]\u001b[0m \u001b[0;34m=\u001b[0m \u001b[0;34m[\u001b[0m\u001b[0mrightFinder\u001b[0m\u001b[0;34m(\u001b[0m\u001b[0mleft\u001b[0m\u001b[0;34m,\u001b[0m \u001b[0mCIGAR\u001b[0m\u001b[0;34m)\u001b[0m \u001b[0;32mfor\u001b[0m \u001b[0mleft\u001b[0m\u001b[0;34m,\u001b[0m\u001b[0mCIGAR\u001b[0m \u001b[0;32min\u001b[0m \u001b[0mzip\u001b[0m\u001b[0;34m(\u001b[0m\u001b[0msam_df\u001b[0m\u001b[0;34m.\u001b[0m\u001b[0mPOS\u001b[0m\u001b[0;34m,\u001b[0m \u001b[0msam_df\u001b[0m\u001b[0;34m.\u001b[0m\u001b[0mCIGAR\u001b[0m\u001b[0;34m)\u001b[0m\u001b[0;34m]\u001b[0m\u001b[0;34m\u001b[0m\u001b[0;34m\u001b[0m\u001b[0m\n\u001b[1;32m    110\u001b[0m \u001b[0;34m\u001b[0m\u001b[0m\n\u001b[0;32m--> 111\u001b[0;31m     \u001b[0msam_df\u001b[0m\u001b[0;34m[\u001b[0m\u001b[0;34m'LENGTH'\u001b[0m\u001b[0;34m]\u001b[0m \u001b[0;34m=\u001b[0m \u001b[0;34m[\u001b[0m\u001b[0mlengthFinder\u001b[0m\u001b[0;34m(\u001b[0m\u001b[0mCIGAR\u001b[0m\u001b[0;34m)\u001b[0m \u001b[0;32mfor\u001b[0m \u001b[0mCIGAR\u001b[0m \u001b[0;32min\u001b[0m \u001b[0msam_df\u001b[0m\u001b[0;34m.\u001b[0m\u001b[0mCIGAR\u001b[0m\u001b[0;34m]\u001b[0m\u001b[0;34m\u001b[0m\u001b[0;34m\u001b[0m\u001b[0m\n\u001b[0m\u001b[1;32m    112\u001b[0m \u001b[0;34m\u001b[0m\u001b[0m\n\u001b[1;32m    113\u001b[0m     \u001b[0;32mreturn\u001b[0m \u001b[0msam_df\u001b[0m\u001b[0;34m\u001b[0m\u001b[0;34m\u001b[0m\u001b[0m\n",
      "\u001b[0;32m~/Desktop/TLS137/BG_GS_Nanopore_Analysis/tools.py\u001b[0m in \u001b[0;36m<listcomp>\u001b[0;34m(.0)\u001b[0m\n\u001b[1;32m    109\u001b[0m     \u001b[0msam_df\u001b[0m\u001b[0;34m[\u001b[0m\u001b[0;34m'RIGHT'\u001b[0m\u001b[0;34m]\u001b[0m \u001b[0;34m=\u001b[0m \u001b[0;34m[\u001b[0m\u001b[0mrightFinder\u001b[0m\u001b[0;34m(\u001b[0m\u001b[0mleft\u001b[0m\u001b[0;34m,\u001b[0m \u001b[0mCIGAR\u001b[0m\u001b[0;34m)\u001b[0m \u001b[0;32mfor\u001b[0m \u001b[0mleft\u001b[0m\u001b[0;34m,\u001b[0m\u001b[0mCIGAR\u001b[0m \u001b[0;32min\u001b[0m \u001b[0mzip\u001b[0m\u001b[0;34m(\u001b[0m\u001b[0msam_df\u001b[0m\u001b[0;34m.\u001b[0m\u001b[0mPOS\u001b[0m\u001b[0;34m,\u001b[0m \u001b[0msam_df\u001b[0m\u001b[0;34m.\u001b[0m\u001b[0mCIGAR\u001b[0m\u001b[0;34m)\u001b[0m\u001b[0;34m]\u001b[0m\u001b[0;34m\u001b[0m\u001b[0;34m\u001b[0m\u001b[0m\n\u001b[1;32m    110\u001b[0m \u001b[0;34m\u001b[0m\u001b[0m\n\u001b[0;32m--> 111\u001b[0;31m     \u001b[0msam_df\u001b[0m\u001b[0;34m[\u001b[0m\u001b[0;34m'LENGTH'\u001b[0m\u001b[0;34m]\u001b[0m \u001b[0;34m=\u001b[0m \u001b[0;34m[\u001b[0m\u001b[0mlengthFinder\u001b[0m\u001b[0;34m(\u001b[0m\u001b[0mCIGAR\u001b[0m\u001b[0;34m)\u001b[0m \u001b[0;32mfor\u001b[0m \u001b[0mCIGAR\u001b[0m \u001b[0;32min\u001b[0m \u001b[0msam_df\u001b[0m\u001b[0;34m.\u001b[0m\u001b[0mCIGAR\u001b[0m\u001b[0;34m]\u001b[0m\u001b[0;34m\u001b[0m\u001b[0;34m\u001b[0m\u001b[0m\n\u001b[0m\u001b[1;32m    112\u001b[0m \u001b[0;34m\u001b[0m\u001b[0m\n\u001b[1;32m    113\u001b[0m     \u001b[0;32mreturn\u001b[0m \u001b[0msam_df\u001b[0m\u001b[0;34m\u001b[0m\u001b[0;34m\u001b[0m\u001b[0m\n",
      "\u001b[0;32m~/Desktop/TLS137/BG_GS_Nanopore_Analysis/tools.py\u001b[0m in \u001b[0;36mlengthFinder\u001b[0;34m(CIGAR)\u001b[0m\n\u001b[1;32m     55\u001b[0m         \u001b[0;34m\"X\"\u001b[0m\u001b[0;34m:\u001b[0m\u001b[0;32mTrue\u001b[0m\u001b[0;34m,\u001b[0m\u001b[0;34m\u001b[0m\u001b[0;34m\u001b[0m\u001b[0m\n\u001b[1;32m     56\u001b[0m     }\n\u001b[0;32m---> 57\u001b[0;31m     \u001b[0;32mfor\u001b[0m \u001b[0mitem\u001b[0m \u001b[0;32min\u001b[0m \u001b[0mre\u001b[0m\u001b[0;34m.\u001b[0m\u001b[0mfindall\u001b[0m\u001b[0;34m(\u001b[0m\u001b[0;34mr'(\\d+)([\\w+]{1})'\u001b[0m\u001b[0;34m,\u001b[0m \u001b[0mCIGAR\u001b[0m\u001b[0;34m)\u001b[0m\u001b[0;34m:\u001b[0m\u001b[0;34m\u001b[0m\u001b[0;34m\u001b[0m\u001b[0m\n\u001b[0m\u001b[1;32m     58\u001b[0m         \u001b[0;32mif\u001b[0m \u001b[0mcodes\u001b[0m\u001b[0;34m[\u001b[0m\u001b[0mitem\u001b[0m\u001b[0;34m[\u001b[0m\u001b[0;36m1\u001b[0m\u001b[0;34m]\u001b[0m\u001b[0;34m]\u001b[0m\u001b[0;34m:\u001b[0m\u001b[0;34m\u001b[0m\u001b[0;34m\u001b[0m\u001b[0m\n\u001b[1;32m     59\u001b[0m             \u001b[0mlength\u001b[0m\u001b[0;34m+=\u001b[0m\u001b[0mint\u001b[0m\u001b[0;34m(\u001b[0m\u001b[0mitem\u001b[0m\u001b[0;34m[\u001b[0m\u001b[0;36m0\u001b[0m\u001b[0;34m]\u001b[0m\u001b[0;34m)\u001b[0m\u001b[0;34m\u001b[0m\u001b[0;34m\u001b[0m\u001b[0m\n",
      "\u001b[0;31mKeyboardInterrupt\u001b[0m: "
     ]
    }
   ],
   "source": [
    "from glob import glob\n",
    "test = glob(\"../nsd_alns/*.sam\")\n",
    "\n",
    "analysis.summarizeSAMFiles(test)\n",
    "\n",
    "type(data)"
   ]
  },
  {
   "cell_type": "code",
   "execution_count": 83,
   "metadata": {},
   "outputs": [
    {
     "name": "stdout",
     "output_type": "stream",
     "text": [
      "../nsd_alns/01_nsdaln.sam 68537\n",
      "../nsd_alns/02_nsdaln.sam 108936\n"
     ]
    }
   ],
   "source": [
    "import pandas as pd\n",
    "from Rprepper import exportForRAnalysis\n",
    "\n",
    "df = exportForRAnalysis([\"../nsd_alns/01_nsdaln.sam\", \"../nsd_alns/02_nsdaln.sam\"], \"../nsd_alns/test.csv\")"
   ]
  },
  {
   "cell_type": "code",
   "execution_count": 78,
   "metadata": {},
   "outputs": [
    {
     "data": {
      "text/html": "<div>\n<style scoped>\n    .dataframe tbody tr th:only-of-type {\n        vertical-align: middle;\n    }\n\n    .dataframe tbody tr th {\n        vertical-align: top;\n    }\n\n    .dataframe thead th {\n        text-align: right;\n    }\n</style>\n<table border=\"1\" class=\"dataframe\">\n  <thead>\n    <tr style=\"text-align: right;\">\n      <th></th>\n      <th>QNAME</th>\n      <th>FLAG</th>\n      <th>RNAME</th>\n      <th>POS</th>\n      <th>MAPQ</th>\n      <th>CIGAR</th>\n      <th>RNEXT</th>\n      <th>PNEXT</th>\n      <th>TLEN</th>\n      <th>SEQ</th>\n      <th>QUAL</th>\n      <th>RIGHT</th>\n      <th>LENGTH</th>\n      <th>SAMPLE</th>\n    </tr>\n  </thead>\n  <tbody>\n    <tr>\n      <th>2</th>\n      <td>d770ee0f-4bb3-482a-bae2-ba05320f21cf</td>\n      <td>16</td>\n      <td>Copy</td>\n      <td>703</td>\n      <td>60</td>\n      <td>36M2I42M1D3M1D27M1D16M36S</td>\n      <td>*</td>\n      <td>0</td>\n      <td>0</td>\n      <td>GACACAACTGTGTTCACTAGCAACCCCAGACAGACAATTCATGGTG...</td>\n      <td>&lt;&gt;9;.A6B39</td>\n      <td>830</td>\n      <td>126</td>\n      <td>01_nsdaln.sam</td>\n    </tr>\n    <tr>\n      <th>5</th>\n      <td>72dff230-ed1c-4491-a2ac-80de8ef2d014</td>\n      <td>0</td>\n      <td>Copy</td>\n      <td>703</td>\n      <td>60</td>\n      <td>44M2D12M1D29M4I42M130N34M1I19M1D3M2D9M38S</td>\n      <td>*</td>\n      <td>0</td>\n      <td>0</td>\n      <td>GACACAACTGTGTTCACTAGCAACCTCAAACGAACACCGTGGTGCC...</td>\n      <td>C4:9&gt;03</td>\n      <td>1031</td>\n      <td>197</td>\n      <td>01_nsdaln.sam</td>\n    </tr>\n    <tr>\n      <th>6</th>\n      <td>072aa80d-7604-42b6-85a2-613b1dd886cc</td>\n      <td>16</td>\n      <td>Copy</td>\n      <td>703</td>\n      <td>60</td>\n      <td>14M1I27M2I1M1D22M1I2M1D13M4D13M2D11M2D20M1I41M...</td>\n      <td>*</td>\n      <td>0</td>\n      <td>0</td>\n      <td>GACACAACTGTGTTCCACTAGCAACCTCAAACAAACACCATGCAGG...</td>\n      <td>E&gt;8.,&gt;76454,%#$#(0'2457,/*$$./C2CHE?F&gt;:A51%&amp;,7...</td>\n      <td>901</td>\n      <td>191</td>\n      <td>01_nsdaln.sam</td>\n    </tr>\n    <tr>\n      <th>13</th>\n      <td>38339752-84d5-42ad-99cf-76b1c78dce21</td>\n      <td>16</td>\n      <td>Copy</td>\n      <td>703</td>\n      <td>60</td>\n      <td>68M1D10M1I31M1D11M132N1M2D5M1I13M1D4M1D6M1I19M...</td>\n      <td>*</td>\n      <td>0</td>\n      <td>0</td>\n      <td>GACACAACTGTGTTCACTAGCAACCTCAAACAGACACCATGGTGCA...</td>\n      <td>31.8:7*;+..52599('1442,63%1/:857*8;=0)(%*87?;?...</td>\n      <td>1210</td>\n      <td>362</td>\n      <td>01_nsdaln.sam</td>\n    </tr>\n    <tr>\n      <th>14</th>\n      <td>add28e91-3cef-4e28-ae01-f2f97d54b3d4</td>\n      <td>0</td>\n      <td>Copy</td>\n      <td>703</td>\n      <td>60</td>\n      <td>46M1I59M3S</td>\n      <td>*</td>\n      <td>0</td>\n      <td>0</td>\n      <td>GACACAACTGTGTTCACTAGCAACCTCAAACGAACACCATGGTGCA...</td>\n      <td>A&gt;BAD02C</td>\n      <td>808</td>\n      <td>106</td>\n      <td>01_nsdaln.sam</td>\n    </tr>\n    <tr>\n      <th>...</th>\n      <td>...</td>\n      <td>...</td>\n      <td>...</td>\n      <td>...</td>\n      <td>...</td>\n      <td>...</td>\n      <td>...</td>\n      <td>...</td>\n      <td>...</td>\n      <td>...</td>\n      <td>...</td>\n      <td>...</td>\n      <td>...</td>\n      <td>...</td>\n    </tr>\n    <tr>\n      <th>352041</th>\n      <td>c551db6d-a5c3-4b17-a330-3749e1b3c1ff</td>\n      <td>0</td>\n      <td>Copy</td>\n      <td>703</td>\n      <td>60</td>\n      <td>16M1D67M1I33M1D29M13S</td>\n      <td>*</td>\n      <td>0</td>\n      <td>0</td>\n      <td>GACACAACTGTGTTCATAGCAGCCTCAAGCAGACACCATGGTGCAC...</td>\n      <td>NaN</td>\n      <td>850</td>\n      <td>146</td>\n      <td>01_nsdaln.sam</td>\n    </tr>\n    <tr>\n      <th>352046</th>\n      <td>8596465d-c5c7-4025-b8e5-6e58bc7e7892</td>\n      <td>16</td>\n      <td>Copy</td>\n      <td>703</td>\n      <td>60</td>\n      <td>23M1D7M2D10M2D8M1D7M4D2M2D50M2D9M130N6M2D2M1I4...</td>\n      <td>*</td>\n      <td>0</td>\n      <td>0</td>\n      <td>GACACAACTGTGTTCACTAGCAACTCAAACACACCATGGTACCTGA...</td>\n      <td>86/2%:,&lt;$'*0(01685=&gt;?</td>\n      <td>1068</td>\n      <td>219</td>\n      <td>01_nsdaln.sam</td>\n    </tr>\n    <tr>\n      <th>352047</th>\n      <td>b2ac3272-18d0-4988-b1df-76967721f099</td>\n      <td>0</td>\n      <td>Copy</td>\n      <td>703</td>\n      <td>60</td>\n      <td>46M3I7M1D6M1I9M1D43M4I9M1I8M130N17M1I12M1D12M1...</td>\n      <td>*</td>\n      <td>0</td>\n      <td>0</td>\n      <td>GACACAACTGTGTTCACTAGCAACCTCAAACAGACACCATGGTGCA...</td>\n      <td>&amp;$$%1+.6:.873;.*(%$#$$%**)&lt;59'0((215</td>\n      <td>1112</td>\n      <td>282</td>\n      <td>01_nsdaln.sam</td>\n    </tr>\n    <tr>\n      <th>352052</th>\n      <td>e577cbcd-526f-4ff1-9c0f-9e3c6d18e329</td>\n      <td>0</td>\n      <td>Copy</td>\n      <td>710</td>\n      <td>32</td>\n      <td>9S37M2I10M1I8M1D8M3I12M1D42M46S</td>\n      <td>*</td>\n      <td>0</td>\n      <td>0</td>\n      <td>GACACAGCGCTGTGTTCACTAGCAACCTCAAACAGACGCCATGGTG...</td>\n      <td>82,)')%(%%7:=C&gt;C&lt;**+'4778QJG?04,3)*8;;==;H.3A69(:</td>\n      <td>829</td>\n      <td>123</td>\n      <td>01_nsdaln.sam</td>\n    </tr>\n    <tr>\n      <th>352054</th>\n      <td>88445562-8565-45c8-9ed0-7de2c694f767</td>\n      <td>16</td>\n      <td>Copy</td>\n      <td>703</td>\n      <td>40</td>\n      <td>17M2I2M2I18M2I9M1I7M2D29M1D25M2D18M130N19M2D13...</td>\n      <td>*</td>\n      <td>0</td>\n      <td>0</td>\n      <td>GACACAACTGTGTTCGCCTTAGTGCAACTTTCAACAGACACCTCAT...</td>\n      <td>=727,602,,+$\"\")$%$*(&amp;$\"%'763/3,,-9$/:D9;3&amp;)**-...</td>\n      <td>1008</td>\n      <td>174</td>\n      <td>01_nsdaln.sam</td>\n    </tr>\n  </tbody>\n</table>\n<p>137074 rows × 14 columns</p>\n</div>",
      "text/plain": "                                       QNAME  FLAG RNAME  POS  MAPQ  \\\n2       d770ee0f-4bb3-482a-bae2-ba05320f21cf    16  Copy  703    60   \n5       72dff230-ed1c-4491-a2ac-80de8ef2d014     0  Copy  703    60   \n6       072aa80d-7604-42b6-85a2-613b1dd886cc    16  Copy  703    60   \n13      38339752-84d5-42ad-99cf-76b1c78dce21    16  Copy  703    60   \n14      add28e91-3cef-4e28-ae01-f2f97d54b3d4     0  Copy  703    60   \n...                                      ...   ...   ...  ...   ...   \n352041  c551db6d-a5c3-4b17-a330-3749e1b3c1ff     0  Copy  703    60   \n352046  8596465d-c5c7-4025-b8e5-6e58bc7e7892    16  Copy  703    60   \n352047  b2ac3272-18d0-4988-b1df-76967721f099     0  Copy  703    60   \n352052  e577cbcd-526f-4ff1-9c0f-9e3c6d18e329     0  Copy  710    32   \n352054  88445562-8565-45c8-9ed0-7de2c694f767    16  Copy  703    40   \n\n                                                    CIGAR RNEXT  PNEXT  TLEN  \\\n2                               36M2I42M1D3M1D27M1D16M36S     *      0     0   \n5               44M2D12M1D29M4I42M130N34M1I19M1D3M2D9M38S     *      0     0   \n6       14M1I27M2I1M1D22M1I2M1D13M4D13M2D11M2D20M1I41M...     *      0     0   \n13      68M1D10M1I31M1D11M132N1M2D5M1I13M1D4M1D6M1I19M...     *      0     0   \n14                                             46M1I59M3S     *      0     0   \n...                                                   ...   ...    ...   ...   \n352041                              16M1D67M1I33M1D29M13S     *      0     0   \n352046  23M1D7M2D10M2D8M1D7M4D2M2D50M2D9M130N6M2D2M1I4...     *      0     0   \n352047  46M3I7M1D6M1I9M1D43M4I9M1I8M130N17M1I12M1D12M1...     *      0     0   \n352052                    9S37M2I10M1I8M1D8M3I12M1D42M46S     *      0     0   \n352054  17M2I2M2I18M2I9M1I7M2D29M1D25M2D18M130N19M2D13...     *      0     0   \n\n                                                      SEQ  \\\n2       GACACAACTGTGTTCACTAGCAACCCCAGACAGACAATTCATGGTG...   \n5       GACACAACTGTGTTCACTAGCAACCTCAAACGAACACCGTGGTGCC...   \n6       GACACAACTGTGTTCCACTAGCAACCTCAAACAAACACCATGCAGG...   \n13      GACACAACTGTGTTCACTAGCAACCTCAAACAGACACCATGGTGCA...   \n14      GACACAACTGTGTTCACTAGCAACCTCAAACGAACACCATGGTGCA...   \n...                                                   ...   \n352041  GACACAACTGTGTTCATAGCAGCCTCAAGCAGACACCATGGTGCAC...   \n352046  GACACAACTGTGTTCACTAGCAACTCAAACACACCATGGTACCTGA...   \n352047  GACACAACTGTGTTCACTAGCAACCTCAAACAGACACCATGGTGCA...   \n352052  GACACAGCGCTGTGTTCACTAGCAACCTCAAACAGACGCCATGGTG...   \n352054  GACACAACTGTGTTCGCCTTAGTGCAACTTTCAACAGACACCTCAT...   \n\n                                                     QUAL  RIGHT  LENGTH  \\\n2                                              <>9;.A6B39    830     126   \n5                                                 C4:9>03   1031     197   \n6       E>8.,>76454,%#$#(0'2457,/*$$./C2CHE?F>:A51%&,7...    901     191   \n13      31.8:7*;+..52599('1442,63%1/:857*8;=0)(%*87?;?...   1210     362   \n14                                               A>BAD02C    808     106   \n...                                                   ...    ...     ...   \n352041                                                NaN    850     146   \n352046                              86/2%:,<$'*0(01685=>?   1068     219   \n352047               &$$%1+.6:.873;.*(%$#$$%**)<59'0((215   1112     282   \n352052  82,)')%(%%7:=C>C<**+'4778QJG?04,3)*8;;==;H.3A69(:    829     123   \n352054  =727,602,,+$\"\")$%$*(&$\"%'763/3,,-9$/:D9;3&)**-...   1008     174   \n\n               SAMPLE  \n2       01_nsdaln.sam  \n5       01_nsdaln.sam  \n6       01_nsdaln.sam  \n13      01_nsdaln.sam  \n14      01_nsdaln.sam  \n...               ...  \n352041  01_nsdaln.sam  \n352046  01_nsdaln.sam  \n352047  01_nsdaln.sam  \n352052  01_nsdaln.sam  \n352054  01_nsdaln.sam  \n\n[137074 rows x 14 columns]"
     },
     "execution_count": 78,
     "metadata": {},
     "output_type": "execute_result"
    }
   ],
   "source": []
  },
  {
   "cell_type": "code",
   "execution_count": null,
   "metadata": {},
   "outputs": [],
   "source": []
  }
 ],
 "metadata": {
  "kernelspec": {
   "display_name": "Python 3.9.1 64-bit",
   "metadata": {
    "interpreter": {
     "hash": "aee8b7b246df8f9039afb4144a1f6fd8d2ca17a180786b69acc140d282b71a49"
    }
   },
   "name": "python3"
  },
  "language_info": {
   "codemirror_mode": {
    "name": "ipython",
    "version": 3
   },
   "file_extension": ".py",
   "mimetype": "text/x-python",
   "name": "python",
   "nbconvert_exporter": "python",
   "pygments_lexer": "ipython3",
   "version": "3.9.1"
  },
  "orig_nbformat": 2
 },
 "nbformat": 4,
 "nbformat_minor": 2
}