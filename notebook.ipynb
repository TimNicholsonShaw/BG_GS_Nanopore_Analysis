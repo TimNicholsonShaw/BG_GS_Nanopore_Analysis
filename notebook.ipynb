{
 "cells": [
  {
   "cell_type": "code",
   "execution_count": null,
   "metadata": {},
   "outputs": [],
   "source": [
    "import pandas as pd \n",
    "import tools\n",
    "\n",
    "sam_cols = [tools.samColumnsDict[x] for x in range(11)]\n",
    "\n",
    "df = pd.read_csv(\"../nsd_alns/01_nsdaln.sam\", comment=\"@\", delimiter=\"\\t\", header=None, usecols=range(11), names=sam_cols)\n",
    "\n",
    "df.head() \n"
   ]
  },
  {
   "cell_type": "code",
   "execution_count": 1,
   "metadata": {},
   "outputs": [
    {
     "name": "stdout",
     "output_type": "stream",
     "text": [
      "finished ../nsd_alns/07_nsdaln.sam\n",
      "finished ../nsd_alns/02_nsdaln.sam\n",
      "finished ../nsd_alns/08_nsdaln.sam\n",
      "finished ../nsd_alns/05_nsdaln.sam\n",
      "finished ../nsd_alns/11_nsdaln.sam\n",
      "finished ../nsd_alns/03_nsdaln.sam\n",
      "finished ../nsd_alns/12_nsdaln.sam\n",
      "finished ../nsd_alns/06_nsdaln.sam\n",
      "finished ../nsd_alns/01_nsdaln.sam\n",
      "finished ../nsd_alns/10_nsdaln.sam\n",
      "finished ../nsd_alns/09_nsdaln.sam\n",
      "finished ../nsd_alns/04_nsdaln.sam\n"
     ]
    }
   ],
   "source": [
    "from tools import globSamFilterer\n",
    "\n",
    "globSamFilterer(\"../nsd_alns/*.sam\")"
   ]
  }
 ],
 "metadata": {
  "kernelspec": {
   "display_name": "Python 3.9.1 64-bit",
   "metadata": {
    "interpreter": {
     "hash": "aee8b7b246df8f9039afb4144a1f6fd8d2ca17a180786b69acc140d282b71a49"
    }
   },
   "name": "python3"
  },
  "language_info": {
   "codemirror_mode": {
    "name": "ipython",
    "version": 3
   },
   "file_extension": ".py",
   "mimetype": "text/x-python",
   "name": "python",
   "nbconvert_exporter": "python",
   "pygments_lexer": "ipython3",
   "version": "3.9.1"
  },
  "orig_nbformat": 2
 },
 "nbformat": 4,
 "nbformat_minor": 2
}