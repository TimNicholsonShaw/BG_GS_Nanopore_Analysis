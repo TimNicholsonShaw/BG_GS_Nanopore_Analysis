{
 "cells": [
  {
   "cell_type": "code",
   "execution_count": null,
   "metadata": {},
   "outputs": [],
   "source": [
    "import pandas as pd \n",
    "import tools\n",
    "\n",
    "sam_cols = [tools.samColumnsDict[x] for x in range(11)]\n",
    "\n",
    "df = pd.read_csv(\"../nsd_alns/01_nsdaln.sam\", comment=\"@\", delimiter=\"\\t\", header=None, usecols=range(11), names=sam_cols)\n",
    "\n",
    "df.head() \n"
   ]
  },
  {
   "cell_type": "code",
   "execution_count": 1,
   "metadata": {},
   "outputs": [
    {
     "name": "stdout",
     "output_type": "stream",
     "text": [
      "finished ../nsd_alns/07_nsdaln.sam\n",
      "finished ../nsd_alns/02_nsdaln.sam\n",
      "finished ../nsd_alns/08_nsdaln.sam\n",
      "finished ../nsd_alns/05_nsdaln.sam\n",
      "finished ../nsd_alns/11_nsdaln.sam\n",
      "finished ../nsd_alns/03_nsdaln.sam\n",
      "finished ../nsd_alns/12_nsdaln.sam\n",
      "finished ../nsd_alns/06_nsdaln.sam\n",
      "finished ../nsd_alns/01_nsdaln.sam\n",
      "finished ../nsd_alns/10_nsdaln.sam\n",
      "finished ../nsd_alns/09_nsdaln.sam\n",
      "finished ../nsd_alns/04_nsdaln.sam\n"
     ]
    }
   ],
   "source": [
    "from tools import globSamFilterer\n",
    "\n",
    "globSamFilterer(\"../nsd_alns/*.sam\")"
   ]
  },
  {
   "cell_type": "code",
   "execution_count": 3,
   "metadata": {},
   "outputs": [
    {
     "data": {
      "text/html": "<div>\n<style scoped>\n    .dataframe tbody tr th:only-of-type {\n        vertical-align: middle;\n    }\n\n    .dataframe tbody tr th {\n        vertical-align: top;\n    }\n\n    .dataframe thead th {\n        text-align: right;\n    }\n</style>\n<table border=\"1\" class=\"dataframe\">\n  <thead>\n    <tr style=\"text-align: right;\">\n      <th></th>\n      <th>QNAME</th>\n      <th>FLAG</th>\n      <th>RNAME</th>\n      <th>POS</th>\n      <th>MAPQ</th>\n      <th>CIGAR</th>\n      <th>RNEXT</th>\n      <th>PNEXT</th>\n      <th>TLEN</th>\n      <th>SEQ</th>\n      <th>QUAL</th>\n    </tr>\n  </thead>\n  <tbody>\n    <tr>\n      <th>0</th>\n      <td>c23f1ed0-a58d-4c88-a4d7-b08c75236f5e</td>\n      <td>4</td>\n      <td>*</td>\n      <td>0</td>\n      <td>0</td>\n      <td>*</td>\n      <td>*</td>\n      <td>0</td>\n      <td>0</td>\n      <td>ACGACGCTCTTCCGATCTATGGATACGACTTGAAGTGCCCGTACGG...</td>\n      <td>:4453$0884=?5=&lt;E=1+*04C=:638).--(&amp;$$\"%)3;</td>\n    </tr>\n    <tr>\n      <th>1</th>\n      <td>47385d15-6767-4ec2-8720-fd7f2555def5</td>\n      <td>4</td>\n      <td>*</td>\n      <td>0</td>\n      <td>0</td>\n      <td>*</td>\n      <td>*</td>\n      <td>0</td>\n      <td>0</td>\n      <td>CAAGGTCATGAGTTCGATCCCCGTACGGGCCACCAAGTCGTATCCC...</td>\n      <td>=./+-6*$$)%-0*$'&amp;5</td>\n    </tr>\n    <tr>\n      <th>2</th>\n      <td>d770ee0f-4bb3-482a-bae2-ba05320f21cf</td>\n      <td>16</td>\n      <td>Copy</td>\n      <td>703</td>\n      <td>60</td>\n      <td>36M2I42M1D3M1D27M1D16M36S</td>\n      <td>*</td>\n      <td>0</td>\n      <td>0</td>\n      <td>GACACAACTGTGTTCACTAGCAACCCCAGACAGACAATTCATGGTG...</td>\n      <td>&lt;&gt;9;.A6B39</td>\n    </tr>\n    <tr>\n      <th>3</th>\n      <td>40f4ae24-3288-4e3d-b5cd-58ca591d059b</td>\n      <td>4</td>\n      <td>*</td>\n      <td>0</td>\n      <td>0</td>\n      <td>*</td>\n      <td>*</td>\n      <td>0</td>\n      <td>0</td>\n      <td>GACACAACCTTTGTGTTCACTAGCAACCTCAAGCGAACGCATGGTG...</td>\n      <td>=5,%&amp;$#(%*441)*&amp;0610-)0226NIC;45&amp;1*)+%(*45),3*...</td>\n    </tr>\n    <tr>\n      <th>4</th>\n      <td>e7ff24d4-f51f-4957-bf43-212787419b31</td>\n      <td>4</td>\n      <td>*</td>\n      <td>0</td>\n      <td>0</td>\n      <td>*</td>\n      <td>*</td>\n      <td>0</td>\n      <td>0</td>\n      <td>GGCACAACTGTGTTCACTGCAACCTCAGAAACGGAGCACCATAGTG...</td>\n      <td>$&amp;++,(((.44)155%&amp;'\"'+-:19(2&amp;31,1$&amp;%#%0.0--'','...</td>\n    </tr>\n  </tbody>\n</table>\n</div>",
      "text/plain": "                                  QNAME  FLAG RNAME  POS  MAPQ  \\\n0  c23f1ed0-a58d-4c88-a4d7-b08c75236f5e     4     *    0     0   \n1  47385d15-6767-4ec2-8720-fd7f2555def5     4     *    0     0   \n2  d770ee0f-4bb3-482a-bae2-ba05320f21cf    16  Copy  703    60   \n3  40f4ae24-3288-4e3d-b5cd-58ca591d059b     4     *    0     0   \n4  e7ff24d4-f51f-4957-bf43-212787419b31     4     *    0     0   \n\n                       CIGAR RNEXT  PNEXT  TLEN  \\\n0                          *     *      0     0   \n1                          *     *      0     0   \n2  36M2I42M1D3M1D27M1D16M36S     *      0     0   \n3                          *     *      0     0   \n4                          *     *      0     0   \n\n                                                 SEQ  \\\n0  ACGACGCTCTTCCGATCTATGGATACGACTTGAAGTGCCCGTACGG...   \n1  CAAGGTCATGAGTTCGATCCCCGTACGGGCCACCAAGTCGTATCCC...   \n2  GACACAACTGTGTTCACTAGCAACCCCAGACAGACAATTCATGGTG...   \n3  GACACAACCTTTGTGTTCACTAGCAACCTCAAGCGAACGCATGGTG...   \n4  GGCACAACTGTGTTCACTGCAACCTCAGAAACGGAGCACCATAGTG...   \n\n                                                QUAL  \n0          :4453$0884=?5=<E=1+*04C=:638).--(&$$\"%)3;  \n1                                 =./+-6*$$)%-0*$'&5  \n2                                         <>9;.A6B39  \n3  =5,%&$#(%*441)*&0610-)0226NIC;45&1*)+%(*45),3*...  \n4  $&++,(((.44)155%&'\"'+-:19(2&31,1$&%#%0.0--'','...  "
     },
     "execution_count": 3,
     "metadata": {},
     "output_type": "execute_result"
    }
   ],
   "source": [
    "import pandas as pd \n",
    "import tools\n",
    "\n",
    "\n",
    "sam_cols = [tools.samColumnsDict[x] for x in range(11)]\n",
    "\n",
    "test = \"../nsd_alns/01_nsdaln.sam\"\n",
    "\n",
    "df = pd.read_csv(test, comment=\"@\", delimiter=\"\\t\", header=None, usecols=range(11), names=sam_cols)\n",
    "\n",
    "df.head() "
   ]
  },
  {
   "cell_type": "code",
   "execution_count": 14,
   "metadata": {},
   "outputs": [
    {
     "data": {
      "text/plain": "347585"
     },
     "execution_count": 14,
     "metadata": {},
     "output_type": "execute_result"
    }
   ],
   "source": [
    "is_mapped = df.FLAG.isin([0,16])\n",
    "\n",
    "len(df[is_mapped])\n",
    "\n",
    "len(df)\n"
   ]
  },
  {
   "cell_type": "code",
   "execution_count": 2,
   "metadata": {},
   "outputs": [
    {
     "data": {
      "text/plain": "pandas.core.frame.DataFrame"
     },
     "execution_count": 2,
     "metadata": {},
     "output_type": "execute_result"
    }
   ],
   "source": [
    "from analysis import samReader\n",
    "\n",
    "data = samReader(\"../nsd_alns/01_nsdaln.sam\")\n",
    "type(data)"
   ]
  },
  {
   "cell_type": "code",
   "execution_count": 18,
   "metadata": {},
   "outputs": [
    {
     "data": {
      "text/plain": "pandas.core.frame.DataFrame"
     },
     "execution_count": 18,
     "metadata": {},
     "output_type": "execute_result"
    }
   ],
   "source": [
    "import analysis, tools\n",
    "\n",
    "data = tools.samReader(\"../nsd_alns/01_nsdaln.sam\")\n",
    "type(data)\n",
    "\n"
   ]
  },
  {
   "cell_type": "code",
   "execution_count": 7,
   "metadata": {},
   "outputs": [
    {
     "data": {
      "text/plain": "0.21371175395946315"
     },
     "execution_count": 7,
     "metadata": {},
     "output_type": "execute_result"
    }
   ],
   "source": [
    "analysis.findPercentMapped(data)"
   ]
  },
  {
   "cell_type": "code",
   "execution_count": 14,
   "metadata": {},
   "outputs": [
    {
     "data": {
      "text/plain": "0.017981213228418946"
     },
     "execution_count": 14,
     "metadata": {},
     "output_type": "execute_result"
    }
   ],
   "source": [
    "analysis.findMismappedFivePrime(data)"
   ]
  },
  {
   "cell_type": "code",
   "execution_count": 35,
   "metadata": {},
   "outputs": [
    {
     "data": {
      "text/plain": "347585"
     },
     "execution_count": 35,
     "metadata": {},
     "output_type": "execute_result"
    }
   ],
   "source": [
    "df = tools.filterProperMapped(data)\n",
    "len(data)"
   ]
  },
  {
   "cell_type": "code",
   "execution_count": 38,
   "metadata": {},
   "outputs": [
    {
     "data": {
      "text/plain": "0.09711321005720368"
     },
     "execution_count": 38,
     "metadata": {},
     "output_type": "execute_result"
    }
   ],
   "source": [
    "analysis.percentProperMappedFullLength(data)"
   ]
  },
  {
   "cell_type": "code",
   "execution_count": null,
   "metadata": {},
   "outputs": [],
   "source": []
  }
 ],
 "metadata": {
  "kernelspec": {
   "display_name": "Python 3.9.1 64-bit",
   "metadata": {
    "interpreter": {
     "hash": "aee8b7b246df8f9039afb4144a1f6fd8d2ca17a180786b69acc140d282b71a49"
    }
   },
   "name": "python3"
  },
  "language_info": {
   "codemirror_mode": {
    "name": "ipython",
    "version": 3
   },
   "file_extension": ".py",
   "mimetype": "text/x-python",
   "name": "python",
   "nbconvert_exporter": "python",
   "pygments_lexer": "ipython3",
   "version": "3.9.1"
  },
  "orig_nbformat": 2
 },
 "nbformat": 4,
 "nbformat_minor": 2
}