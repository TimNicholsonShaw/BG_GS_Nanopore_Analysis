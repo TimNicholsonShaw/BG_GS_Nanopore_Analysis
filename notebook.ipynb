{
 "cells": [
  {
   "cell_type": "code",
   "execution_count": 18,
   "metadata": {},
   "outputs": [
    {
     "name": "stdout",
     "output_type": "stream",
     "text": [
      "../nsd_alns/01_nsdaln.sam -> bar01\n",
      "../nsd_alns/02_nsdaln.sam -> bar02\n",
      "../nsd_alns/03_nsdaln.sam -> bar03\n",
      "../nsd_alns/04_nsdaln.sam -> bar04\n",
      "../nsd_alns/05_nsdaln.sam -> bar05\n",
      "../nsd_alns/06_nsdaln.sam -> bar06\n",
      "../nsd_alns/07_nsdaln.sam -> bar07\n",
      "../nsd_alns/08_nsdaln.sam -> bar08\n",
      "../nsd_alns/09_nsdaln.sam -> bar09\n",
      "../nsd_alns/10_nsdaln.sam -> bar10\n",
      "../nsd_alns/11_nsdaln.sam -> bar11\n",
      "../nsd_alns/12_nsdaln.sam -> bar12\n"
     ]
    },
    {
     "data": {
      "text/html": "<div>\n<style scoped>\n    .dataframe tbody tr th:only-of-type {\n        vertical-align: middle;\n    }\n\n    .dataframe tbody tr th {\n        vertical-align: top;\n    }\n\n    .dataframe thead th {\n        text-align: right;\n    }\n</style>\n<table border=\"1\" class=\"dataframe\">\n  <thead>\n    <tr style=\"text-align: right;\">\n      <th></th>\n      <th>QNAME</th>\n      <th>FLAG</th>\n      <th>RNAME</th>\n      <th>POS</th>\n      <th>MAPQ</th>\n      <th>CIGAR</th>\n      <th>RNEXT</th>\n      <th>PNEXT</th>\n      <th>TLEN</th>\n      <th>SEQ</th>\n      <th>QUAL</th>\n      <th>RIGHT</th>\n      <th>LENGTH</th>\n      <th>id</th>\n      <th>condition</th>\n      <th>substrate</th>\n      <th>replicate</th>\n      <th>PNK</th>\n    </tr>\n  </thead>\n  <tbody>\n    <tr>\n      <th>2</th>\n      <td>d770ee0f-4bb3-482a-bae2-ba05320f21cf</td>\n      <td>16</td>\n      <td>Copy</td>\n      <td>703</td>\n      <td>60</td>\n      <td>36M2I42M1D3M1D27M1D16M36S</td>\n      <td>*</td>\n      <td>0</td>\n      <td>0</td>\n      <td>GACACAACTGTGTTCACTAGCAACCCCAGACAGACAATTCATGGTG...</td>\n      <td>&lt;&gt;9;.A6B39</td>\n      <td>830</td>\n      <td>126</td>\n      <td>bar01</td>\n      <td>siLuc</td>\n      <td>NSD</td>\n      <td>1</td>\n      <td>-</td>\n    </tr>\n    <tr>\n      <th>5</th>\n      <td>72dff230-ed1c-4491-a2ac-80de8ef2d014</td>\n      <td>0</td>\n      <td>Copy</td>\n      <td>703</td>\n      <td>60</td>\n      <td>44M2D12M1D29M4I42M130N34M1I19M1D3M2D9M38S</td>\n      <td>*</td>\n      <td>0</td>\n      <td>0</td>\n      <td>GACACAACTGTGTTCACTAGCAACCTCAAACGAACACCGTGGTGCC...</td>\n      <td>C4:9&gt;03</td>\n      <td>1031</td>\n      <td>197</td>\n      <td>bar01</td>\n      <td>siLuc</td>\n      <td>NSD</td>\n      <td>1</td>\n      <td>-</td>\n    </tr>\n    <tr>\n      <th>6</th>\n      <td>072aa80d-7604-42b6-85a2-613b1dd886cc</td>\n      <td>16</td>\n      <td>Copy</td>\n      <td>703</td>\n      <td>60</td>\n      <td>14M1I27M2I1M1D22M1I2M1D13M4D13M2D11M2D20M1I41M...</td>\n      <td>*</td>\n      <td>0</td>\n      <td>0</td>\n      <td>GACACAACTGTGTTCCACTAGCAACCTCAAACAAACACCATGCAGG...</td>\n      <td>E&gt;8.,&gt;76454,%#$#(0'2457,/*$$./C2CHE?F&gt;:A51%&amp;,7...</td>\n      <td>901</td>\n      <td>191</td>\n      <td>bar01</td>\n      <td>siLuc</td>\n      <td>NSD</td>\n      <td>1</td>\n      <td>-</td>\n    </tr>\n    <tr>\n      <th>13</th>\n      <td>38339752-84d5-42ad-99cf-76b1c78dce21</td>\n      <td>16</td>\n      <td>Copy</td>\n      <td>703</td>\n      <td>60</td>\n      <td>68M1D10M1I31M1D11M132N1M2D5M1I13M1D4M1D6M1I19M...</td>\n      <td>*</td>\n      <td>0</td>\n      <td>0</td>\n      <td>GACACAACTGTGTTCACTAGCAACCTCAAACAGACACCATGGTGCA...</td>\n      <td>31.8:7*;+..52599('1442,63%1/:857*8;=0)(%*87?;?...</td>\n      <td>1210</td>\n      <td>362</td>\n      <td>bar01</td>\n      <td>siLuc</td>\n      <td>NSD</td>\n      <td>1</td>\n      <td>-</td>\n    </tr>\n    <tr>\n      <th>14</th>\n      <td>add28e91-3cef-4e28-ae01-f2f97d54b3d4</td>\n      <td>0</td>\n      <td>Copy</td>\n      <td>703</td>\n      <td>60</td>\n      <td>46M1I59M3S</td>\n      <td>*</td>\n      <td>0</td>\n      <td>0</td>\n      <td>GACACAACTGTGTTCACTAGCAACCTCAAACGAACACCATGGTGCA...</td>\n      <td>A&gt;BAD02C</td>\n      <td>808</td>\n      <td>106</td>\n      <td>bar01</td>\n      <td>siLuc</td>\n      <td>NSD</td>\n      <td>1</td>\n      <td>-</td>\n    </tr>\n    <tr>\n      <th>...</th>\n      <td>...</td>\n      <td>...</td>\n      <td>...</td>\n      <td>...</td>\n      <td>...</td>\n      <td>...</td>\n      <td>...</td>\n      <td>...</td>\n      <td>...</td>\n      <td>...</td>\n      <td>...</td>\n      <td>...</td>\n      <td>...</td>\n      <td>...</td>\n      <td>...</td>\n      <td>...</td>\n      <td>...</td>\n      <td>...</td>\n    </tr>\n    <tr>\n      <th>216040</th>\n      <td>9005578e-c52f-448b-bf27-ac88d15abdbd</td>\n      <td>0</td>\n      <td>Copy</td>\n      <td>710</td>\n      <td>5</td>\n      <td>9S16M1D6M1I3M3I15M1D17M2I9M1I14M1I17M2D20M1I1M...</td>\n      <td>*</td>\n      <td>0</td>\n      <td>0</td>\n      <td>GACGCAACGCTGTGTTCACTAGCAACGCAAACCAGGCTGCTCCAGA...</td>\n      <td>&gt;&lt;7'2/13,'(+4&lt;&lt;D&gt;99+$/1670$.342:3+3+)#$$(%%$.$...</td>\n      <td>1165</td>\n      <td>309</td>\n      <td>bar12</td>\n      <td>siA1</td>\n      <td>NSD</td>\n      <td>3</td>\n      <td>+</td>\n    </tr>\n    <tr>\n      <th>216044</th>\n      <td>47b3b34f-6035-4b64-a224-9c5129e3dcb3</td>\n      <td>0</td>\n      <td>Copy</td>\n      <td>703</td>\n      <td>60</td>\n      <td>27M1D34M1I68M130N15M1D21M1S</td>\n      <td>*</td>\n      <td>0</td>\n      <td>0</td>\n      <td>GACACAACTGTGTTCACTAGCAACCTCAGCAGACACCATGGTGCAC...</td>\n      <td>)))9=),98;A:&gt;A&lt;00/214+,A:5(*#'+-+24888A./(::5;...</td>\n      <td>1000</td>\n      <td>166</td>\n      <td>bar12</td>\n      <td>siA1</td>\n      <td>NSD</td>\n      <td>3</td>\n      <td>+</td>\n    </tr>\n    <tr>\n      <th>216050</th>\n      <td>12467719-33a2-45d9-a16a-faebd6ab13ea</td>\n      <td>0</td>\n      <td>Copy</td>\n      <td>708</td>\n      <td>28</td>\n      <td>41M3I7M1D4M2I13M2I1M1I6M1D9M1I9M1I11M1I11M2I9M...</td>\n      <td>*</td>\n      <td>0</td>\n      <td>0</td>\n      <td>AACTGTGTTCACTAGCAGCCTCAAACAGACACCATGGTGCACACCC...</td>\n      <td>')/0317AG</td>\n      <td>1081</td>\n      <td>253</td>\n      <td>bar12</td>\n      <td>siA1</td>\n      <td>NSD</td>\n      <td>3</td>\n      <td>+</td>\n    </tr>\n    <tr>\n      <th>216051</th>\n      <td>392c20b6-72c9-4f84-800d-e97c6900886b</td>\n      <td>0</td>\n      <td>Copy</td>\n      <td>703</td>\n      <td>60</td>\n      <td>31M1I47M1D47M1I4M130N1I5M3D6M2I3M1I39M1I25M1D3...</td>\n      <td>*</td>\n      <td>0</td>\n      <td>0</td>\n      <td>GACACGGCTGTGTTCACTGGCGGCCTCAAACGAGACACCATGGTGC...</td>\n      <td>,*,-.#$'&amp;).)2:2//%%&amp;-#$*+02%%#)&amp;$/03%%;5&gt;34=14...</td>\n      <td>2323</td>\n      <td>637</td>\n      <td>bar12</td>\n      <td>siA1</td>\n      <td>NSD</td>\n      <td>3</td>\n      <td>+</td>\n    </tr>\n    <tr>\n      <th>216054</th>\n      <td>ee3c3a33-a1e8-4542-b008-7717b5d99286</td>\n      <td>16</td>\n      <td>Copy</td>\n      <td>703</td>\n      <td>60</td>\n      <td>1S23M1I22M1I40M1I5M4D26M1I10M130N18M30S</td>\n      <td>*</td>\n      <td>0</td>\n      <td>0</td>\n      <td>GGACACAACTGTGTTCACTAGCAACCCTCAAACAGACACCATGGTG...</td>\n      <td>&amp;3;:</td>\n      <td>981</td>\n      <td>148</td>\n      <td>bar12</td>\n      <td>siA1</td>\n      <td>NSD</td>\n      <td>3</td>\n      <td>+</td>\n    </tr>\n  </tbody>\n</table>\n<p>616178 rows × 18 columns</p>\n</div>",
      "text/plain": "                                       QNAME  FLAG  ... replicate  PNK\n2       d770ee0f-4bb3-482a-bae2-ba05320f21cf    16  ...         1    -\n5       72dff230-ed1c-4491-a2ac-80de8ef2d014     0  ...         1    -\n6       072aa80d-7604-42b6-85a2-613b1dd886cc    16  ...         1    -\n13      38339752-84d5-42ad-99cf-76b1c78dce21    16  ...         1    -\n14      add28e91-3cef-4e28-ae01-f2f97d54b3d4     0  ...         1    -\n...                                      ...   ...  ...       ...  ...\n216040  9005578e-c52f-448b-bf27-ac88d15abdbd     0  ...         3    +\n216044  47b3b34f-6035-4b64-a224-9c5129e3dcb3     0  ...         3    +\n216050  12467719-33a2-45d9-a16a-faebd6ab13ea     0  ...         3    +\n216051  392c20b6-72c9-4f84-800d-e97c6900886b     0  ...         3    +\n216054  ee3c3a33-a1e8-4542-b008-7717b5d99286    16  ...         3    +\n\n[616178 rows x 18 columns]"
     },
     "execution_count": 18,
     "metadata": {},
     "output_type": "execute_result"
    }
   ],
   "source": [
    "from Rprepper import exportForRAnalysis\n",
    "\n",
    "TLS137Files = [\"../nsd_alns/01_nsdaln.sam\",\n",
    "                \"../nsd_alns/02_nsdaln.sam\",\n",
    "                \"../nsd_alns/03_nsdaln.sam\",\n",
    "                \"../nsd_alns/04_nsdaln.sam\",\n",
    "                \"../nsd_alns/05_nsdaln.sam\",\n",
    "                \"../nsd_alns/06_nsdaln.sam\",\n",
    "                \"../nsd_alns/07_nsdaln.sam\",\n",
    "                \"../nsd_alns/08_nsdaln.sam\",\n",
    "                \"../nsd_alns/09_nsdaln.sam\",\n",
    "                \"../nsd_alns/10_nsdaln.sam\",\n",
    "                \"../nsd_alns/11_nsdaln.sam\",\n",
    "                \"../nsd_alns/12_nsdaln.sam\"]\n",
    "\n",
    "exportForRAnalysis(TLS137Files, \"TLS137_Rdf.csv\", metadata=\"metadata.csv\")"
   ]
  },
  {
   "cell_type": "code",
   "execution_count": null,
   "metadata": {},
   "outputs": [],
   "source": [
    "# Create csv files that are ready for R notebook analysis\n",
    "from Rprepper import exportForRAnalysis\n",
    "from glob import glob\n",
    "\n",
    "#exportForRAnalysis(glob(\"../nsd_alns/*.sam\"), \"TLS137_Rdf.csv\")\n",
    "#exportForRAnalysis(glob(\"../TLS129_nsd_alns/*.sam\"), \"TLS129_Rdf.csv\")\n",
    "\n",
    "\n"
   ]
  },
  {
   "cell_type": "code",
   "execution_count": 15,
   "metadata": {},
   "outputs": [
    {
     "data": {
      "text/plain": "'bar01'"
     },
     "execution_count": 15,
     "metadata": {},
     "output_type": "execute_result"
    }
   ],
   "source": [
    "import pandas as pd\n",
    "\n",
    "df = pd.read_csv(\"metadata.csv\")\n",
    "df.columns\n",
    "\n",
    "df.loc[0]['id']\n"
   ]
  },
  {
   "cell_type": "code",
   "execution_count": null,
   "metadata": {},
   "outputs": [],
   "source": []
  }
 ],
 "metadata": {
  "kernelspec": {
   "display_name": "Python 3.9.1 64-bit",
   "metadata": {
    "interpreter": {
     "hash": "aee8b7b246df8f9039afb4144a1f6fd8d2ca17a180786b69acc140d282b71a49"
    }
   },
   "name": "python3"
  },
  "language_info": {
   "codemirror_mode": {
    "name": "ipython",
    "version": 3
   },
   "file_extension": ".py",
   "mimetype": "text/x-python",
   "name": "python",
   "nbconvert_exporter": "python",
   "pygments_lexer": "ipython3",
   "version": "3.9.1"
  },
  "orig_nbformat": 2
 },
 "nbformat": 4,
 "nbformat_minor": 2
}