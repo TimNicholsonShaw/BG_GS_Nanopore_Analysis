{
 "cells": [
  {
   "cell_type": "code",
   "execution_count": null,
   "metadata": {},
   "outputs": [],
   "source": [
    "import pandas as pd \n",
    "import tools\n",
    "\n",
    "sam_cols = [tools.samColumnsDict[x] for x in range(11)]\n",
    "\n",
    "df = pd.read_csv(\"../nsd_alns/01_nsdaln.sam\", comment=\"@\", delimiter=\"\\t\", header=None, usecols=range(11), names=sam_cols)\n",
    "\n",
    "df.head() \n"
   ]
  },
  {
   "cell_type": "code",
   "execution_count": 1,
   "metadata": {},
   "outputs": [
    {
     "name": "stdout",
     "output_type": "stream",
     "text": [
      "finished ../nsd_alns/07_nsdaln.sam\n",
      "finished ../nsd_alns/02_nsdaln.sam\n",
      "finished ../nsd_alns/08_nsdaln.sam\n",
      "finished ../nsd_alns/05_nsdaln.sam\n",
      "finished ../nsd_alns/11_nsdaln.sam\n",
      "finished ../nsd_alns/03_nsdaln.sam\n",
      "finished ../nsd_alns/12_nsdaln.sam\n",
      "finished ../nsd_alns/06_nsdaln.sam\n",
      "finished ../nsd_alns/01_nsdaln.sam\n",
      "finished ../nsd_alns/10_nsdaln.sam\n",
      "finished ../nsd_alns/09_nsdaln.sam\n",
      "finished ../nsd_alns/04_nsdaln.sam\n"
     ]
    }
   ],
   "source": [
    "from tools import globSamFilterer\n",
    "\n",
    "globSamFilterer(\"../nsd_alns/*.sam\")"
   ]
  },
  {
   "cell_type": "code",
   "execution_count": 3,
   "metadata": {},
   "outputs": [
    {
     "data": {
      "text/html": "<div>\n<style scoped>\n    .dataframe tbody tr th:only-of-type {\n        vertical-align: middle;\n    }\n\n    .dataframe tbody tr th {\n        vertical-align: top;\n    }\n\n    .dataframe thead th {\n        text-align: right;\n    }\n</style>\n<table border=\"1\" class=\"dataframe\">\n  <thead>\n    <tr style=\"text-align: right;\">\n      <th></th>\n      <th>QNAME</th>\n      <th>FLAG</th>\n      <th>RNAME</th>\n      <th>POS</th>\n      <th>MAPQ</th>\n      <th>CIGAR</th>\n      <th>RNEXT</th>\n      <th>PNEXT</th>\n      <th>TLEN</th>\n      <th>SEQ</th>\n      <th>QUAL</th>\n    </tr>\n  </thead>\n  <tbody>\n    <tr>\n      <th>0</th>\n      <td>c23f1ed0-a58d-4c88-a4d7-b08c75236f5e</td>\n      <td>4</td>\n      <td>*</td>\n      <td>0</td>\n      <td>0</td>\n      <td>*</td>\n      <td>*</td>\n      <td>0</td>\n      <td>0</td>\n      <td>ACGACGCTCTTCCGATCTATGGATACGACTTGAAGTGCCCGTACGG...</td>\n      <td>:4453$0884=?5=&lt;E=1+*04C=:638).--(&amp;$$\"%)3;</td>\n    </tr>\n    <tr>\n      <th>1</th>\n      <td>47385d15-6767-4ec2-8720-fd7f2555def5</td>\n      <td>4</td>\n      <td>*</td>\n      <td>0</td>\n      <td>0</td>\n      <td>*</td>\n      <td>*</td>\n      <td>0</td>\n      <td>0</td>\n      <td>CAAGGTCATGAGTTCGATCCCCGTACGGGCCACCAAGTCGTATCCC...</td>\n      <td>=./+-6*$$)%-0*$'&amp;5</td>\n    </tr>\n    <tr>\n      <th>2</th>\n      <td>d770ee0f-4bb3-482a-bae2-ba05320f21cf</td>\n      <td>16</td>\n      <td>Copy</td>\n      <td>703</td>\n      <td>60</td>\n      <td>36M2I42M1D3M1D27M1D16M36S</td>\n      <td>*</td>\n      <td>0</td>\n      <td>0</td>\n      <td>GACACAACTGTGTTCACTAGCAACCCCAGACAGACAATTCATGGTG...</td>\n      <td>&lt;&gt;9;.A6B39</td>\n    </tr>\n    <tr>\n      <th>3</th>\n      <td>40f4ae24-3288-4e3d-b5cd-58ca591d059b</td>\n      <td>4</td>\n      <td>*</td>\n      <td>0</td>\n      <td>0</td>\n      <td>*</td>\n      <td>*</td>\n      <td>0</td>\n      <td>0</td>\n      <td>GACACAACCTTTGTGTTCACTAGCAACCTCAAGCGAACGCATGGTG...</td>\n      <td>=5,%&amp;$#(%*441)*&amp;0610-)0226NIC;45&amp;1*)+%(*45),3*...</td>\n    </tr>\n    <tr>\n      <th>4</th>\n      <td>e7ff24d4-f51f-4957-bf43-212787419b31</td>\n      <td>4</td>\n      <td>*</td>\n      <td>0</td>\n      <td>0</td>\n      <td>*</td>\n      <td>*</td>\n      <td>0</td>\n      <td>0</td>\n      <td>GGCACAACTGTGTTCACTGCAACCTCAGAAACGGAGCACCATAGTG...</td>\n      <td>$&amp;++,(((.44)155%&amp;'\"'+-:19(2&amp;31,1$&amp;%#%0.0--'','...</td>\n    </tr>\n  </tbody>\n</table>\n</div>",
      "text/plain": "                                  QNAME  FLAG RNAME  POS  MAPQ  \\\n0  c23f1ed0-a58d-4c88-a4d7-b08c75236f5e     4     *    0     0   \n1  47385d15-6767-4ec2-8720-fd7f2555def5     4     *    0     0   \n2  d770ee0f-4bb3-482a-bae2-ba05320f21cf    16  Copy  703    60   \n3  40f4ae24-3288-4e3d-b5cd-58ca591d059b     4     *    0     0   \n4  e7ff24d4-f51f-4957-bf43-212787419b31     4     *    0     0   \n\n                       CIGAR RNEXT  PNEXT  TLEN  \\\n0                          *     *      0     0   \n1                          *     *      0     0   \n2  36M2I42M1D3M1D27M1D16M36S     *      0     0   \n3                          *     *      0     0   \n4                          *     *      0     0   \n\n                                                 SEQ  \\\n0  ACGACGCTCTTCCGATCTATGGATACGACTTGAAGTGCCCGTACGG...   \n1  CAAGGTCATGAGTTCGATCCCCGTACGGGCCACCAAGTCGTATCCC...   \n2  GACACAACTGTGTTCACTAGCAACCCCAGACAGACAATTCATGGTG...   \n3  GACACAACCTTTGTGTTCACTAGCAACCTCAAGCGAACGCATGGTG...   \n4  GGCACAACTGTGTTCACTGCAACCTCAGAAACGGAGCACCATAGTG...   \n\n                                                QUAL  \n0          :4453$0884=?5=<E=1+*04C=:638).--(&$$\"%)3;  \n1                                 =./+-6*$$)%-0*$'&5  \n2                                         <>9;.A6B39  \n3  =5,%&$#(%*441)*&0610-)0226NIC;45&1*)+%(*45),3*...  \n4  $&++,(((.44)155%&'\"'+-:19(2&31,1$&%#%0.0--'','...  "
     },
     "execution_count": 3,
     "metadata": {},
     "output_type": "execute_result"
    }
   ],
   "source": [
    "import pandas as pd \n",
    "import tools\n",
    "\n",
    "\n",
    "sam_cols = [tools.samColumnsDict[x] for x in range(11)]\n",
    "\n",
    "test = \"../nsd_alns/01_nsdaln.sam\"\n",
    "\n",
    "df = pd.read_csv(test, comment=\"@\", delimiter=\"\\t\", header=None, usecols=range(11), names=sam_cols)\n",
    "\n",
    "df.head() "
   ]
  },
  {
   "cell_type": "code",
   "execution_count": 14,
   "metadata": {},
   "outputs": [
    {
     "data": {
      "text/plain": "347585"
     },
     "execution_count": 14,
     "metadata": {},
     "output_type": "execute_result"
    }
   ],
   "source": [
    "is_mapped = df.FLAG.isin([0,16])\n",
    "\n",
    "len(df[is_mapped])\n",
    "\n",
    "len(df)\n"
   ]
  },
  {
   "cell_type": "code",
   "execution_count": 2,
   "metadata": {},
   "outputs": [
    {
     "data": {
      "text/plain": "pandas.core.frame.DataFrame"
     },
     "execution_count": 2,
     "metadata": {},
     "output_type": "execute_result"
    }
   ],
   "source": [
    "from analysis import samReader\n",
    "\n",
    "data = samReader(\"../nsd_alns/01_nsdaln.sam\")\n",
    "type(data)"
   ]
  },
  {
   "cell_type": "code",
   "execution_count": 18,
   "metadata": {},
   "outputs": [
    {
     "data": {
      "text/plain": "pandas.core.frame.DataFrame"
     },
     "execution_count": 18,
     "metadata": {},
     "output_type": "execute_result"
    }
   ],
   "source": [
    "import analysis, tools\n",
    "\n",
    "data = tools.samReader(\"../nsd_alns/01_nsdaln.sam\")\n",
    "type(data)\n",
    "\n"
   ]
  },
  {
   "cell_type": "code",
   "execution_count": 7,
   "metadata": {},
   "outputs": [
    {
     "data": {
      "text/plain": "0.21371175395946315"
     },
     "execution_count": 7,
     "metadata": {},
     "output_type": "execute_result"
    }
   ],
   "source": [
    "analysis.findPercentMapped(data)"
   ]
  },
  {
   "cell_type": "code",
   "execution_count": 14,
   "metadata": {},
   "outputs": [
    {
     "data": {
      "text/plain": "0.017981213228418946"
     },
     "execution_count": 14,
     "metadata": {},
     "output_type": "execute_result"
    }
   ],
   "source": [
    "analysis.findMismappedFivePrime(data)"
   ]
  },
  {
   "cell_type": "code",
   "execution_count": 35,
   "metadata": {},
   "outputs": [
    {
     "data": {
      "text/plain": "347585"
     },
     "execution_count": 35,
     "metadata": {},
     "output_type": "execute_result"
    }
   ],
   "source": [
    "df = tools.filterProperMapped(data)\n",
    "len(data)"
   ]
  },
  {
   "cell_type": "code",
   "execution_count": 38,
   "metadata": {},
   "outputs": [
    {
     "data": {
      "text/plain": "0.09711321005720368"
     },
     "execution_count": 38,
     "metadata": {},
     "output_type": "execute_result"
    }
   ],
   "source": [
    "analysis.percentProperMappedFullLength(data)"
   ]
  },
  {
   "cell_type": "code",
   "execution_count": 49,
   "metadata": {},
   "outputs": [],
   "source": [
    "d = analysis.summarizeSAM(data)"
   ]
  },
  {
   "cell_type": "code",
   "execution_count": 52,
   "metadata": {},
   "outputs": [
    {
     "data": {
      "text/plain": "dict_items([('perMapped', 0.21371175395946315), ('perMisMappedFive', 0.017981213228418946), ('totalReads', 347585), ('medLenMapped', 159.0), ('stdevLenMapped', 171.42381304493213), ('medLenTotal', 94.0), ('stdevLenTotal', 119.6674011422739), ('meanLenMapped', 235.22721214813618), ('meanLenTotal', 130.64933757210466), ('perMappedLongerCutoff', 0.11906345616602368), ('perMappedFullLength', 0.09711321005720368)])"
     },
     "execution_count": 52,
     "metadata": {},
     "output_type": "execute_result"
    }
   ],
   "source": [
    "d.items()"
   ]
  },
  {
   "cell_type": "code",
   "execution_count": 70,
   "metadata": {},
   "outputs": [
    {
     "ename": "KeyboardInterrupt",
     "evalue": "",
     "output_type": "error",
     "traceback": [
      "\u001b[0;31m---------------------------------------------------------------------------\u001b[0m",
      "\u001b[0;31mKeyboardInterrupt\u001b[0m                         Traceback (most recent call last)",
      "\u001b[0;32m<ipython-input-70-6f50bee37058>\u001b[0m in \u001b[0;36m<module>\u001b[0;34m\u001b[0m\n\u001b[1;32m      2\u001b[0m \u001b[0mtest\u001b[0m \u001b[0;34m=\u001b[0m \u001b[0mglob\u001b[0m\u001b[0;34m(\u001b[0m\u001b[0;34m\"../nsd_alns/*.sam\"\u001b[0m\u001b[0;34m)\u001b[0m\u001b[0;34m\u001b[0m\u001b[0;34m\u001b[0m\u001b[0m\n\u001b[1;32m      3\u001b[0m \u001b[0;34m\u001b[0m\u001b[0m\n\u001b[0;32m----> 4\u001b[0;31m \u001b[0manalysis\u001b[0m\u001b[0;34m.\u001b[0m\u001b[0msummarizeSAMFiles\u001b[0m\u001b[0;34m(\u001b[0m\u001b[0mtest\u001b[0m\u001b[0;34m)\u001b[0m\u001b[0;34m\u001b[0m\u001b[0;34m\u001b[0m\u001b[0m\n\u001b[0m\u001b[1;32m      5\u001b[0m \u001b[0;34m\u001b[0m\u001b[0m\n\u001b[1;32m      6\u001b[0m \u001b[0mtype\u001b[0m\u001b[0;34m(\u001b[0m\u001b[0mdata\u001b[0m\u001b[0;34m)\u001b[0m\u001b[0;34m\u001b[0m\u001b[0;34m\u001b[0m\u001b[0m\n",
      "\u001b[0;32m~/Desktop/TLS137/BG_GS_Nanopore_Analysis/analysis.py\u001b[0m in \u001b[0;36msummarizeSAMFiles\u001b[0;34m(samList)\u001b[0m\n\u001b[1;32m    127\u001b[0m \u001b[0;34m\u001b[0m\u001b[0m\n\u001b[1;32m    128\u001b[0m \u001b[0;34m\u001b[0m\u001b[0m\n\u001b[0;32m--> 129\u001b[0;31m         \u001b[0;32mfor\u001b[0m \u001b[0mkey\u001b[0m\u001b[0;34m,\u001b[0m \u001b[0mvalue\u001b[0m \u001b[0;32min\u001b[0m \u001b[0msummarizeSAM\u001b[0m\u001b[0;34m(\u001b[0m\u001b[0msam_df\u001b[0m\u001b[0;34m)\u001b[0m\u001b[0;34m.\u001b[0m\u001b[0mitems\u001b[0m\u001b[0;34m(\u001b[0m\u001b[0;34m)\u001b[0m\u001b[0;34m:\u001b[0m\u001b[0;34m\u001b[0m\u001b[0;34m\u001b[0m\u001b[0m\n\u001b[0m\u001b[1;32m    130\u001b[0m             \u001b[0mcombo_dict\u001b[0m\u001b[0;34m.\u001b[0m\u001b[0msetdefault\u001b[0m\u001b[0;34m(\u001b[0m\u001b[0mkey\u001b[0m\u001b[0;34m,\u001b[0m \u001b[0;34m[\u001b[0m\u001b[0;34m]\u001b[0m\u001b[0;34m)\u001b[0m\u001b[0;34m.\u001b[0m\u001b[0mappend\u001b[0m\u001b[0;34m(\u001b[0m\u001b[0mvalue\u001b[0m\u001b[0;34m)\u001b[0m\u001b[0;34m\u001b[0m\u001b[0;34m\u001b[0m\u001b[0m\n\u001b[1;32m    131\u001b[0m \u001b[0;34m\u001b[0m\u001b[0m\n",
      "\u001b[0;32m~/Desktop/TLS137/BG_GS_Nanopore_Analysis/analysis.py\u001b[0m in \u001b[0;36msummarizeSAM\u001b[0;34m(sam_df)\u001b[0m\n\u001b[1;32m     99\u001b[0m     \u001b[0msummary\u001b[0m\u001b[0;34m[\u001b[0m\u001b[0;34m'perMisMappedFive'\u001b[0m\u001b[0;34m]\u001b[0m \u001b[0;34m=\u001b[0m \u001b[0mfindMismappedFivePrime\u001b[0m\u001b[0;34m(\u001b[0m\u001b[0msam_df\u001b[0m\u001b[0;34m)\u001b[0m\u001b[0;34m\u001b[0m\u001b[0;34m\u001b[0m\u001b[0m\n\u001b[1;32m    100\u001b[0m     \u001b[0msummary\u001b[0m\u001b[0;34m[\u001b[0m\u001b[0;34m'totalReads'\u001b[0m\u001b[0;34m]\u001b[0m \u001b[0;34m=\u001b[0m \u001b[0mfindTotalReads\u001b[0m\u001b[0;34m(\u001b[0m\u001b[0msam_df\u001b[0m\u001b[0;34m)\u001b[0m\u001b[0;34m\u001b[0m\u001b[0;34m\u001b[0m\u001b[0m\n\u001b[0;32m--> 101\u001b[0;31m     \u001b[0msummary\u001b[0m\u001b[0;34m[\u001b[0m\u001b[0;34m'medLenMapped'\u001b[0m\u001b[0;34m]\u001b[0m \u001b[0;34m=\u001b[0m \u001b[0mfindMedianLengthMapped\u001b[0m\u001b[0;34m(\u001b[0m\u001b[0msam_df\u001b[0m\u001b[0;34m)\u001b[0m\u001b[0;34m\u001b[0m\u001b[0;34m\u001b[0m\u001b[0m\n\u001b[0m\u001b[1;32m    102\u001b[0m     \u001b[0msummary\u001b[0m\u001b[0;34m[\u001b[0m\u001b[0;34m'stdevLenMapped'\u001b[0m\u001b[0;34m]\u001b[0m \u001b[0;34m=\u001b[0m \u001b[0mfindStdevLengthMapped\u001b[0m\u001b[0;34m(\u001b[0m\u001b[0msam_df\u001b[0m\u001b[0;34m)\u001b[0m\u001b[0;34m\u001b[0m\u001b[0;34m\u001b[0m\u001b[0m\n\u001b[1;32m    103\u001b[0m     \u001b[0msummary\u001b[0m\u001b[0;34m[\u001b[0m\u001b[0;34m'medLenTotal'\u001b[0m\u001b[0;34m]\u001b[0m \u001b[0;34m=\u001b[0m \u001b[0mfindMedianLengthTotal\u001b[0m\u001b[0;34m(\u001b[0m\u001b[0msam_df\u001b[0m\u001b[0;34m)\u001b[0m\u001b[0;34m\u001b[0m\u001b[0;34m\u001b[0m\u001b[0m\n",
      "\u001b[0;32m~/Desktop/TLS137/BG_GS_Nanopore_Analysis/analysis.py\u001b[0m in \u001b[0;36mfindMedianLengthMapped\u001b[0;34m(sam_df)\u001b[0m\n\u001b[1;32m     43\u001b[0m \u001b[0;32mdef\u001b[0m \u001b[0mfindMedianLengthMapped\u001b[0m\u001b[0;34m(\u001b[0m\u001b[0msam_df\u001b[0m\u001b[0;34m)\u001b[0m\u001b[0;34m:\u001b[0m\u001b[0;34m\u001b[0m\u001b[0;34m\u001b[0m\u001b[0m\n\u001b[1;32m     44\u001b[0m \u001b[0;34m\u001b[0m\u001b[0m\n\u001b[0;32m---> 45\u001b[0;31m     \u001b[0msam_df\u001b[0m \u001b[0;34m=\u001b[0m \u001b[0mtools\u001b[0m\u001b[0;34m.\u001b[0m\u001b[0misExtendedOrReturnsExtended\u001b[0m\u001b[0;34m(\u001b[0m\u001b[0msam_df\u001b[0m\u001b[0;34m)\u001b[0m\u001b[0;34m\u001b[0m\u001b[0;34m\u001b[0m\u001b[0m\n\u001b[0m\u001b[1;32m     46\u001b[0m     \u001b[0mis_mapped\u001b[0m \u001b[0;34m=\u001b[0m \u001b[0msam_df\u001b[0m\u001b[0;34m.\u001b[0m\u001b[0mFLAG\u001b[0m\u001b[0;34m.\u001b[0m\u001b[0misin\u001b[0m\u001b[0;34m(\u001b[0m\u001b[0;34m[\u001b[0m\u001b[0;36m0\u001b[0m\u001b[0;34m,\u001b[0m\u001b[0;36m16\u001b[0m\u001b[0;34m]\u001b[0m\u001b[0;34m)\u001b[0m\u001b[0;34m\u001b[0m\u001b[0;34m\u001b[0m\u001b[0m\n\u001b[1;32m     47\u001b[0m     \u001b[0msam_df\u001b[0m \u001b[0;34m=\u001b[0m \u001b[0msam_df\u001b[0m\u001b[0;34m[\u001b[0m\u001b[0mis_mapped\u001b[0m\u001b[0;34m]\u001b[0m\u001b[0;34m\u001b[0m\u001b[0;34m\u001b[0m\u001b[0m\n",
      "\u001b[0;32m~/Desktop/TLS137/BG_GS_Nanopore_Analysis/tools.py\u001b[0m in \u001b[0;36misExtendedOrReturnsExtended\u001b[0;34m(sam_df)\u001b[0m\n\u001b[1;32m    118\u001b[0m         \u001b[0;32mreturn\u001b[0m \u001b[0msam_df\u001b[0m\u001b[0;34m\u001b[0m\u001b[0;34m\u001b[0m\u001b[0m\n\u001b[1;32m    119\u001b[0m     \u001b[0;32melse\u001b[0m\u001b[0;34m:\u001b[0m\u001b[0;34m\u001b[0m\u001b[0;34m\u001b[0m\u001b[0m\n\u001b[0;32m--> 120\u001b[0;31m         \u001b[0;32mreturn\u001b[0m \u001b[0msamExtender\u001b[0m\u001b[0;34m(\u001b[0m\u001b[0msam_df\u001b[0m\u001b[0;34m)\u001b[0m\u001b[0;34m\u001b[0m\u001b[0;34m\u001b[0m\u001b[0m\n\u001b[0m\u001b[1;32m    121\u001b[0m \u001b[0;34m\u001b[0m\u001b[0m\n\u001b[1;32m    122\u001b[0m \u001b[0;31m#Returns sam df with properly mapped reads\u001b[0m\u001b[0;34m\u001b[0m\u001b[0;34m\u001b[0m\u001b[0;34m\u001b[0m\u001b[0m\n",
      "\u001b[0;32m~/Desktop/TLS137/BG_GS_Nanopore_Analysis/tools.py\u001b[0m in \u001b[0;36msamExtender\u001b[0;34m(sam_df)\u001b[0m\n\u001b[1;32m    109\u001b[0m     \u001b[0msam_df\u001b[0m\u001b[0;34m[\u001b[0m\u001b[0;34m'RIGHT'\u001b[0m\u001b[0;34m]\u001b[0m \u001b[0;34m=\u001b[0m \u001b[0;34m[\u001b[0m\u001b[0mrightFinder\u001b[0m\u001b[0;34m(\u001b[0m\u001b[0mleft\u001b[0m\u001b[0;34m,\u001b[0m \u001b[0mCIGAR\u001b[0m\u001b[0;34m)\u001b[0m \u001b[0;32mfor\u001b[0m \u001b[0mleft\u001b[0m\u001b[0;34m,\u001b[0m\u001b[0mCIGAR\u001b[0m \u001b[0;32min\u001b[0m \u001b[0mzip\u001b[0m\u001b[0;34m(\u001b[0m\u001b[0msam_df\u001b[0m\u001b[0;34m.\u001b[0m\u001b[0mPOS\u001b[0m\u001b[0;34m,\u001b[0m \u001b[0msam_df\u001b[0m\u001b[0;34m.\u001b[0m\u001b[0mCIGAR\u001b[0m\u001b[0;34m)\u001b[0m\u001b[0;34m]\u001b[0m\u001b[0;34m\u001b[0m\u001b[0;34m\u001b[0m\u001b[0m\n\u001b[1;32m    110\u001b[0m \u001b[0;34m\u001b[0m\u001b[0m\n\u001b[0;32m--> 111\u001b[0;31m     \u001b[0msam_df\u001b[0m\u001b[0;34m[\u001b[0m\u001b[0;34m'LENGTH'\u001b[0m\u001b[0;34m]\u001b[0m \u001b[0;34m=\u001b[0m \u001b[0;34m[\u001b[0m\u001b[0mlengthFinder\u001b[0m\u001b[0;34m(\u001b[0m\u001b[0mCIGAR\u001b[0m\u001b[0;34m)\u001b[0m \u001b[0;32mfor\u001b[0m \u001b[0mCIGAR\u001b[0m \u001b[0;32min\u001b[0m \u001b[0msam_df\u001b[0m\u001b[0;34m.\u001b[0m\u001b[0mCIGAR\u001b[0m\u001b[0;34m]\u001b[0m\u001b[0;34m\u001b[0m\u001b[0;34m\u001b[0m\u001b[0m\n\u001b[0m\u001b[1;32m    112\u001b[0m \u001b[0;34m\u001b[0m\u001b[0m\n\u001b[1;32m    113\u001b[0m     \u001b[0;32mreturn\u001b[0m \u001b[0msam_df\u001b[0m\u001b[0;34m\u001b[0m\u001b[0;34m\u001b[0m\u001b[0m\n",
      "\u001b[0;32m~/Desktop/TLS137/BG_GS_Nanopore_Analysis/tools.py\u001b[0m in \u001b[0;36m<listcomp>\u001b[0;34m(.0)\u001b[0m\n\u001b[1;32m    109\u001b[0m     \u001b[0msam_df\u001b[0m\u001b[0;34m[\u001b[0m\u001b[0;34m'RIGHT'\u001b[0m\u001b[0;34m]\u001b[0m \u001b[0;34m=\u001b[0m \u001b[0;34m[\u001b[0m\u001b[0mrightFinder\u001b[0m\u001b[0;34m(\u001b[0m\u001b[0mleft\u001b[0m\u001b[0;34m,\u001b[0m \u001b[0mCIGAR\u001b[0m\u001b[0;34m)\u001b[0m \u001b[0;32mfor\u001b[0m \u001b[0mleft\u001b[0m\u001b[0;34m,\u001b[0m\u001b[0mCIGAR\u001b[0m \u001b[0;32min\u001b[0m \u001b[0mzip\u001b[0m\u001b[0;34m(\u001b[0m\u001b[0msam_df\u001b[0m\u001b[0;34m.\u001b[0m\u001b[0mPOS\u001b[0m\u001b[0;34m,\u001b[0m \u001b[0msam_df\u001b[0m\u001b[0;34m.\u001b[0m\u001b[0mCIGAR\u001b[0m\u001b[0;34m)\u001b[0m\u001b[0;34m]\u001b[0m\u001b[0;34m\u001b[0m\u001b[0;34m\u001b[0m\u001b[0m\n\u001b[1;32m    110\u001b[0m \u001b[0;34m\u001b[0m\u001b[0m\n\u001b[0;32m--> 111\u001b[0;31m     \u001b[0msam_df\u001b[0m\u001b[0;34m[\u001b[0m\u001b[0;34m'LENGTH'\u001b[0m\u001b[0;34m]\u001b[0m \u001b[0;34m=\u001b[0m \u001b[0;34m[\u001b[0m\u001b[0mlengthFinder\u001b[0m\u001b[0;34m(\u001b[0m\u001b[0mCIGAR\u001b[0m\u001b[0;34m)\u001b[0m \u001b[0;32mfor\u001b[0m \u001b[0mCIGAR\u001b[0m \u001b[0;32min\u001b[0m \u001b[0msam_df\u001b[0m\u001b[0;34m.\u001b[0m\u001b[0mCIGAR\u001b[0m\u001b[0;34m]\u001b[0m\u001b[0;34m\u001b[0m\u001b[0;34m\u001b[0m\u001b[0m\n\u001b[0m\u001b[1;32m    112\u001b[0m \u001b[0;34m\u001b[0m\u001b[0m\n\u001b[1;32m    113\u001b[0m     \u001b[0;32mreturn\u001b[0m \u001b[0msam_df\u001b[0m\u001b[0;34m\u001b[0m\u001b[0;34m\u001b[0m\u001b[0m\n",
      "\u001b[0;32m~/Desktop/TLS137/BG_GS_Nanopore_Analysis/tools.py\u001b[0m in \u001b[0;36mlengthFinder\u001b[0;34m(CIGAR)\u001b[0m\n\u001b[1;32m     55\u001b[0m         \u001b[0;34m\"X\"\u001b[0m\u001b[0;34m:\u001b[0m\u001b[0;32mTrue\u001b[0m\u001b[0;34m,\u001b[0m\u001b[0;34m\u001b[0m\u001b[0;34m\u001b[0m\u001b[0m\n\u001b[1;32m     56\u001b[0m     }\n\u001b[0;32m---> 57\u001b[0;31m     \u001b[0;32mfor\u001b[0m \u001b[0mitem\u001b[0m \u001b[0;32min\u001b[0m \u001b[0mre\u001b[0m\u001b[0;34m.\u001b[0m\u001b[0mfindall\u001b[0m\u001b[0;34m(\u001b[0m\u001b[0;34mr'(\\d+)([\\w+]{1})'\u001b[0m\u001b[0;34m,\u001b[0m \u001b[0mCIGAR\u001b[0m\u001b[0;34m)\u001b[0m\u001b[0;34m:\u001b[0m\u001b[0;34m\u001b[0m\u001b[0;34m\u001b[0m\u001b[0m\n\u001b[0m\u001b[1;32m     58\u001b[0m         \u001b[0;32mif\u001b[0m \u001b[0mcodes\u001b[0m\u001b[0;34m[\u001b[0m\u001b[0mitem\u001b[0m\u001b[0;34m[\u001b[0m\u001b[0;36m1\u001b[0m\u001b[0;34m]\u001b[0m\u001b[0;34m]\u001b[0m\u001b[0;34m:\u001b[0m\u001b[0;34m\u001b[0m\u001b[0;34m\u001b[0m\u001b[0m\n\u001b[1;32m     59\u001b[0m             \u001b[0mlength\u001b[0m\u001b[0;34m+=\u001b[0m\u001b[0mint\u001b[0m\u001b[0;34m(\u001b[0m\u001b[0mitem\u001b[0m\u001b[0;34m[\u001b[0m\u001b[0;36m0\u001b[0m\u001b[0;34m]\u001b[0m\u001b[0;34m)\u001b[0m\u001b[0;34m\u001b[0m\u001b[0;34m\u001b[0m\u001b[0m\n",
      "\u001b[0;31mKeyboardInterrupt\u001b[0m: "
     ]
    }
   ],
   "source": [
    "from glob import glob\n",
    "test = glob(\"../nsd_alns/*.sam\")\n",
    "\n",
    "analysis.summarizeSAMFiles(test)\n",
    "\n",
    "type(data)"
   ]
  },
  {
   "cell_type": "code",
   "execution_count": 85,
   "metadata": {},
   "outputs": [
    {
     "name": "stdout",
     "output_type": "stream",
     "text": [
      "../nsd_alns/07_nsdaln.sam 69536\n",
      "../nsd_alns/08_nsdaln.sam 121955\n",
      "../nsd_alns/09_nsdaln.sam 168701\n",
      "../nsd_alns/10_nsdaln.sam 219177\n",
      "../nsd_alns/11_nsdaln.sam 298795\n",
      "../nsd_alns/12_nsdaln.sam 367750\n"
     ]
    },
    {
     "data": {
      "text/html": "<div>\n<style scoped>\n    .dataframe tbody tr th:only-of-type {\n        vertical-align: middle;\n    }\n\n    .dataframe tbody tr th {\n        vertical-align: top;\n    }\n\n    .dataframe thead th {\n        text-align: right;\n    }\n</style>\n<table border=\"1\" class=\"dataframe\">\n  <thead>\n    <tr style=\"text-align: right;\">\n      <th></th>\n      <th>QNAME</th>\n      <th>FLAG</th>\n      <th>RNAME</th>\n      <th>POS</th>\n      <th>MAPQ</th>\n      <th>CIGAR</th>\n      <th>RNEXT</th>\n      <th>PNEXT</th>\n      <th>TLEN</th>\n      <th>SEQ</th>\n      <th>QUAL</th>\n      <th>RIGHT</th>\n      <th>LENGTH</th>\n      <th>SAMPLE</th>\n    </tr>\n  </thead>\n  <tbody>\n    <tr>\n      <th>2</th>\n      <td>a189cc59-0a45-414f-bd37-67eeb942d551</td>\n      <td>0</td>\n      <td>Copy</td>\n      <td>703</td>\n      <td>60</td>\n      <td>53M1D28M3D9M1I5M1I19M94S</td>\n      <td>*</td>\n      <td>0</td>\n      <td>0</td>\n      <td>GACACAACTGTGTTCACTAGCAACCTCAAACAGACACCATGGTGCA...</td>\n      <td>A&lt;0*214K==A;&gt;&lt;,)+\"%#%&amp;'44;:</td>\n      <td>821</td>\n      <td>116</td>\n      <td>07_nsdaln.sam</td>\n    </tr>\n    <tr>\n      <th>7</th>\n      <td>c2add3c3-20e8-4545-9ebf-2c444bd591e4</td>\n      <td>0</td>\n      <td>Copy</td>\n      <td>706</td>\n      <td>60</td>\n      <td>2S41M3D12M2D44M3I2M1D2M2D17M5D126N56M1D18M1I3M...</td>\n      <td>*</td>\n      <td>0</td>\n      <td>0</td>\n      <td>GAACAACTGTGTTCACTAGCAACCTCAAACAGACACCATGGTGCTG...</td>\n      <td>92?D:=A=&lt;?8=</td>\n      <td>1164</td>\n      <td>323</td>\n      <td>07_nsdaln.sam</td>\n    </tr>\n    <tr>\n      <th>9</th>\n      <td>2929d309-cb76-4f78-8ac4-53440768abf6</td>\n      <td>16</td>\n      <td>Copy</td>\n      <td>704</td>\n      <td>60</td>\n      <td>44S54M2D21M1I53M33S</td>\n      <td>*</td>\n      <td>0</td>\n      <td>0</td>\n      <td>AATGCAAGTTACCGTGGAACGAACTTTCGCCGGTGCCGAGCCGCAC...</td>\n      <td>%##4*'#('%(')+),-(.$(;1'&amp;,%%-/.64*230&amp;&amp;)'&amp;)%*-...</td>\n      <td>834</td>\n      <td>129</td>\n      <td>07_nsdaln.sam</td>\n    </tr>\n    <tr>\n      <th>13</th>\n      <td>68dac6e8-5427-4696-9f60-2fc9b6309d83</td>\n      <td>16</td>\n      <td>Copy</td>\n      <td>703</td>\n      <td>60</td>\n      <td>23M1D44M1I13M1D43M32S</td>\n      <td>*</td>\n      <td>0</td>\n      <td>0</td>\n      <td>GACACAACTGTGCTCACTAGCAACTCAAACAGACACCATGGTGCAC...</td>\n      <td>=?0&gt;6&gt;6;01-6=34=;6849:71',-&gt;&lt;&lt;;&gt;G&gt;287D</td>\n      <td>828</td>\n      <td>124</td>\n      <td>07_nsdaln.sam</td>\n    </tr>\n    <tr>\n      <th>15</th>\n      <td>8d9c3db2-24a7-4244-9f3b-001c117cde32</td>\n      <td>16</td>\n      <td>Copy</td>\n      <td>703</td>\n      <td>60</td>\n      <td>80M1I41M1I4M2I5M31S</td>\n      <td>*</td>\n      <td>0</td>\n      <td>0</td>\n      <td>GACACAACTGTGTTCACTAGCAACTTCAAACAGACACCATGGTGCA...</td>\n      <td>&gt;DBA&gt;?&lt;?468</td>\n      <td>833</td>\n      <td>134</td>\n      <td>07_nsdaln.sam</td>\n    </tr>\n    <tr>\n      <th>...</th>\n      <td>...</td>\n      <td>...</td>\n      <td>...</td>\n      <td>...</td>\n      <td>...</td>\n      <td>...</td>\n      <td>...</td>\n      <td>...</td>\n      <td>...</td>\n      <td>...</td>\n      <td>...</td>\n      <td>...</td>\n      <td>...</td>\n      <td>...</td>\n    </tr>\n    <tr>\n      <th>216040</th>\n      <td>9005578e-c52f-448b-bf27-ac88d15abdbd</td>\n      <td>0</td>\n      <td>Copy</td>\n      <td>710</td>\n      <td>5</td>\n      <td>9S16M1D6M1I3M3I15M1D17M2I9M1I14M1I17M2D20M1I1M...</td>\n      <td>*</td>\n      <td>0</td>\n      <td>0</td>\n      <td>GACGCAACGCTGTGTTCACTAGCAACGCAAACCAGGCTGCTCCAGA...</td>\n      <td>&gt;&lt;7'2/13,'(+4&lt;&lt;D&gt;99+$/1670$.342:3+3+)#$$(%%$.$...</td>\n      <td>1165</td>\n      <td>309</td>\n      <td>12_nsdaln.sam</td>\n    </tr>\n    <tr>\n      <th>216044</th>\n      <td>47b3b34f-6035-4b64-a224-9c5129e3dcb3</td>\n      <td>0</td>\n      <td>Copy</td>\n      <td>703</td>\n      <td>60</td>\n      <td>27M1D34M1I68M130N15M1D21M1S</td>\n      <td>*</td>\n      <td>0</td>\n      <td>0</td>\n      <td>GACACAACTGTGTTCACTAGCAACCTCAGCAGACACCATGGTGCAC...</td>\n      <td>)))9=),98;A:&gt;A&lt;00/214+,A:5(*#'+-+24888A./(::5;...</td>\n      <td>1000</td>\n      <td>166</td>\n      <td>12_nsdaln.sam</td>\n    </tr>\n    <tr>\n      <th>216050</th>\n      <td>12467719-33a2-45d9-a16a-faebd6ab13ea</td>\n      <td>0</td>\n      <td>Copy</td>\n      <td>708</td>\n      <td>28</td>\n      <td>41M3I7M1D4M2I13M2I1M1I6M1D9M1I9M1I11M1I11M2I9M...</td>\n      <td>*</td>\n      <td>0</td>\n      <td>0</td>\n      <td>AACTGTGTTCACTAGCAGCCTCAAACAGACACCATGGTGCACACCC...</td>\n      <td>')/0317AG</td>\n      <td>1081</td>\n      <td>253</td>\n      <td>12_nsdaln.sam</td>\n    </tr>\n    <tr>\n      <th>216051</th>\n      <td>392c20b6-72c9-4f84-800d-e97c6900886b</td>\n      <td>0</td>\n      <td>Copy</td>\n      <td>703</td>\n      <td>60</td>\n      <td>31M1I47M1D47M1I4M130N1I5M3D6M2I3M1I39M1I25M1D3...</td>\n      <td>*</td>\n      <td>0</td>\n      <td>0</td>\n      <td>GACACGGCTGTGTTCACTGGCGGCCTCAAACGAGACACCATGGTGC...</td>\n      <td>,*,-.#$'&amp;).)2:2//%%&amp;-#$*+02%%#)&amp;$/03%%;5&gt;34=14...</td>\n      <td>2323</td>\n      <td>637</td>\n      <td>12_nsdaln.sam</td>\n    </tr>\n    <tr>\n      <th>216054</th>\n      <td>ee3c3a33-a1e8-4542-b008-7717b5d99286</td>\n      <td>16</td>\n      <td>Copy</td>\n      <td>703</td>\n      <td>60</td>\n      <td>1S23M1I22M1I40M1I5M4D26M1I10M130N18M30S</td>\n      <td>*</td>\n      <td>0</td>\n      <td>0</td>\n      <td>GGACACAACTGTGTTCACTAGCAACCCTCAAACAGACACCATGGTG...</td>\n      <td>&amp;3;:</td>\n      <td>981</td>\n      <td>148</td>\n      <td>12_nsdaln.sam</td>\n    </tr>\n  </tbody>\n</table>\n<p>367750 rows × 14 columns</p>\n</div>",
      "text/plain": "                                       QNAME  FLAG RNAME  POS  MAPQ  \\\n2       a189cc59-0a45-414f-bd37-67eeb942d551     0  Copy  703    60   \n7       c2add3c3-20e8-4545-9ebf-2c444bd591e4     0  Copy  706    60   \n9       2929d309-cb76-4f78-8ac4-53440768abf6    16  Copy  704    60   \n13      68dac6e8-5427-4696-9f60-2fc9b6309d83    16  Copy  703    60   \n15      8d9c3db2-24a7-4244-9f3b-001c117cde32    16  Copy  703    60   \n...                                      ...   ...   ...  ...   ...   \n216040  9005578e-c52f-448b-bf27-ac88d15abdbd     0  Copy  710     5   \n216044  47b3b34f-6035-4b64-a224-9c5129e3dcb3     0  Copy  703    60   \n216050  12467719-33a2-45d9-a16a-faebd6ab13ea     0  Copy  708    28   \n216051  392c20b6-72c9-4f84-800d-e97c6900886b     0  Copy  703    60   \n216054  ee3c3a33-a1e8-4542-b008-7717b5d99286    16  Copy  703    60   \n\n                                                    CIGAR RNEXT  PNEXT  TLEN  \\\n2                                53M1D28M3D9M1I5M1I19M94S     *      0     0   \n7       2S41M3D12M2D44M3I2M1D2M2D17M5D126N56M1D18M1I3M...     *      0     0   \n9                                     44S54M2D21M1I53M33S     *      0     0   \n13                                  23M1D44M1I13M1D43M32S     *      0     0   \n15                                    80M1I41M1I4M2I5M31S     *      0     0   \n...                                                   ...   ...    ...   ...   \n216040  9S16M1D6M1I3M3I15M1D17M2I9M1I14M1I17M2D20M1I1M...     *      0     0   \n216044                        27M1D34M1I68M130N15M1D21M1S     *      0     0   \n216050  41M3I7M1D4M2I13M2I1M1I6M1D9M1I9M1I11M1I11M2I9M...     *      0     0   \n216051  31M1I47M1D47M1I4M130N1I5M3D6M2I3M1I39M1I25M1D3...     *      0     0   \n216054            1S23M1I22M1I40M1I5M4D26M1I10M130N18M30S     *      0     0   \n\n                                                      SEQ  \\\n2       GACACAACTGTGTTCACTAGCAACCTCAAACAGACACCATGGTGCA...   \n7       GAACAACTGTGTTCACTAGCAACCTCAAACAGACACCATGGTGCTG...   \n9       AATGCAAGTTACCGTGGAACGAACTTTCGCCGGTGCCGAGCCGCAC...   \n13      GACACAACTGTGCTCACTAGCAACTCAAACAGACACCATGGTGCAC...   \n15      GACACAACTGTGTTCACTAGCAACTTCAAACAGACACCATGGTGCA...   \n...                                                   ...   \n216040  GACGCAACGCTGTGTTCACTAGCAACGCAAACCAGGCTGCTCCAGA...   \n216044  GACACAACTGTGTTCACTAGCAACCTCAGCAGACACCATGGTGCAC...   \n216050  AACTGTGTTCACTAGCAGCCTCAAACAGACACCATGGTGCACACCC...   \n216051  GACACGGCTGTGTTCACTGGCGGCCTCAAACGAGACACCATGGTGC...   \n216054  GGACACAACTGTGTTCACTAGCAACCCTCAAACAGACACCATGGTG...   \n\n                                                     QUAL  RIGHT  LENGTH  \\\n2                             A<0*214K==A;><,)+\"%#%&'44;:    821     116   \n7                                            92?D:=A=<?8=   1164     323   \n9       %##4*'#('%(')+),-(.$(;1'&,%%-/.64*230&&)'&)%*-...    834     129   \n13                 =?0>6>6;01-6=34=;6849:71',-><<;>G>287D    828     124   \n15                                            >DBA>?<?468    833     134   \n...                                                   ...    ...     ...   \n216040  ><7'2/13,'(+4<<D>99+$/1670$.342:3+3+)#$$(%%$.$...   1165     309   \n216044  )))9=),98;A:>A<00/214+,A:5(*#'+-+24888A./(::5;...   1000     166   \n216050                                          ')/0317AG   1081     253   \n216051  ,*,-.#$'&).)2:2//%%&-#$*+02%%#)&$/03%%;5>34=14...   2323     637   \n216054                                               &3;:    981     148   \n\n               SAMPLE  \n2       07_nsdaln.sam  \n7       07_nsdaln.sam  \n9       07_nsdaln.sam  \n13      07_nsdaln.sam  \n15      07_nsdaln.sam  \n...               ...  \n216040  12_nsdaln.sam  \n216044  12_nsdaln.sam  \n216050  12_nsdaln.sam  \n216051  12_nsdaln.sam  \n216054  12_nsdaln.sam  \n\n[367750 rows x 14 columns]"
     },
     "execution_count": 85,
     "metadata": {},
     "output_type": "execute_result"
    }
   ],
   "source": [
    "import pandas as pd\n",
    "from Rprepper import exportForRAnalysis\n",
    "from glob import glob\n",
    "\n",
    "exportForRAnalysis([\"../nsd_alns/07_nsdaln.sam\", \"../nsd_alns/08_nsdaln.sam\", \"../nsd_alns/09_nsdaln.sam\", \n",
    "                    \"../nsd_alns/10_nsdaln.sam\", \"../nsd_alns/11_nsdaln.sam\", \"../nsd_alns/12_nsdaln.sam\" ],\n",
    "                    \"../nsd_alns/PNK_Treated_Rdata.csv\")"
   ]
  },
  {
   "cell_type": "code",
   "execution_count": 78,
   "metadata": {},
   "outputs": [
    {
     "data": {
      "text/html": "<div>\n<style scoped>\n    .dataframe tbody tr th:only-of-type {\n        vertical-align: middle;\n    }\n\n    .dataframe tbody tr th {\n        vertical-align: top;\n    }\n\n    .dataframe thead th {\n        text-align: right;\n    }\n</style>\n<table border=\"1\" class=\"dataframe\">\n  <thead>\n    <tr style=\"text-align: right;\">\n      <th></th>\n      <th>QNAME</th>\n      <th>FLAG</th>\n      <th>RNAME</th>\n      <th>POS</th>\n      <th>MAPQ</th>\n      <th>CIGAR</th>\n      <th>RNEXT</th>\n      <th>PNEXT</th>\n      <th>TLEN</th>\n      <th>SEQ</th>\n      <th>QUAL</th>\n      <th>RIGHT</th>\n      <th>LENGTH</th>\n      <th>SAMPLE</th>\n    </tr>\n  </thead>\n  <tbody>\n    <tr>\n      <th>2</th>\n      <td>d770ee0f-4bb3-482a-bae2-ba05320f21cf</td>\n      <td>16</td>\n      <td>Copy</td>\n      <td>703</td>\n      <td>60</td>\n      <td>36M2I42M1D3M1D27M1D16M36S</td>\n      <td>*</td>\n      <td>0</td>\n      <td>0</td>\n      <td>GACACAACTGTGTTCACTAGCAACCCCAGACAGACAATTCATGGTG...</td>\n      <td>&lt;&gt;9;.A6B39</td>\n      <td>830</td>\n      <td>126</td>\n      <td>01_nsdaln.sam</td>\n    </tr>\n    <tr>\n      <th>5</th>\n      <td>72dff230-ed1c-4491-a2ac-80de8ef2d014</td>\n      <td>0</td>\n      <td>Copy</td>\n      <td>703</td>\n      <td>60</td>\n      <td>44M2D12M1D29M4I42M130N34M1I19M1D3M2D9M38S</td>\n      <td>*</td>\n      <td>0</td>\n      <td>0</td>\n      <td>GACACAACTGTGTTCACTAGCAACCTCAAACGAACACCGTGGTGCC...</td>\n      <td>C4:9&gt;03</td>\n      <td>1031</td>\n      <td>197</td>\n      <td>01_nsdaln.sam</td>\n    </tr>\n    <tr>\n      <th>6</th>\n      <td>072aa80d-7604-42b6-85a2-613b1dd886cc</td>\n      <td>16</td>\n      <td>Copy</td>\n      <td>703</td>\n      <td>60</td>\n      <td>14M1I27M2I1M1D22M1I2M1D13M4D13M2D11M2D20M1I41M...</td>\n      <td>*</td>\n      <td>0</td>\n      <td>0</td>\n      <td>GACACAACTGTGTTCCACTAGCAACCTCAAACAAACACCATGCAGG...</td>\n      <td>E&gt;8.,&gt;76454,%#$#(0'2457,/*$$./C2CHE?F&gt;:A51%&amp;,7...</td>\n      <td>901</td>\n      <td>191</td>\n      <td>01_nsdaln.sam</td>\n    </tr>\n    <tr>\n      <th>13</th>\n      <td>38339752-84d5-42ad-99cf-76b1c78dce21</td>\n      <td>16</td>\n      <td>Copy</td>\n      <td>703</td>\n      <td>60</td>\n      <td>68M1D10M1I31M1D11M132N1M2D5M1I13M1D4M1D6M1I19M...</td>\n      <td>*</td>\n      <td>0</td>\n      <td>0</td>\n      <td>GACACAACTGTGTTCACTAGCAACCTCAAACAGACACCATGGTGCA...</td>\n      <td>31.8:7*;+..52599('1442,63%1/:857*8;=0)(%*87?;?...</td>\n      <td>1210</td>\n      <td>362</td>\n      <td>01_nsdaln.sam</td>\n    </tr>\n    <tr>\n      <th>14</th>\n      <td>add28e91-3cef-4e28-ae01-f2f97d54b3d4</td>\n      <td>0</td>\n      <td>Copy</td>\n      <td>703</td>\n      <td>60</td>\n      <td>46M1I59M3S</td>\n      <td>*</td>\n      <td>0</td>\n      <td>0</td>\n      <td>GACACAACTGTGTTCACTAGCAACCTCAAACGAACACCATGGTGCA...</td>\n      <td>A&gt;BAD02C</td>\n      <td>808</td>\n      <td>106</td>\n      <td>01_nsdaln.sam</td>\n    </tr>\n    <tr>\n      <th>...</th>\n      <td>...</td>\n      <td>...</td>\n      <td>...</td>\n      <td>...</td>\n      <td>...</td>\n      <td>...</td>\n      <td>...</td>\n      <td>...</td>\n      <td>...</td>\n      <td>...</td>\n      <td>...</td>\n      <td>...</td>\n      <td>...</td>\n      <td>...</td>\n    </tr>\n    <tr>\n      <th>352041</th>\n      <td>c551db6d-a5c3-4b17-a330-3749e1b3c1ff</td>\n      <td>0</td>\n      <td>Copy</td>\n      <td>703</td>\n      <td>60</td>\n      <td>16M1D67M1I33M1D29M13S</td>\n      <td>*</td>\n      <td>0</td>\n      <td>0</td>\n      <td>GACACAACTGTGTTCATAGCAGCCTCAAGCAGACACCATGGTGCAC...</td>\n      <td>NaN</td>\n      <td>850</td>\n      <td>146</td>\n      <td>01_nsdaln.sam</td>\n    </tr>\n    <tr>\n      <th>352046</th>\n      <td>8596465d-c5c7-4025-b8e5-6e58bc7e7892</td>\n      <td>16</td>\n      <td>Copy</td>\n      <td>703</td>\n      <td>60</td>\n      <td>23M1D7M2D10M2D8M1D7M4D2M2D50M2D9M130N6M2D2M1I4...</td>\n      <td>*</td>\n      <td>0</td>\n      <td>0</td>\n      <td>GACACAACTGTGTTCACTAGCAACTCAAACACACCATGGTACCTGA...</td>\n      <td>86/2%:,&lt;$'*0(01685=&gt;?</td>\n      <td>1068</td>\n      <td>219</td>\n      <td>01_nsdaln.sam</td>\n    </tr>\n    <tr>\n      <th>352047</th>\n      <td>b2ac3272-18d0-4988-b1df-76967721f099</td>\n      <td>0</td>\n      <td>Copy</td>\n      <td>703</td>\n      <td>60</td>\n      <td>46M3I7M1D6M1I9M1D43M4I9M1I8M130N17M1I12M1D12M1...</td>\n      <td>*</td>\n      <td>0</td>\n      <td>0</td>\n      <td>GACACAACTGTGTTCACTAGCAACCTCAAACAGACACCATGGTGCA...</td>\n      <td>&amp;$$%1+.6:.873;.*(%$#$$%**)&lt;59'0((215</td>\n      <td>1112</td>\n      <td>282</td>\n      <td>01_nsdaln.sam</td>\n    </tr>\n    <tr>\n      <th>352052</th>\n      <td>e577cbcd-526f-4ff1-9c0f-9e3c6d18e329</td>\n      <td>0</td>\n      <td>Copy</td>\n      <td>710</td>\n      <td>32</td>\n      <td>9S37M2I10M1I8M1D8M3I12M1D42M46S</td>\n      <td>*</td>\n      <td>0</td>\n      <td>0</td>\n      <td>GACACAGCGCTGTGTTCACTAGCAACCTCAAACAGACGCCATGGTG...</td>\n      <td>82,)')%(%%7:=C&gt;C&lt;**+'4778QJG?04,3)*8;;==;H.3A69(:</td>\n      <td>829</td>\n      <td>123</td>\n      <td>01_nsdaln.sam</td>\n    </tr>\n    <tr>\n      <th>352054</th>\n      <td>88445562-8565-45c8-9ed0-7de2c694f767</td>\n      <td>16</td>\n      <td>Copy</td>\n      <td>703</td>\n      <td>40</td>\n      <td>17M2I2M2I18M2I9M1I7M2D29M1D25M2D18M130N19M2D13...</td>\n      <td>*</td>\n      <td>0</td>\n      <td>0</td>\n      <td>GACACAACTGTGTTCGCCTTAGTGCAACTTTCAACAGACACCTCAT...</td>\n      <td>=727,602,,+$\"\")$%$*(&amp;$\"%'763/3,,-9$/:D9;3&amp;)**-...</td>\n      <td>1008</td>\n      <td>174</td>\n      <td>01_nsdaln.sam</td>\n    </tr>\n  </tbody>\n</table>\n<p>137074 rows × 14 columns</p>\n</div>",
      "text/plain": "                                       QNAME  FLAG RNAME  POS  MAPQ  \\\n2       d770ee0f-4bb3-482a-bae2-ba05320f21cf    16  Copy  703    60   \n5       72dff230-ed1c-4491-a2ac-80de8ef2d014     0  Copy  703    60   \n6       072aa80d-7604-42b6-85a2-613b1dd886cc    16  Copy  703    60   \n13      38339752-84d5-42ad-99cf-76b1c78dce21    16  Copy  703    60   \n14      add28e91-3cef-4e28-ae01-f2f97d54b3d4     0  Copy  703    60   \n...                                      ...   ...   ...  ...   ...   \n352041  c551db6d-a5c3-4b17-a330-3749e1b3c1ff     0  Copy  703    60   \n352046  8596465d-c5c7-4025-b8e5-6e58bc7e7892    16  Copy  703    60   \n352047  b2ac3272-18d0-4988-b1df-76967721f099     0  Copy  703    60   \n352052  e577cbcd-526f-4ff1-9c0f-9e3c6d18e329     0  Copy  710    32   \n352054  88445562-8565-45c8-9ed0-7de2c694f767    16  Copy  703    40   \n\n                                                    CIGAR RNEXT  PNEXT  TLEN  \\\n2                               36M2I42M1D3M1D27M1D16M36S     *      0     0   \n5               44M2D12M1D29M4I42M130N34M1I19M1D3M2D9M38S     *      0     0   \n6       14M1I27M2I1M1D22M1I2M1D13M4D13M2D11M2D20M1I41M...     *      0     0   \n13      68M1D10M1I31M1D11M132N1M2D5M1I13M1D4M1D6M1I19M...     *      0     0   \n14                                             46M1I59M3S     *      0     0   \n...                                                   ...   ...    ...   ...   \n352041                              16M1D67M1I33M1D29M13S     *      0     0   \n352046  23M1D7M2D10M2D8M1D7M4D2M2D50M2D9M130N6M2D2M1I4...     *      0     0   \n352047  46M3I7M1D6M1I9M1D43M4I9M1I8M130N17M1I12M1D12M1...     *      0     0   \n352052                    9S37M2I10M1I8M1D8M3I12M1D42M46S     *      0     0   \n352054  17M2I2M2I18M2I9M1I7M2D29M1D25M2D18M130N19M2D13...     *      0     0   \n\n                                                      SEQ  \\\n2       GACACAACTGTGTTCACTAGCAACCCCAGACAGACAATTCATGGTG...   \n5       GACACAACTGTGTTCACTAGCAACCTCAAACGAACACCGTGGTGCC...   \n6       GACACAACTGTGTTCCACTAGCAACCTCAAACAAACACCATGCAGG...   \n13      GACACAACTGTGTTCACTAGCAACCTCAAACAGACACCATGGTGCA...   \n14      GACACAACTGTGTTCACTAGCAACCTCAAACGAACACCATGGTGCA...   \n...                                                   ...   \n352041  GACACAACTGTGTTCATAGCAGCCTCAAGCAGACACCATGGTGCAC...   \n352046  GACACAACTGTGTTCACTAGCAACTCAAACACACCATGGTACCTGA...   \n352047  GACACAACTGTGTTCACTAGCAACCTCAAACAGACACCATGGTGCA...   \n352052  GACACAGCGCTGTGTTCACTAGCAACCTCAAACAGACGCCATGGTG...   \n352054  GACACAACTGTGTTCGCCTTAGTGCAACTTTCAACAGACACCTCAT...   \n\n                                                     QUAL  RIGHT  LENGTH  \\\n2                                              <>9;.A6B39    830     126   \n5                                                 C4:9>03   1031     197   \n6       E>8.,>76454,%#$#(0'2457,/*$$./C2CHE?F>:A51%&,7...    901     191   \n13      31.8:7*;+..52599('1442,63%1/:857*8;=0)(%*87?;?...   1210     362   \n14                                               A>BAD02C    808     106   \n...                                                   ...    ...     ...   \n352041                                                NaN    850     146   \n352046                              86/2%:,<$'*0(01685=>?   1068     219   \n352047               &$$%1+.6:.873;.*(%$#$$%**)<59'0((215   1112     282   \n352052  82,)')%(%%7:=C>C<**+'4778QJG?04,3)*8;;==;H.3A69(:    829     123   \n352054  =727,602,,+$\"\")$%$*(&$\"%'763/3,,-9$/:D9;3&)**-...   1008     174   \n\n               SAMPLE  \n2       01_nsdaln.sam  \n5       01_nsdaln.sam  \n6       01_nsdaln.sam  \n13      01_nsdaln.sam  \n14      01_nsdaln.sam  \n...               ...  \n352041  01_nsdaln.sam  \n352046  01_nsdaln.sam  \n352047  01_nsdaln.sam  \n352052  01_nsdaln.sam  \n352054  01_nsdaln.sam  \n\n[137074 rows x 14 columns]"
     },
     "execution_count": 78,
     "metadata": {},
     "output_type": "execute_result"
    }
   ],
   "source": []
  },
  {
   "cell_type": "code",
   "execution_count": 87,
   "metadata": {},
   "outputs": [
    {
     "name": "stdout",
     "output_type": "stream",
     "text": [
      "../TLS129_nsd_alns/07_nsdaln.sam 82004\n",
      "../TLS129_nsd_alns/02_nsdaln.sam 157248\n",
      "../TLS129_nsd_alns/08_nsdaln.sam 240253\n",
      "../TLS129_nsd_alns/05_nsdaln.sam 329055\n",
      "../TLS129_nsd_alns/11_nsdaln.sam 449631\n",
      "../TLS129_nsd_alns/03_nsdaln.sam 555095\n",
      "../TLS129_nsd_alns/12_nsdaln.sam 693248\n",
      "../TLS129_nsd_alns/06_nsdaln.sam 781348\n",
      "../TLS129_nsd_alns/01_nsdaln.sam 891256\n",
      "../TLS129_nsd_alns/10_nsdaln.sam 971596\n",
      "../TLS129_nsd_alns/09_nsdaln.sam 1049194\n",
      "../TLS129_nsd_alns/04_nsdaln.sam 1143599\n"
     ]
    },
    {
     "data": {
      "text/html": "<div>\n<style scoped>\n    .dataframe tbody tr th:only-of-type {\n        vertical-align: middle;\n    }\n\n    .dataframe tbody tr th {\n        vertical-align: top;\n    }\n\n    .dataframe thead th {\n        text-align: right;\n    }\n</style>\n<table border=\"1\" class=\"dataframe\">\n  <thead>\n    <tr style=\"text-align: right;\">\n      <th></th>\n      <th>QNAME</th>\n      <th>FLAG</th>\n      <th>RNAME</th>\n      <th>POS</th>\n      <th>MAPQ</th>\n      <th>CIGAR</th>\n      <th>RNEXT</th>\n      <th>PNEXT</th>\n      <th>TLEN</th>\n      <th>SEQ</th>\n      <th>QUAL</th>\n      <th>RIGHT</th>\n      <th>LENGTH</th>\n      <th>SAMPLE</th>\n    </tr>\n  </thead>\n  <tbody>\n    <tr>\n      <th>1</th>\n      <td>ea94113f-90b0-4e29-bf7c-d60d33bb089a</td>\n      <td>16</td>\n      <td>Copy</td>\n      <td>703</td>\n      <td>60</td>\n      <td>39M3D42M1D5M4D6M1I30M35S</td>\n      <td>*</td>\n      <td>0</td>\n      <td>0</td>\n      <td>GACACAACTGTGTTCACTAGCAACCCCAAACAGACACCATGCACCT...</td>\n      <td>'*&amp;',84&gt;%*18A4120.:89&lt;&lt;4A1))FFFEHGB</td>\n      <td>833</td>\n      <td>123</td>\n      <td>07_nsdaln.sam</td>\n    </tr>\n    <tr>\n      <th>5</th>\n      <td>08718db8-4f2e-45c5-a089-8b8a318c6666</td>\n      <td>16</td>\n      <td>Copy</td>\n      <td>703</td>\n      <td>60</td>\n      <td>54M2I42M38S</td>\n      <td>*</td>\n      <td>0</td>\n      <td>0</td>\n      <td>GACACAACTGTGTTCACTAGCAACCCCAAACAGACACCATGGTGCA...</td>\n      <td>2=+.36/$%(/3889:1204473'2&amp;#01:4</td>\n      <td>799</td>\n      <td>98</td>\n      <td>07_nsdaln.sam</td>\n    </tr>\n    <tr>\n      <th>9</th>\n      <td>c1bae6c7-9206-434a-b51e-477fb70279b9</td>\n      <td>0</td>\n      <td>Copy</td>\n      <td>703</td>\n      <td>60</td>\n      <td>40M1D12M1D4M1D17M2I4M3I26M2I24M130N23M1D18M1I1...</td>\n      <td>*</td>\n      <td>0</td>\n      <td>0</td>\n      <td>GACACAACTGTGTTCACTAGCAACCTCAAGCAGACACCATGTTTAC...</td>\n      <td>//,7:/2?203/+6/.+,,16/1GAAA35%-25.72634,(%&amp;%%&amp;...</td>\n      <td>1017</td>\n      <td>188</td>\n      <td>07_nsdaln.sam</td>\n    </tr>\n    <tr>\n      <th>16</th>\n      <td>3c364cc7-b40f-4629-a9be-349086876acf</td>\n      <td>0</td>\n      <td>Copy</td>\n      <td>703</td>\n      <td>60</td>\n      <td>64M1D10M5D30M33S</td>\n      <td>*</td>\n      <td>0</td>\n      <td>0</td>\n      <td>GACACAACTGTGTTCACTAGCAACCTCAAACAGACACCATGGTACA...</td>\n      <td>?=2/8-0&gt;=?&gt;</td>\n      <td>813</td>\n      <td>104</td>\n      <td>07_nsdaln.sam</td>\n    </tr>\n    <tr>\n      <th>20</th>\n      <td>2c71b5c8-8d1d-4d88-b4d5-f9bc7b9194f2</td>\n      <td>0</td>\n      <td>Copy</td>\n      <td>703</td>\n      <td>60</td>\n      <td>15M1D37M1D4M1D25M1D43M4D2M126N11M3I6M1I43M33S</td>\n      <td>*</td>\n      <td>0</td>\n      <td>0</td>\n      <td>GACACAACTGTGTTCCTAGCAACCTCAAACAGACACCATGGTGCAC...</td>\n      <td>CA</td>\n      <td>1023</td>\n      <td>190</td>\n      <td>07_nsdaln.sam</td>\n    </tr>\n    <tr>\n      <th>...</th>\n      <td>...</td>\n      <td>...</td>\n      <td>...</td>\n      <td>...</td>\n      <td>...</td>\n      <td>...</td>\n      <td>...</td>\n      <td>...</td>\n      <td>...</td>\n      <td>...</td>\n      <td>...</td>\n      <td>...</td>\n      <td>...</td>\n      <td>...</td>\n    </tr>\n    <tr>\n      <th>271993</th>\n      <td>e5aba6fe-a882-47b4-9a52-4de42204525b</td>\n      <td>0</td>\n      <td>Copy</td>\n      <td>710</td>\n      <td>41</td>\n      <td>8S4M1D44M3D13M4D3M1I5M2D41M31S</td>\n      <td>*</td>\n      <td>0</td>\n      <td>0</td>\n      <td>TTCTTTGGCTGTTTCACTAGCAACCTCAAACAGACACCATGGTGCA...</td>\n      <td>24.++($$$$$)/56+,(0(.*+.108()&amp;1.0.61=&lt;5;().*/)...</td>\n      <td>830</td>\n      <td>111</td>\n      <td>04_nsdaln.sam</td>\n    </tr>\n    <tr>\n      <th>271997</th>\n      <td>78bfc947-951e-4e88-b45c-00063db530d3</td>\n      <td>16</td>\n      <td>Copy</td>\n      <td>706</td>\n      <td>60</td>\n      <td>1S38M2D10M1D2M2I22M1I3M3D15M1D5M2D23M130N12M1D...</td>\n      <td>*</td>\n      <td>0</td>\n      <td>0</td>\n      <td>GACAACTGCGTTCACTAGCAACCTCAAACAGACACCATGGCACCTG...</td>\n      <td>A&amp;5&gt;&lt;,%((75,,/,'021;182/73&gt;=79:17&lt;22</td>\n      <td>2359</td>\n      <td>636</td>\n      <td>04_nsdaln.sam</td>\n    </tr>\n    <tr>\n      <th>272001</th>\n      <td>62e44b69-0e43-43b3-a21d-1bcf2d342843</td>\n      <td>16</td>\n      <td>Copy</td>\n      <td>706</td>\n      <td>31</td>\n      <td>1S10M1I43M1I9M3I2M1D13M1D2M2D33M4I12M65S</td>\n      <td>*</td>\n      <td>0</td>\n      <td>0</td>\n      <td>GACAACTGTGTCTCACTAGCAACCCCAAACAGACACCATGGTGCAC...</td>\n      <td>3:*62'&amp;&amp;&amp;*.%%$)2*0--22//&amp;#(33.07&gt;&lt;8/+677?15884...</td>\n      <td>834</td>\n      <td>133</td>\n      <td>04_nsdaln.sam</td>\n    </tr>\n    <tr>\n      <th>272002</th>\n      <td>94fefb13-5787-4835-8fc1-19501d34b235</td>\n      <td>16</td>\n      <td>Copy</td>\n      <td>703</td>\n      <td>60</td>\n      <td>8M2I19M1D23M2D8M1I4M1D2M1D2M2I21M2D38M238S</td>\n      <td>*</td>\n      <td>0</td>\n      <td>0</td>\n      <td>GACACAACCGTGTGTTCACTAGCAACCTCAACAGACACCATGGTGC...</td>\n      <td>A=.,*4-)&amp;,,/&amp;2/--:715?;</td>\n      <td>835</td>\n      <td>130</td>\n      <td>04_nsdaln.sam</td>\n    </tr>\n    <tr>\n      <th>272006</th>\n      <td>92715bd8-db8f-46b9-9268-cd19f53d42ed</td>\n      <td>0</td>\n      <td>Copy</td>\n      <td>703</td>\n      <td>60</td>\n      <td>85M1I1M1I3M1D40M130N18M1I8M3I8M1I8M1I1M2D18M32S</td>\n      <td>*</td>\n      <td>0</td>\n      <td>0</td>\n      <td>GACACAACTGTGTTCACTAACGGCCTCAAACGAACACCATGGTGCA...</td>\n      <td>9841978=/&gt;;:=:*&amp;',)*+%&amp;;104-176&amp;&amp;)9=;59</td>\n      <td>1026</td>\n      <td>198</td>\n      <td>04_nsdaln.sam</td>\n    </tr>\n  </tbody>\n</table>\n<p>1143599 rows × 14 columns</p>\n</div>",
      "text/plain": "                                       QNAME  FLAG RNAME  POS  MAPQ  \\\n1       ea94113f-90b0-4e29-bf7c-d60d33bb089a    16  Copy  703    60   \n5       08718db8-4f2e-45c5-a089-8b8a318c6666    16  Copy  703    60   \n9       c1bae6c7-9206-434a-b51e-477fb70279b9     0  Copy  703    60   \n16      3c364cc7-b40f-4629-a9be-349086876acf     0  Copy  703    60   \n20      2c71b5c8-8d1d-4d88-b4d5-f9bc7b9194f2     0  Copy  703    60   \n...                                      ...   ...   ...  ...   ...   \n271993  e5aba6fe-a882-47b4-9a52-4de42204525b     0  Copy  710    41   \n271997  78bfc947-951e-4e88-b45c-00063db530d3    16  Copy  706    60   \n272001  62e44b69-0e43-43b3-a21d-1bcf2d342843    16  Copy  706    31   \n272002  94fefb13-5787-4835-8fc1-19501d34b235    16  Copy  703    60   \n272006  92715bd8-db8f-46b9-9268-cd19f53d42ed     0  Copy  703    60   \n\n                                                    CIGAR RNEXT  PNEXT  TLEN  \\\n1                                39M3D42M1D5M4D6M1I30M35S     *      0     0   \n5                                             54M2I42M38S     *      0     0   \n9       40M1D12M1D4M1D17M2I4M3I26M2I24M130N23M1D18M1I1...     *      0     0   \n16                                       64M1D10M5D30M33S     *      0     0   \n20          15M1D37M1D4M1D25M1D43M4D2M126N11M3I6M1I43M33S     *      0     0   \n...                                                   ...   ...    ...   ...   \n271993                     8S4M1D44M3D13M4D3M1I5M2D41M31S     *      0     0   \n271997  1S38M2D10M1D2M2I22M1I3M3D15M1D5M2D23M130N12M1D...     *      0     0   \n272001           1S10M1I43M1I9M3I2M1D13M1D2M2D33M4I12M65S     *      0     0   \n272002         8M2I19M1D23M2D8M1I4M1D2M1D2M2I21M2D38M238S     *      0     0   \n272006    85M1I1M1I3M1D40M130N18M1I8M3I8M1I8M1I1M2D18M32S     *      0     0   \n\n                                                      SEQ  \\\n1       GACACAACTGTGTTCACTAGCAACCCCAAACAGACACCATGCACCT...   \n5       GACACAACTGTGTTCACTAGCAACCCCAAACAGACACCATGGTGCA...   \n9       GACACAACTGTGTTCACTAGCAACCTCAAGCAGACACCATGTTTAC...   \n16      GACACAACTGTGTTCACTAGCAACCTCAAACAGACACCATGGTACA...   \n20      GACACAACTGTGTTCCTAGCAACCTCAAACAGACACCATGGTGCAC...   \n...                                                   ...   \n271993  TTCTTTGGCTGTTTCACTAGCAACCTCAAACAGACACCATGGTGCA...   \n271997  GACAACTGCGTTCACTAGCAACCTCAAACAGACACCATGGCACCTG...   \n272001  GACAACTGTGTCTCACTAGCAACCCCAAACAGACACCATGGTGCAC...   \n272002  GACACAACCGTGTGTTCACTAGCAACCTCAACAGACACCATGGTGC...   \n272006  GACACAACTGTGTTCACTAACGGCCTCAAACGAACACCATGGTGCA...   \n\n                                                     QUAL  RIGHT  LENGTH  \\\n1                     '*&',84>%*18A4120.:89<<4A1))FFFEHGB    833     123   \n5                         2=+.36/$%(/3889:1204473'2&#01:4    799      98   \n9       //,7:/2?203/+6/.+,,16/1GAAA35%-25.72634,(%&%%&...   1017     188   \n16                                            ?=2/8-0>=?>    813     104   \n20                                                     CA   1023     190   \n...                                                   ...    ...     ...   \n271993  24.++($$$$$)/56+,(0(.*+.108()&1.0.61=<5;().*/)...    830     111   \n271997               A&5><,%((75,,/,'021;182/73>=79:17<22   2359     636   \n272001  3:*62'&&&*.%%$)2*0--22//&#(33.07><8/+677?15884...    834     133   \n272002                            A=.,*4-)&,,/&2/--:715?;    835     130   \n272006            9841978=/>;:=:*&',)*+%&;104-176&&)9=;59   1026     198   \n\n               SAMPLE  \n1       07_nsdaln.sam  \n5       07_nsdaln.sam  \n9       07_nsdaln.sam  \n16      07_nsdaln.sam  \n20      07_nsdaln.sam  \n...               ...  \n271993  04_nsdaln.sam  \n271997  04_nsdaln.sam  \n272001  04_nsdaln.sam  \n272002  04_nsdaln.sam  \n272006  04_nsdaln.sam  \n\n[1143599 rows x 14 columns]"
     },
     "execution_count": 87,
     "metadata": {},
     "output_type": "execute_result"
    }
   ],
   "source": [
    "import pandas as pd\n",
    "from Rprepper import exportForRAnalysis\n",
    "from glob import glob\n",
    "\n",
    "exportForRAnalysis(glob(\"../TLS129_nsd_alns/*.sam\"), \"../TLS129_nsd_alns/Rformatted_TLS129.csv\")"
   ]
  },
  {
   "cell_type": "code",
   "execution_count": 88,
   "metadata": {},
   "outputs": [
    {
     "data": {
      "text/html": "<div>\n<style scoped>\n    .dataframe tbody tr th:only-of-type {\n        vertical-align: middle;\n    }\n\n    .dataframe tbody tr th {\n        vertical-align: top;\n    }\n\n    .dataframe thead th {\n        text-align: right;\n    }\n</style>\n<table border=\"1\" class=\"dataframe\">\n  <thead>\n    <tr style=\"text-align: right;\">\n      <th></th>\n      <th>01_nsdaln.sam</th>\n      <th>02_nsdaln.sam</th>\n      <th>03_nsdaln.sam</th>\n      <th>04_nsdaln.sam</th>\n      <th>05_nsdaln.sam</th>\n      <th>06_nsdaln.sam</th>\n      <th>07_nsdaln.sam</th>\n      <th>08_nsdaln.sam</th>\n      <th>09_nsdaln.sam</th>\n      <th>10_nsdaln.sam</th>\n      <th>11_nsdaln.sam</th>\n      <th>12_nsdaln.sam</th>\n    </tr>\n  </thead>\n  <tbody>\n    <tr>\n      <th>perMapped</th>\n      <td>0.301064</td>\n      <td>0.192178</td>\n      <td>0.238446</td>\n      <td>0.357608</td>\n      <td>0.332616</td>\n      <td>0.248536</td>\n      <td>0.281860</td>\n      <td>0.345324</td>\n      <td>0.179920</td>\n      <td>0.309455</td>\n      <td>0.266760</td>\n      <td>0.373763</td>\n    </tr>\n    <tr>\n      <th>perMisMappedFive</th>\n      <td>0.007673</td>\n      <td>0.005116</td>\n      <td>0.006371</td>\n      <td>0.009209</td>\n      <td>0.009609</td>\n      <td>0.005610</td>\n      <td>0.007600</td>\n      <td>0.009339</td>\n      <td>0.004507</td>\n      <td>0.008537</td>\n      <td>0.005991</td>\n      <td>0.008818</td>\n    </tr>\n    <tr>\n      <th>totalReads</th>\n      <td>376007.000000</td>\n      <td>404000.000000</td>\n      <td>456006.000000</td>\n      <td>272007.000000</td>\n      <td>276003.000000</td>\n      <td>364004.000000</td>\n      <td>300011.000000</td>\n      <td>248005.000000</td>\n      <td>444003.000000</td>\n      <td>268003.000000</td>\n      <td>464005.000000</td>\n      <td>380011.000000</td>\n    </tr>\n    <tr>\n      <th>medLenMapped</th>\n      <td>144.000000</td>\n      <td>138.000000</td>\n      <td>134.000000</td>\n      <td>151.000000</td>\n      <td>160.000000</td>\n      <td>135.000000</td>\n      <td>147.000000</td>\n      <td>161.000000</td>\n      <td>132.000000</td>\n      <td>149.000000</td>\n      <td>134.000000</td>\n      <td>141.000000</td>\n    </tr>\n    <tr>\n      <th>stdevLenMapped</th>\n      <td>128.198482</td>\n      <td>125.475797</td>\n      <td>75.762359</td>\n      <td>146.653727</td>\n      <td>147.484000</td>\n      <td>84.250127</td>\n      <td>145.015237</td>\n      <td>157.500523</td>\n      <td>83.200300</td>\n      <td>159.647152</td>\n      <td>101.244533</td>\n      <td>82.102244</td>\n    </tr>\n    <tr>\n      <th>medLenTotal</th>\n      <td>101.000000</td>\n      <td>86.000000</td>\n      <td>93.000000</td>\n      <td>106.000000</td>\n      <td>103.000000</td>\n      <td>93.000000</td>\n      <td>97.000000</td>\n      <td>103.000000</td>\n      <td>79.000000</td>\n      <td>100.000000</td>\n      <td>96.000000</td>\n      <td>109.000000</td>\n    </tr>\n    <tr>\n      <th>stdevLenTotal</th>\n      <td>100.941713</td>\n      <td>83.537389</td>\n      <td>67.499075</td>\n      <td>119.906148</td>\n      <td>119.034146</td>\n      <td>71.619228</td>\n      <td>108.968225</td>\n      <td>128.476765</td>\n      <td>63.541425</td>\n      <td>122.942789</td>\n      <td>80.688916</td>\n      <td>81.429817</td>\n    </tr>\n    <tr>\n      <th>meanLenMapped</th>\n      <td>186.897564</td>\n      <td>182.727834</td>\n      <td>160.513965</td>\n      <td>200.173544</td>\n      <td>205.638650</td>\n      <td>163.806716</td>\n      <td>198.087452</td>\n      <td>214.724890</td>\n      <td>159.793541</td>\n      <td>209.822885</td>\n      <td>169.279210</td>\n      <td>168.317269</td>\n    </tr>\n    <tr>\n      <th>meanLenTotal</th>\n      <td>130.733032</td>\n      <td>110.664834</td>\n      <td>113.036605</td>\n      <td>145.049278</td>\n      <td>142.860154</td>\n      <td>115.048159</td>\n      <td>130.237785</td>\n      <td>146.700393</td>\n      <td>101.781713</td>\n      <td>138.928008</td>\n      <td>119.988539</td>\n      <td>134.537284</td>\n    </tr>\n    <tr>\n      <th>perMappedLongerCutoff</th>\n      <td>0.058858</td>\n      <td>0.055526</td>\n      <td>0.009235</td>\n      <td>0.082824</td>\n      <td>0.084638</td>\n      <td>0.012690</td>\n      <td>0.079435</td>\n      <td>0.099645</td>\n      <td>0.011856</td>\n      <td>0.100722</td>\n      <td>0.031573</td>\n      <td>0.010749</td>\n    </tr>\n    <tr>\n      <th>perMappedFullLength</th>\n      <td>0.054546</td>\n      <td>0.050556</td>\n      <td>0.006789</td>\n      <td>0.077676</td>\n      <td>0.078827</td>\n      <td>0.010329</td>\n      <td>0.074326</td>\n      <td>0.092814</td>\n      <td>0.010168</td>\n      <td>0.093913</td>\n      <td>0.028148</td>\n      <td>0.007940</td>\n    </tr>\n  </tbody>\n</table>\n</div>",
      "text/plain": "                       01_nsdaln.sam  02_nsdaln.sam  03_nsdaln.sam  \\\nperMapped                   0.301064       0.192178       0.238446   \nperMisMappedFive            0.007673       0.005116       0.006371   \ntotalReads             376007.000000  404000.000000  456006.000000   \nmedLenMapped              144.000000     138.000000     134.000000   \nstdevLenMapped            128.198482     125.475797      75.762359   \nmedLenTotal               101.000000      86.000000      93.000000   \nstdevLenTotal             100.941713      83.537389      67.499075   \nmeanLenMapped             186.897564     182.727834     160.513965   \nmeanLenTotal              130.733032     110.664834     113.036605   \nperMappedLongerCutoff       0.058858       0.055526       0.009235   \nperMappedFullLength         0.054546       0.050556       0.006789   \n\n                       04_nsdaln.sam  05_nsdaln.sam  06_nsdaln.sam  \\\nperMapped                   0.357608       0.332616       0.248536   \nperMisMappedFive            0.009209       0.009609       0.005610   \ntotalReads             272007.000000  276003.000000  364004.000000   \nmedLenMapped              151.000000     160.000000     135.000000   \nstdevLenMapped            146.653727     147.484000      84.250127   \nmedLenTotal               106.000000     103.000000      93.000000   \nstdevLenTotal             119.906148     119.034146      71.619228   \nmeanLenMapped             200.173544     205.638650     163.806716   \nmeanLenTotal              145.049278     142.860154     115.048159   \nperMappedLongerCutoff       0.082824       0.084638       0.012690   \nperMappedFullLength         0.077676       0.078827       0.010329   \n\n                       07_nsdaln.sam  08_nsdaln.sam  09_nsdaln.sam  \\\nperMapped                   0.281860       0.345324       0.179920   \nperMisMappedFive            0.007600       0.009339       0.004507   \ntotalReads             300011.000000  248005.000000  444003.000000   \nmedLenMapped              147.000000     161.000000     132.000000   \nstdevLenMapped            145.015237     157.500523      83.200300   \nmedLenTotal                97.000000     103.000000      79.000000   \nstdevLenTotal             108.968225     128.476765      63.541425   \nmeanLenMapped             198.087452     214.724890     159.793541   \nmeanLenTotal              130.237785     146.700393     101.781713   \nperMappedLongerCutoff       0.079435       0.099645       0.011856   \nperMappedFullLength         0.074326       0.092814       0.010168   \n\n                       10_nsdaln.sam  11_nsdaln.sam  12_nsdaln.sam  \nperMapped                   0.309455       0.266760       0.373763  \nperMisMappedFive            0.008537       0.005991       0.008818  \ntotalReads             268003.000000  464005.000000  380011.000000  \nmedLenMapped              149.000000     134.000000     141.000000  \nstdevLenMapped            159.647152     101.244533      82.102244  \nmedLenTotal               100.000000      96.000000     109.000000  \nstdevLenTotal             122.942789      80.688916      81.429817  \nmeanLenMapped             209.822885     169.279210     168.317269  \nmeanLenTotal              138.928008     119.988539     134.537284  \nperMappedLongerCutoff       0.100722       0.031573       0.010749  \nperMappedFullLength         0.093913       0.028148       0.007940  "
     },
     "execution_count": 88,
     "metadata": {},
     "output_type": "execute_result"
    }
   ],
   "source": [
    "test = glob(\"../TLS129_nsd_alns/*.sam\")\n",
    "\n",
    "analysis.summarizeSAMFiles(test)"
   ]
  }
 ],
 "metadata": {
  "kernelspec": {
   "display_name": "Python 3.9.1 64-bit",
   "metadata": {
    "interpreter": {
     "hash": "aee8b7b246df8f9039afb4144a1f6fd8d2ca17a180786b69acc140d282b71a49"
    }
   },
   "name": "python3"
  },
  "language_info": {
   "codemirror_mode": {
    "name": "ipython",
    "version": 3
   },
   "file_extension": ".py",
   "mimetype": "text/x-python",
   "name": "python",
   "nbconvert_exporter": "python",
   "pygments_lexer": "ipython3",
   "version": "3.9.1"
  },
  "orig_nbformat": 2
 },
 "nbformat": 4,
 "nbformat_minor": 2
}