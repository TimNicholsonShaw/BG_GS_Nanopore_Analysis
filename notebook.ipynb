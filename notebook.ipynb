{
 "cells": [
  {
   "cell_type": "code",
   "execution_count": 2,
   "metadata": {},
   "outputs": [],
   "source": [
    "# General analysis of samples from TLS137 and TLS129\n",
    "import pandas as pd\n",
    "from analysis import summarizeSAMFiles\n",
    "from glob import glob\n",
    "\n",
    "summaryTLS137 = summarizeSAMFiles(glob(\"../nsd_alns/*.sam\"))\n",
    "summaryTLS129 = summarizeSAMFiles(glob(\"../TLS129_nsd_alns/*.sam\"))\n",
    "\n",
    "#save to csv\n",
    "summaryTLS137.to_csv(\"TLS137_Summary.csv\")\n",
    "summaryTLS129.to_csv(\"TLS129_Summary.csv\")\n"
   ]
  },
  {
   "cell_type": "code",
   "execution_count": 3,
   "metadata": {},
   "outputs": [
    {
     "name": "stdout",
     "output_type": "stream",
     "text": [
      "../nsd_alns/07_nsdaln.sam 69536\n",
      "../nsd_alns/02_nsdaln.sam 109935\n",
      "../nsd_alns/08_nsdaln.sam 162354\n",
      "../nsd_alns/05_nsdaln.sam 216669\n",
      "../nsd_alns/11_nsdaln.sam 296287\n",
      "../nsd_alns/03_nsdaln.sam 319833\n",
      "../nsd_alns/12_nsdaln.sam 388788\n",
      "../nsd_alns/06_nsdaln.sam 428804\n",
      "../nsd_alns/01_nsdaln.sam 497341\n",
      "../nsd_alns/10_nsdaln.sam 547817\n",
      "../nsd_alns/09_nsdaln.sam 594563\n",
      "../nsd_alns/04_nsdaln.sam 616178\n",
      "../TLS129_nsd_alns/07_nsdaln.sam 82004\n",
      "../TLS129_nsd_alns/02_nsdaln.sam 157248\n",
      "../TLS129_nsd_alns/08_nsdaln.sam 240253\n",
      "../TLS129_nsd_alns/05_nsdaln.sam 329055\n",
      "../TLS129_nsd_alns/11_nsdaln.sam 449631\n",
      "../TLS129_nsd_alns/03_nsdaln.sam 555095\n",
      "../TLS129_nsd_alns/12_nsdaln.sam 693248\n",
      "../TLS129_nsd_alns/06_nsdaln.sam 781348\n",
      "../TLS129_nsd_alns/01_nsdaln.sam 891256\n",
      "../TLS129_nsd_alns/10_nsdaln.sam 971596\n",
      "../TLS129_nsd_alns/09_nsdaln.sam 1049194\n",
      "../TLS129_nsd_alns/04_nsdaln.sam 1143599\n"
     ]
    },
    {
     "data": {
      "text/html": "<div>\n<style scoped>\n    .dataframe tbody tr th:only-of-type {\n        vertical-align: middle;\n    }\n\n    .dataframe tbody tr th {\n        vertical-align: top;\n    }\n\n    .dataframe thead th {\n        text-align: right;\n    }\n</style>\n<table border=\"1\" class=\"dataframe\">\n  <thead>\n    <tr style=\"text-align: right;\">\n      <th></th>\n      <th>QNAME</th>\n      <th>FLAG</th>\n      <th>RNAME</th>\n      <th>POS</th>\n      <th>MAPQ</th>\n      <th>CIGAR</th>\n      <th>RNEXT</th>\n      <th>PNEXT</th>\n      <th>TLEN</th>\n      <th>SEQ</th>\n      <th>QUAL</th>\n      <th>RIGHT</th>\n      <th>LENGTH</th>\n      <th>SAMPLE</th>\n    </tr>\n  </thead>\n  <tbody>\n    <tr>\n      <th>1</th>\n      <td>ea94113f-90b0-4e29-bf7c-d60d33bb089a</td>\n      <td>16</td>\n      <td>Copy</td>\n      <td>703</td>\n      <td>60</td>\n      <td>39M3D42M1D5M4D6M1I30M35S</td>\n      <td>*</td>\n      <td>0</td>\n      <td>0</td>\n      <td>GACACAACTGTGTTCACTAGCAACCCCAAACAGACACCATGCACCT...</td>\n      <td>'*&amp;',84&gt;%*18A4120.:89&lt;&lt;4A1))FFFEHGB</td>\n      <td>833</td>\n      <td>123</td>\n      <td>07_nsdaln.sam</td>\n    </tr>\n    <tr>\n      <th>5</th>\n      <td>08718db8-4f2e-45c5-a089-8b8a318c6666</td>\n      <td>16</td>\n      <td>Copy</td>\n      <td>703</td>\n      <td>60</td>\n      <td>54M2I42M38S</td>\n      <td>*</td>\n      <td>0</td>\n      <td>0</td>\n      <td>GACACAACTGTGTTCACTAGCAACCCCAAACAGACACCATGGTGCA...</td>\n      <td>2=+.36/$%(/3889:1204473'2&amp;#01:4</td>\n      <td>799</td>\n      <td>98</td>\n      <td>07_nsdaln.sam</td>\n    </tr>\n    <tr>\n      <th>9</th>\n      <td>c1bae6c7-9206-434a-b51e-477fb70279b9</td>\n      <td>0</td>\n      <td>Copy</td>\n      <td>703</td>\n      <td>60</td>\n      <td>40M1D12M1D4M1D17M2I4M3I26M2I24M130N23M1D18M1I1...</td>\n      <td>*</td>\n      <td>0</td>\n      <td>0</td>\n      <td>GACACAACTGTGTTCACTAGCAACCTCAAGCAGACACCATGTTTAC...</td>\n      <td>//,7:/2?203/+6/.+,,16/1GAAA35%-25.72634,(%&amp;%%&amp;...</td>\n      <td>1017</td>\n      <td>188</td>\n      <td>07_nsdaln.sam</td>\n    </tr>\n    <tr>\n      <th>16</th>\n      <td>3c364cc7-b40f-4629-a9be-349086876acf</td>\n      <td>0</td>\n      <td>Copy</td>\n      <td>703</td>\n      <td>60</td>\n      <td>64M1D10M5D30M33S</td>\n      <td>*</td>\n      <td>0</td>\n      <td>0</td>\n      <td>GACACAACTGTGTTCACTAGCAACCTCAAACAGACACCATGGTACA...</td>\n      <td>?=2/8-0&gt;=?&gt;</td>\n      <td>813</td>\n      <td>104</td>\n      <td>07_nsdaln.sam</td>\n    </tr>\n    <tr>\n      <th>20</th>\n      <td>2c71b5c8-8d1d-4d88-b4d5-f9bc7b9194f2</td>\n      <td>0</td>\n      <td>Copy</td>\n      <td>703</td>\n      <td>60</td>\n      <td>15M1D37M1D4M1D25M1D43M4D2M126N11M3I6M1I43M33S</td>\n      <td>*</td>\n      <td>0</td>\n      <td>0</td>\n      <td>GACACAACTGTGTTCCTAGCAACCTCAAACAGACACCATGGTGCAC...</td>\n      <td>CA</td>\n      <td>1023</td>\n      <td>190</td>\n      <td>07_nsdaln.sam</td>\n    </tr>\n    <tr>\n      <th>...</th>\n      <td>...</td>\n      <td>...</td>\n      <td>...</td>\n      <td>...</td>\n      <td>...</td>\n      <td>...</td>\n      <td>...</td>\n      <td>...</td>\n      <td>...</td>\n      <td>...</td>\n      <td>...</td>\n      <td>...</td>\n      <td>...</td>\n      <td>...</td>\n    </tr>\n    <tr>\n      <th>271993</th>\n      <td>e5aba6fe-a882-47b4-9a52-4de42204525b</td>\n      <td>0</td>\n      <td>Copy</td>\n      <td>710</td>\n      <td>41</td>\n      <td>8S4M1D44M3D13M4D3M1I5M2D41M31S</td>\n      <td>*</td>\n      <td>0</td>\n      <td>0</td>\n      <td>TTCTTTGGCTGTTTCACTAGCAACCTCAAACAGACACCATGGTGCA...</td>\n      <td>24.++($$$$$)/56+,(0(.*+.108()&amp;1.0.61=&lt;5;().*/)...</td>\n      <td>830</td>\n      <td>111</td>\n      <td>04_nsdaln.sam</td>\n    </tr>\n    <tr>\n      <th>271997</th>\n      <td>78bfc947-951e-4e88-b45c-00063db530d3</td>\n      <td>16</td>\n      <td>Copy</td>\n      <td>706</td>\n      <td>60</td>\n      <td>1S38M2D10M1D2M2I22M1I3M3D15M1D5M2D23M130N12M1D...</td>\n      <td>*</td>\n      <td>0</td>\n      <td>0</td>\n      <td>GACAACTGCGTTCACTAGCAACCTCAAACAGACACCATGGCACCTG...</td>\n      <td>A&amp;5&gt;&lt;,%((75,,/,'021;182/73&gt;=79:17&lt;22</td>\n      <td>2359</td>\n      <td>636</td>\n      <td>04_nsdaln.sam</td>\n    </tr>\n    <tr>\n      <th>272001</th>\n      <td>62e44b69-0e43-43b3-a21d-1bcf2d342843</td>\n      <td>16</td>\n      <td>Copy</td>\n      <td>706</td>\n      <td>31</td>\n      <td>1S10M1I43M1I9M3I2M1D13M1D2M2D33M4I12M65S</td>\n      <td>*</td>\n      <td>0</td>\n      <td>0</td>\n      <td>GACAACTGTGTCTCACTAGCAACCCCAAACAGACACCATGGTGCAC...</td>\n      <td>3:*62'&amp;&amp;&amp;*.%%$)2*0--22//&amp;#(33.07&gt;&lt;8/+677?15884...</td>\n      <td>834</td>\n      <td>133</td>\n      <td>04_nsdaln.sam</td>\n    </tr>\n    <tr>\n      <th>272002</th>\n      <td>94fefb13-5787-4835-8fc1-19501d34b235</td>\n      <td>16</td>\n      <td>Copy</td>\n      <td>703</td>\n      <td>60</td>\n      <td>8M2I19M1D23M2D8M1I4M1D2M1D2M2I21M2D38M238S</td>\n      <td>*</td>\n      <td>0</td>\n      <td>0</td>\n      <td>GACACAACCGTGTGTTCACTAGCAACCTCAACAGACACCATGGTGC...</td>\n      <td>A=.,*4-)&amp;,,/&amp;2/--:715?;</td>\n      <td>835</td>\n      <td>130</td>\n      <td>04_nsdaln.sam</td>\n    </tr>\n    <tr>\n      <th>272006</th>\n      <td>92715bd8-db8f-46b9-9268-cd19f53d42ed</td>\n      <td>0</td>\n      <td>Copy</td>\n      <td>703</td>\n      <td>60</td>\n      <td>85M1I1M1I3M1D40M130N18M1I8M3I8M1I8M1I1M2D18M32S</td>\n      <td>*</td>\n      <td>0</td>\n      <td>0</td>\n      <td>GACACAACTGTGTTCACTAACGGCCTCAAACGAACACCATGGTGCA...</td>\n      <td>9841978=/&gt;;:=:*&amp;',)*+%&amp;;104-176&amp;&amp;)9=;59</td>\n      <td>1026</td>\n      <td>198</td>\n      <td>04_nsdaln.sam</td>\n    </tr>\n  </tbody>\n</table>\n<p>1143599 rows × 14 columns</p>\n</div>",
      "text/plain": "                                       QNAME  FLAG  ... LENGTH         SAMPLE\n1       ea94113f-90b0-4e29-bf7c-d60d33bb089a    16  ...    123  07_nsdaln.sam\n5       08718db8-4f2e-45c5-a089-8b8a318c6666    16  ...     98  07_nsdaln.sam\n9       c1bae6c7-9206-434a-b51e-477fb70279b9     0  ...    188  07_nsdaln.sam\n16      3c364cc7-b40f-4629-a9be-349086876acf     0  ...    104  07_nsdaln.sam\n20      2c71b5c8-8d1d-4d88-b4d5-f9bc7b9194f2     0  ...    190  07_nsdaln.sam\n...                                      ...   ...  ...    ...            ...\n271993  e5aba6fe-a882-47b4-9a52-4de42204525b     0  ...    111  04_nsdaln.sam\n271997  78bfc947-951e-4e88-b45c-00063db530d3    16  ...    636  04_nsdaln.sam\n272001  62e44b69-0e43-43b3-a21d-1bcf2d342843    16  ...    133  04_nsdaln.sam\n272002  94fefb13-5787-4835-8fc1-19501d34b235    16  ...    130  04_nsdaln.sam\n272006  92715bd8-db8f-46b9-9268-cd19f53d42ed     0  ...    198  04_nsdaln.sam\n\n[1143599 rows x 14 columns]"
     },
     "execution_count": 3,
     "metadata": {},
     "output_type": "execute_result"
    }
   ],
   "source": [
    "# Create csv files that are ready for R notebook analysis\n",
    "from Rprepper import exportForRAnalysis\n",
    "from glob import glob\n",
    "\n",
    "exportForRAnalysis(glob(\"../nsd_alns/*.sam\"), \"TLS137_Rdf.csv\")\n",
    "exportForRAnalysis(glob(\"../TLS129_nsd_alns/*.sam\"), \"TLS129_Rdf.csv\")\n",
    "\n",
    "\n"
   ]
  }
 ],
 "metadata": {
  "kernelspec": {
   "display_name": "Python 3.9.1 64-bit",
   "metadata": {
    "interpreter": {
     "hash": "aee8b7b246df8f9039afb4144a1f6fd8d2ca17a180786b69acc140d282b71a49"
    }
   },
   "name": "python3"
  },
  "language_info": {
   "codemirror_mode": {
    "name": "ipython",
    "version": 3
   },
   "file_extension": ".py",
   "mimetype": "text/x-python",
   "name": "python",
   "nbconvert_exporter": "python",
   "pygments_lexer": "ipython3",
   "version": "3.9.1"
  },
  "orig_nbformat": 2
 },
 "nbformat": 4,
 "nbformat_minor": 2
}